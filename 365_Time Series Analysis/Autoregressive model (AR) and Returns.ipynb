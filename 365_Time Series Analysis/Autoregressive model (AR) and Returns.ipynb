{
 "cells": [
  {
   "cell_type": "code",
   "execution_count": 1,
   "id": "d8775d88",
   "metadata": {},
   "outputs": [],
   "source": [
    "import numpy as np\n",
    "import pandas as pd\n",
    "import matplotlib.pyplot as plt\n",
    "import seaborn as sns\n",
    "sns.set()"
   ]
  },
  {
   "cell_type": "markdown",
   "id": "06c3cdbf",
   "metadata": {},
   "source": [
    "## Importing the data"
   ]
  },
  {
   "cell_type": "code",
   "execution_count": 2,
   "id": "cdc7acb7",
   "metadata": {},
   "outputs": [
    {
     "data": {
      "text/html": [
       "<div>\n",
       "<style scoped>\n",
       "    .dataframe tbody tr th:only-of-type {\n",
       "        vertical-align: middle;\n",
       "    }\n",
       "\n",
       "    .dataframe tbody tr th {\n",
       "        vertical-align: top;\n",
       "    }\n",
       "\n",
       "    .dataframe thead th {\n",
       "        text-align: right;\n",
       "    }\n",
       "</style>\n",
       "<table border=\"1\" class=\"dataframe\">\n",
       "  <thead>\n",
       "    <tr style=\"text-align: right;\">\n",
       "      <th></th>\n",
       "      <th>date</th>\n",
       "      <th>spx</th>\n",
       "      <th>dax</th>\n",
       "      <th>ftse</th>\n",
       "      <th>nikkei</th>\n",
       "    </tr>\n",
       "  </thead>\n",
       "  <tbody>\n",
       "    <tr>\n",
       "      <th>0</th>\n",
       "      <td>07/01/1994</td>\n",
       "      <td>469.90</td>\n",
       "      <td>2224.95</td>\n",
       "      <td>3445.98</td>\n",
       "      <td>18124.01</td>\n",
       "    </tr>\n",
       "    <tr>\n",
       "      <th>1</th>\n",
       "      <td>10/01/1994</td>\n",
       "      <td>475.27</td>\n",
       "      <td>2225.00</td>\n",
       "      <td>3440.58</td>\n",
       "      <td>18443.44</td>\n",
       "    </tr>\n",
       "    <tr>\n",
       "      <th>2</th>\n",
       "      <td>11/01/1994</td>\n",
       "      <td>474.13</td>\n",
       "      <td>2228.10</td>\n",
       "      <td>3413.77</td>\n",
       "      <td>18485.25</td>\n",
       "    </tr>\n",
       "    <tr>\n",
       "      <th>3</th>\n",
       "      <td>12/01/1994</td>\n",
       "      <td>474.17</td>\n",
       "      <td>2182.06</td>\n",
       "      <td>3372.02</td>\n",
       "      <td>18793.88</td>\n",
       "    </tr>\n",
       "    <tr>\n",
       "      <th>4</th>\n",
       "      <td>13/01/1994</td>\n",
       "      <td>472.47</td>\n",
       "      <td>2142.37</td>\n",
       "      <td>3360.01</td>\n",
       "      <td>18577.26</td>\n",
       "    </tr>\n",
       "  </tbody>\n",
       "</table>\n",
       "</div>"
      ],
      "text/plain": [
       "         date     spx      dax     ftse    nikkei\n",
       "0  07/01/1994  469.90  2224.95  3445.98  18124.01\n",
       "1  10/01/1994  475.27  2225.00  3440.58  18443.44\n",
       "2  11/01/1994  474.13  2228.10  3413.77  18485.25\n",
       "3  12/01/1994  474.17  2182.06  3372.02  18793.88\n",
       "4  13/01/1994  472.47  2142.37  3360.01  18577.26"
      ]
     },
     "execution_count": 2,
     "metadata": {},
     "output_type": "execute_result"
    }
   ],
   "source": [
    "raw_data = pd.read_csv('Index2018.csv')\n",
    "raw_data.head()\n",
    "\n",
    "# market indexes"
   ]
  },
  {
   "cell_type": "code",
   "execution_count": 3,
   "id": "9ab40262",
   "metadata": {},
   "outputs": [],
   "source": [
    "df = raw_data.copy()"
   ]
  },
  {
   "cell_type": "markdown",
   "id": "f59d6df7",
   "metadata": {},
   "source": [
    "## Examining the data"
   ]
  },
  {
   "cell_type": "code",
   "execution_count": 4,
   "id": "0bbaa6d9",
   "metadata": {},
   "outputs": [
    {
     "data": {
      "text/html": [
       "<div>\n",
       "<style scoped>\n",
       "    .dataframe tbody tr th:only-of-type {\n",
       "        vertical-align: middle;\n",
       "    }\n",
       "\n",
       "    .dataframe tbody tr th {\n",
       "        vertical-align: top;\n",
       "    }\n",
       "\n",
       "    .dataframe thead th {\n",
       "        text-align: right;\n",
       "    }\n",
       "</style>\n",
       "<table border=\"1\" class=\"dataframe\">\n",
       "  <thead>\n",
       "    <tr style=\"text-align: right;\">\n",
       "      <th></th>\n",
       "      <th>spx</th>\n",
       "      <th>dax</th>\n",
       "      <th>ftse</th>\n",
       "      <th>nikkei</th>\n",
       "    </tr>\n",
       "  </thead>\n",
       "  <tbody>\n",
       "    <tr>\n",
       "      <th>count</th>\n",
       "      <td>6269.000000</td>\n",
       "      <td>6269.000000</td>\n",
       "      <td>6269.000000</td>\n",
       "      <td>6269.000000</td>\n",
       "    </tr>\n",
       "    <tr>\n",
       "      <th>mean</th>\n",
       "      <td>1288.127542</td>\n",
       "      <td>6080.063363</td>\n",
       "      <td>5422.713545</td>\n",
       "      <td>14597.055700</td>\n",
       "    </tr>\n",
       "    <tr>\n",
       "      <th>std</th>\n",
       "      <td>487.586473</td>\n",
       "      <td>2754.361032</td>\n",
       "      <td>1145.572428</td>\n",
       "      <td>4043.122953</td>\n",
       "    </tr>\n",
       "    <tr>\n",
       "      <th>min</th>\n",
       "      <td>438.920000</td>\n",
       "      <td>1911.700000</td>\n",
       "      <td>2876.600000</td>\n",
       "      <td>7054.980000</td>\n",
       "    </tr>\n",
       "    <tr>\n",
       "      <th>25%</th>\n",
       "      <td>990.671905</td>\n",
       "      <td>4069.350000</td>\n",
       "      <td>4486.100000</td>\n",
       "      <td>10709.290000</td>\n",
       "    </tr>\n",
       "    <tr>\n",
       "      <th>50%</th>\n",
       "      <td>1233.420000</td>\n",
       "      <td>5773.340000</td>\n",
       "      <td>5662.430000</td>\n",
       "      <td>15028.170000</td>\n",
       "    </tr>\n",
       "    <tr>\n",
       "      <th>75%</th>\n",
       "      <td>1459.987747</td>\n",
       "      <td>7443.070000</td>\n",
       "      <td>6304.250000</td>\n",
       "      <td>17860.470000</td>\n",
       "    </tr>\n",
       "    <tr>\n",
       "      <th>max</th>\n",
       "      <td>2872.867839</td>\n",
       "      <td>13559.600000</td>\n",
       "      <td>7778.637689</td>\n",
       "      <td>24124.150000</td>\n",
       "    </tr>\n",
       "  </tbody>\n",
       "</table>\n",
       "</div>"
      ],
      "text/plain": [
       "               spx           dax         ftse        nikkei\n",
       "count  6269.000000   6269.000000  6269.000000   6269.000000\n",
       "mean   1288.127542   6080.063363  5422.713545  14597.055700\n",
       "std     487.586473   2754.361032  1145.572428   4043.122953\n",
       "min     438.920000   1911.700000  2876.600000   7054.980000\n",
       "25%     990.671905   4069.350000  4486.100000  10709.290000\n",
       "50%    1233.420000   5773.340000  5662.430000  15028.170000\n",
       "75%    1459.987747   7443.070000  6304.250000  17860.470000\n",
       "max    2872.867839  13559.600000  7778.637689  24124.150000"
      ]
     },
     "execution_count": 4,
     "metadata": {},
     "output_type": "execute_result"
    }
   ],
   "source": [
    "df.describe()"
   ]
  },
  {
   "cell_type": "code",
   "execution_count": 5,
   "id": "96a1f800",
   "metadata": {},
   "outputs": [
    {
     "data": {
      "text/plain": [
       "date      0\n",
       "spx       0\n",
       "dax       0\n",
       "ftse      0\n",
       "nikkei    0\n",
       "dtype: int64"
      ]
     },
     "execution_count": 5,
     "metadata": {},
     "output_type": "execute_result"
    }
   ],
   "source": [
    "df.isna().sum()"
   ]
  },
  {
   "cell_type": "markdown",
   "id": "5f6fffcb",
   "metadata": {},
   "source": [
    "## Plotting the data"
   ]
  },
  {
   "cell_type": "code",
   "execution_count": 6,
   "id": "69b08b9e",
   "metadata": {},
   "outputs": [
    {
     "data": {
      "image/png": "[encoded data removed]",
      "text/plain": [
       "<Figure size 1440x576 with 1 Axes>"
      ]
     },
     "metadata": {},
     "output_type": "display_data"
    }
   ],
   "source": [
    "df.spx.plot(label = \"S&P500 Prices\", figsize = (20, 8))\n",
    "df.ftse.plot(label = \"FTSE100 Prices\")\n",
    "plt.title('S&P vs FTSE', size = 24)\n",
    "plt.legend(fontsize = 20)\n",
    "plt.show()"
   ]
  },
  {
   "cell_type": "markdown",
   "id": "231f7c3b",
   "metadata": {},
   "source": [
    "## Transform raw data into Time-Series Data"
   ]
  },
  {
   "cell_type": "code",
   "execution_count": 7,
   "id": "bc0fbc7f",
   "metadata": {},
   "outputs": [
    {
     "data": {
      "text/html": [
       "<div>\n",
       "<style scoped>\n",
       "    .dataframe tbody tr th:only-of-type {\n",
       "        vertical-align: middle;\n",
       "    }\n",
       "\n",
       "    .dataframe tbody tr th {\n",
       "        vertical-align: top;\n",
       "    }\n",
       "\n",
       "    .dataframe thead th {\n",
       "        text-align: right;\n",
       "    }\n",
       "</style>\n",
       "<table border=\"1\" class=\"dataframe\">\n",
       "  <thead>\n",
       "    <tr style=\"text-align: right;\">\n",
       "      <th></th>\n",
       "      <th>spx</th>\n",
       "      <th>dax</th>\n",
       "      <th>ftse</th>\n",
       "      <th>nikkei</th>\n",
       "    </tr>\n",
       "    <tr>\n",
       "      <th>date</th>\n",
       "      <th></th>\n",
       "      <th></th>\n",
       "      <th></th>\n",
       "      <th></th>\n",
       "    </tr>\n",
       "  </thead>\n",
       "  <tbody>\n",
       "    <tr>\n",
       "      <th>1994-01-07</th>\n",
       "      <td>469.90</td>\n",
       "      <td>2224.95</td>\n",
       "      <td>3445.98</td>\n",
       "      <td>18124.01</td>\n",
       "    </tr>\n",
       "    <tr>\n",
       "      <th>1994-01-10</th>\n",
       "      <td>475.27</td>\n",
       "      <td>2225.00</td>\n",
       "      <td>3440.58</td>\n",
       "      <td>18443.44</td>\n",
       "    </tr>\n",
       "    <tr>\n",
       "      <th>1994-01-11</th>\n",
       "      <td>474.13</td>\n",
       "      <td>2228.10</td>\n",
       "      <td>3413.77</td>\n",
       "      <td>18485.25</td>\n",
       "    </tr>\n",
       "    <tr>\n",
       "      <th>1994-01-12</th>\n",
       "      <td>474.17</td>\n",
       "      <td>2182.06</td>\n",
       "      <td>3372.02</td>\n",
       "      <td>18793.88</td>\n",
       "    </tr>\n",
       "    <tr>\n",
       "      <th>1994-01-13</th>\n",
       "      <td>472.47</td>\n",
       "      <td>2142.37</td>\n",
       "      <td>3360.01</td>\n",
       "      <td>18577.26</td>\n",
       "    </tr>\n",
       "  </tbody>\n",
       "</table>\n",
       "</div>"
      ],
      "text/plain": [
       "               spx      dax     ftse    nikkei\n",
       "date                                          \n",
       "1994-01-07  469.90  2224.95  3445.98  18124.01\n",
       "1994-01-10  475.27  2225.00  3440.58  18443.44\n",
       "1994-01-11  474.13  2228.10  3413.77  18485.25\n",
       "1994-01-12  474.17  2182.06  3372.02  18793.88\n",
       "1994-01-13  472.47  2142.37  3360.01  18577.26"
      ]
     },
     "execution_count": 7,
     "metadata": {},
     "output_type": "execute_result"
    }
   ],
   "source": [
    "df.date = pd.to_datetime(df.date, dayfirst = True)\n",
    "df.set_index('date', inplace = True)\n",
    "df.head()"
   ]
  },
  {
   "cell_type": "markdown",
   "id": "43e8875d",
   "metadata": {},
   "source": [
    "### Set the desired frequency"
   ]
  },
  {
   "cell_type": "code",
   "execution_count": 8,
   "id": "400e0574",
   "metadata": {},
   "outputs": [
    {
     "data": {
      "text/html": [
       "<div>\n",
       "<style scoped>\n",
       "    .dataframe tbody tr th:only-of-type {\n",
       "        vertical-align: middle;\n",
       "    }\n",
       "\n",
       "    .dataframe tbody tr th {\n",
       "        vertical-align: top;\n",
       "    }\n",
       "\n",
       "    .dataframe thead th {\n",
       "        text-align: right;\n",
       "    }\n",
       "</style>\n",
       "<table border=\"1\" class=\"dataframe\">\n",
       "  <thead>\n",
       "    <tr style=\"text-align: right;\">\n",
       "      <th></th>\n",
       "      <th>spx</th>\n",
       "      <th>dax</th>\n",
       "      <th>ftse</th>\n",
       "      <th>nikkei</th>\n",
       "    </tr>\n",
       "    <tr>\n",
       "      <th>date</th>\n",
       "      <th></th>\n",
       "      <th></th>\n",
       "      <th></th>\n",
       "      <th></th>\n",
       "    </tr>\n",
       "  </thead>\n",
       "  <tbody>\n",
       "    <tr>\n",
       "      <th>1994-01-07</th>\n",
       "      <td>469.90</td>\n",
       "      <td>2224.95</td>\n",
       "      <td>3445.98</td>\n",
       "      <td>18124.01</td>\n",
       "    </tr>\n",
       "    <tr>\n",
       "      <th>1994-01-10</th>\n",
       "      <td>475.27</td>\n",
       "      <td>2225.00</td>\n",
       "      <td>3440.58</td>\n",
       "      <td>18443.44</td>\n",
       "    </tr>\n",
       "    <tr>\n",
       "      <th>1994-01-11</th>\n",
       "      <td>474.13</td>\n",
       "      <td>2228.10</td>\n",
       "      <td>3413.77</td>\n",
       "      <td>18485.25</td>\n",
       "    </tr>\n",
       "    <tr>\n",
       "      <th>1994-01-12</th>\n",
       "      <td>474.17</td>\n",
       "      <td>2182.06</td>\n",
       "      <td>3372.02</td>\n",
       "      <td>18793.88</td>\n",
       "    </tr>\n",
       "    <tr>\n",
       "      <th>1994-01-13</th>\n",
       "      <td>472.47</td>\n",
       "      <td>2142.37</td>\n",
       "      <td>3360.01</td>\n",
       "      <td>18577.26</td>\n",
       "    </tr>\n",
       "  </tbody>\n",
       "</table>\n",
       "</div>"
      ],
      "text/plain": [
       "               spx      dax     ftse    nikkei\n",
       "date                                          \n",
       "1994-01-07  469.90  2224.95  3445.98  18124.01\n",
       "1994-01-10  475.27  2225.00  3440.58  18443.44\n",
       "1994-01-11  474.13  2228.10  3413.77  18485.25\n",
       "1994-01-12  474.17  2182.06  3372.02  18793.88\n",
       "1994-01-13  472.47  2142.37  3360.01  18577.26"
      ]
     },
     "execution_count": 8,
     "metadata": {},
     "output_type": "execute_result"
    }
   ],
   "source": [
    "df = df.asfreq('b') # 'b' - business days\n",
    "df.head()"
   ]
  },
  {
   "cell_type": "markdown",
   "id": "d16a9574",
   "metadata": {},
   "source": [
    "## Missing values"
   ]
  },
  {
   "cell_type": "code",
   "execution_count": 9,
   "id": "ff70b398",
   "metadata": {},
   "outputs": [
    {
     "data": {
      "text/plain": [
       "spx       8\n",
       "dax       8\n",
       "ftse      8\n",
       "nikkei    8\n",
       "dtype: int64"
      ]
     },
     "execution_count": 9,
     "metadata": {},
     "output_type": "execute_result"
    }
   ],
   "source": [
    "df.isna().sum()"
   ]
  },
  {
   "cell_type": "code",
   "execution_count": 10,
   "id": "9d4ae6f2",
   "metadata": {},
   "outputs": [
    {
     "data": {
      "text/plain": [
       "spx       0\n",
       "dax       0\n",
       "ftse      0\n",
       "nikkei    0\n",
       "dtype: int64"
      ]
     },
     "execution_count": 10,
     "metadata": {},
     "output_type": "execute_result"
    }
   ],
   "source": [
    "df.fillna(method = 'ffill', inplace = True)\n",
    "df.isna().sum()"
   ]
  },
  {
   "cell_type": "markdown",
   "id": "7034bd23",
   "metadata": {},
   "source": [
    "## The ACF"
   ]
  },
  {
   "cell_type": "code",
   "execution_count": 11,
   "id": "da7eeed1",
   "metadata": {},
   "outputs": [
    {
     "data": {
      "image/png": "[encoded data removed]",
      "text/plain": [
       "<Figure size 432x288 with 1 Axes>"
      ]
     },
     "metadata": {},
     "output_type": "display_data"
    }
   ],
   "source": [
    "# ACF - autocorrelation function\n",
    "import statsmodels.graphics.tsaplots as sgt\n",
    "\n",
    "sgt.plot_acf(df.ftse, lags = 40, zero = False)\n",
    "plt.title('Autocorrelation function of FTSE', size = 20)\n",
    "plt.show()"
   ]
  },
  {
   "cell_type": "markdown",
   "id": "06b28539",
   "metadata": {},
   "source": [
    "## The PACF"
   ]
  },
  {
   "cell_type": "code",
   "execution_count": 14,
   "id": "b60cc9be",
   "metadata": {},
   "outputs": [
    {
     "data": {
      "image/png": "[encoded data removed]",
      "text/plain": [
       "<Figure size 432x288 with 1 Axes>"
      ]
     },
     "metadata": {},
     "output_type": "display_data"
    }
   ],
   "source": [
    "sgt.plot_pacf(df.ftse, lags = 40, zero = False, alpha = 0.05, method = ('ols'))\n",
    "plt.title('PACF of FTSE', size = 20)\n",
    "plt.show()"
   ]
  },
  {
   "cell_type": "markdown",
   "id": "06e9ec19",
   "metadata": {},
   "source": [
    "## AR(1) model"
   ]
  },
  {
   "cell_type": "code",
   "execution_count": 20,
   "id": "e920b49a",
   "metadata": {},
   "outputs": [
    {
     "data": {
      "text/html": [
       "<table class=\"simpletable\">\n",
       "<caption>SARIMAX Results</caption>\n",
       "<tr>\n",
       "  <th>Dep. Variable:</th>         <td>ftse</td>       <th>  No. Observations:  </th>    <td>6277</td>   \n",
       "</tr>\n",
       "<tr>\n",
       "  <th>Model:</th>            <td>ARIMA(1, 0, 0)</td>  <th>  Log Likelihood     </th> <td>-34437.979</td>\n",
       "</tr>\n",
       "<tr>\n",
       "  <th>Date:</th>            <td>Mon, 14 Nov 2022</td> <th>  AIC                </th>  <td>68881.958</td>\n",
       "</tr>\n",
       "<tr>\n",
       "  <th>Time:</th>                <td>16:25:26</td>     <th>  BIC                </th>  <td>68902.192</td>\n",
       "</tr>\n",
       "<tr>\n",
       "  <th>Sample:</th>             <td>01-07-1994</td>    <th>  HQIC               </th>  <td>68888.968</td>\n",
       "</tr>\n",
       "<tr>\n",
       "  <th></th>                   <td>- 01-29-2018</td>   <th>                     </th>      <td> </td>    \n",
       "</tr>\n",
       "<tr>\n",
       "  <th>Covariance Type:</th>        <td>opg</td>       <th>                     </th>      <td> </td>    \n",
       "</tr>\n",
       "</table>\n",
       "<table class=\"simpletable\">\n",
       "<tr>\n",
       "     <td></td>       <th>coef</th>     <th>std err</th>      <th>z</th>      <th>P>|z|</th>  <th>[0.025</th>    <th>0.975]</th>  \n",
       "</tr>\n",
       "<tr>\n",
       "  <th>const</th>  <td> 5423.6820</td> <td>  560.771</td> <td>    9.672</td> <td> 0.000</td> <td> 4324.592</td> <td> 6522.772</td>\n",
       "</tr>\n",
       "<tr>\n",
       "  <th>ar.L1</th>  <td>    0.9990</td> <td>    0.001</td> <td> 1383.493</td> <td> 0.000</td> <td>    0.998</td> <td>    1.000</td>\n",
       "</tr>\n",
       "<tr>\n",
       "  <th>sigma2</th> <td> 3407.9483</td> <td>   36.199</td> <td>   94.145</td> <td> 0.000</td> <td> 3337.000</td> <td> 3478.897</td>\n",
       "</tr>\n",
       "</table>\n",
       "<table class=\"simpletable\">\n",
       "<tr>\n",
       "  <th>Ljung-Box (L1) (Q):</th>     <td>0.49</td> <th>  Jarque-Bera (JB):  </th> <td>3660.69</td>\n",
       "</tr>\n",
       "<tr>\n",
       "  <th>Prob(Q):</th>                <td>0.48</td> <th>  Prob(JB):          </th>  <td>0.00</td>  \n",
       "</tr>\n",
       "<tr>\n",
       "  <th>Heteroskedasticity (H):</th> <td>1.05</td> <th>  Skew:              </th>  <td>-0.19</td> \n",
       "</tr>\n",
       "<tr>\n",
       "  <th>Prob(H) (two-sided):</th>    <td>0.23</td> <th>  Kurtosis:          </th>  <td>6.72</td>  \n",
       "</tr>\n",
       "</table><br/><br/>Warnings:<br/>[1] Covariance matrix calculated using the outer product of gradients (complex-step)."
      ],
      "text/plain": [
       "<class 'statsmodels.iolib.summary.Summary'>\n",
       "\"\"\"\n",
       "                               SARIMAX Results                                \n",
       "==============================================================================\n",
       "Dep. Variable:                   ftse   No. Observations:                 6277\n",
       "Model:                 ARIMA(1, 0, 0)   Log Likelihood              -34437.979\n",
       "Date:                Mon, 14 Nov 2022   AIC                          68881.958\n",
       "Time:                        16:25:26   BIC                          68902.192\n",
       "Sample:                    01-07-1994   HQIC                         68888.968\n",
       "                         - 01-29-2018                                         \n",
       "Covariance Type:                  opg                                         \n",
       "==============================================================================\n",
       "                 coef    std err          z      P>|z|      [0.025      0.975]\n",
       "------------------------------------------------------------------------------\n",
       "const       5423.6820    560.771      9.672      0.000    4324.592    6522.772\n",
       "ar.L1          0.9990      0.001   1383.493      0.000       0.998       1.000\n",
       "sigma2      3407.9483     36.199     94.145      0.000    3337.000    3478.897\n",
       "===================================================================================\n",
       "Ljung-Box (L1) (Q):                   0.49   Jarque-Bera (JB):              3660.69\n",
       "Prob(Q):                              0.48   Prob(JB):                         0.00\n",
       "Heteroskedasticity (H):               1.05   Skew:                            -0.19\n",
       "Prob(H) (two-sided):                  0.23   Kurtosis:                         6.72\n",
       "===================================================================================\n",
       "\n",
       "Warnings:\n",
       "[1] Covariance matrix calculated using the outer product of gradients (complex-step).\n",
       "\"\"\""
      ]
     },
     "execution_count": 20,
     "metadata": {},
     "output_type": "execute_result"
    }
   ],
   "source": [
    "from statsmodels.tsa.arima.model import ARIMA\n",
    "ar = ARIMA(df.ftse, order = (1, 0, 0)) # simple AR model\n",
    "results_ar = ar.fit()\n",
    "results_ar.summary()"
   ]
  },
  {
   "cell_type": "markdown",
   "id": "d65badcf",
   "metadata": {},
   "source": [
    "## Higher-Lag AR Models"
   ]
  },
  {
   "cell_type": "code",
   "execution_count": 21,
   "id": "247a23e4",
   "metadata": {},
   "outputs": [
    {
     "data": {
      "text/html": [
       "<table class=\"simpletable\">\n",
       "<caption>SARIMAX Results</caption>\n",
       "<tr>\n",
       "  <th>Dep. Variable:</th>         <td>ftse</td>       <th>  No. Observations:  </th>    <td>6277</td>   \n",
       "</tr>\n",
       "<tr>\n",
       "  <th>Model:</th>            <td>ARIMA(2, 0, 0)</td>  <th>  Log Likelihood     </th> <td>-34437.842</td>\n",
       "</tr>\n",
       "<tr>\n",
       "  <th>Date:</th>            <td>Mon, 14 Nov 2022</td> <th>  AIC                </th>  <td>68883.684</td>\n",
       "</tr>\n",
       "<tr>\n",
       "  <th>Time:</th>                <td>16:31:09</td>     <th>  BIC                </th>  <td>68910.663</td>\n",
       "</tr>\n",
       "<tr>\n",
       "  <th>Sample:</th>             <td>01-07-1994</td>    <th>  HQIC               </th>  <td>68893.032</td>\n",
       "</tr>\n",
       "<tr>\n",
       "  <th></th>                   <td>- 01-29-2018</td>   <th>                     </th>      <td> </td>    \n",
       "</tr>\n",
       "<tr>\n",
       "  <th>Covariance Type:</th>        <td>opg</td>       <th>                     </th>      <td> </td>    \n",
       "</tr>\n",
       "</table>\n",
       "<table class=\"simpletable\">\n",
       "<tr>\n",
       "     <td></td>       <th>coef</th>     <th>std err</th>      <th>z</th>      <th>P>|z|</th>  <th>[0.025</th>    <th>0.975]</th>  \n",
       "</tr>\n",
       "<tr>\n",
       "  <th>const</th>  <td> 5423.6798</td> <td>  480.212</td> <td>   11.294</td> <td> 0.000</td> <td> 4482.482</td> <td> 6364.878</td>\n",
       "</tr>\n",
       "<tr>\n",
       "  <th>ar.L1</th>  <td>    0.9902</td> <td>    0.009</td> <td>  112.935</td> <td> 0.000</td> <td>    0.973</td> <td>    1.007</td>\n",
       "</tr>\n",
       "<tr>\n",
       "  <th>ar.L2</th>  <td>    0.0086</td> <td>    0.009</td> <td>    0.982</td> <td> 0.326</td> <td>   -0.009</td> <td>    0.026</td>\n",
       "</tr>\n",
       "<tr>\n",
       "  <th>sigma2</th> <td> 3407.5183</td> <td>   36.308</td> <td>   93.850</td> <td> 0.000</td> <td> 3336.356</td> <td> 3478.681</td>\n",
       "</tr>\n",
       "</table>\n",
       "<table class=\"simpletable\">\n",
       "<tr>\n",
       "  <th>Ljung-Box (L1) (Q):</th>     <td>0.00</td> <th>  Jarque-Bera (JB):  </th> <td>3643.46</td>\n",
       "</tr>\n",
       "<tr>\n",
       "  <th>Prob(Q):</th>                <td>0.97</td> <th>  Prob(JB):          </th>  <td>0.00</td>  \n",
       "</tr>\n",
       "<tr>\n",
       "  <th>Heteroskedasticity (H):</th> <td>1.05</td> <th>  Skew:              </th>  <td>-0.20</td> \n",
       "</tr>\n",
       "<tr>\n",
       "  <th>Prob(H) (two-sided):</th>    <td>0.24</td> <th>  Kurtosis:          </th>  <td>6.71</td>  \n",
       "</tr>\n",
       "</table><br/><br/>Warnings:<br/>[1] Covariance matrix calculated using the outer product of gradients (complex-step)."
      ],
      "text/plain": [
       "<class 'statsmodels.iolib.summary.Summary'>\n",
       "\"\"\"\n",
       "                               SARIMAX Results                                \n",
       "==============================================================================\n",
       "Dep. Variable:                   ftse   No. Observations:                 6277\n",
       "Model:                 ARIMA(2, 0, 0)   Log Likelihood              -34437.842\n",
       "Date:                Mon, 14 Nov 2022   AIC                          68883.684\n",
       "Time:                        16:31:09   BIC                          68910.663\n",
       "Sample:                    01-07-1994   HQIC                         68893.032\n",
       "                         - 01-29-2018                                         \n",
       "Covariance Type:                  opg                                         \n",
       "==============================================================================\n",
       "                 coef    std err          z      P>|z|      [0.025      0.975]\n",
       "------------------------------------------------------------------------------\n",
       "const       5423.6798    480.212     11.294      0.000    4482.482    6364.878\n",
       "ar.L1          0.9902      0.009    112.935      0.000       0.973       1.007\n",
       "ar.L2          0.0086      0.009      0.982      0.326      -0.009       0.026\n",
       "sigma2      3407.5183     36.308     93.850      0.000    3336.356    3478.681\n",
       "===================================================================================\n",
       "Ljung-Box (L1) (Q):                   0.00   Jarque-Bera (JB):              3643.46\n",
       "Prob(Q):                              0.97   Prob(JB):                         0.00\n",
       "Heteroskedasticity (H):               1.05   Skew:                            -0.20\n",
       "Prob(H) (two-sided):                  0.24   Kurtosis:                         6.71\n",
       "===================================================================================\n",
       "\n",
       "Warnings:\n",
       "[1] Covariance matrix calculated using the outer product of gradients (complex-step).\n",
       "\"\"\""
      ]
     },
     "execution_count": 21,
     "metadata": {},
     "output_type": "execute_result"
    }
   ],
   "source": [
    "ar2 = ARIMA(df.ftse, order = (2, 0, 0)) # simple AR model\n",
    "results_ar2 = ar2.fit()\n",
    "results_ar2.summary()"
   ]
  },
  {
   "cell_type": "code",
   "execution_count": 22,
   "id": "2c045848",
   "metadata": {},
   "outputs": [
    {
     "data": {
      "text/html": [
       "<table class=\"simpletable\">\n",
       "<caption>SARIMAX Results</caption>\n",
       "<tr>\n",
       "  <th>Dep. Variable:</th>         <td>ftse</td>       <th>  No. Observations:  </th>    <td>6277</td>   \n",
       "</tr>\n",
       "<tr>\n",
       "  <th>Model:</th>            <td>ARIMA(3, 0, 0)</td>  <th>  Log Likelihood     </th> <td>-34430.886</td>\n",
       "</tr>\n",
       "<tr>\n",
       "  <th>Date:</th>            <td>Mon, 14 Nov 2022</td> <th>  AIC                </th>  <td>68871.771</td>\n",
       "</tr>\n",
       "<tr>\n",
       "  <th>Time:</th>                <td>16:32:39</td>     <th>  BIC                </th>  <td>68905.495</td>\n",
       "</tr>\n",
       "<tr>\n",
       "  <th>Sample:</th>             <td>01-07-1994</td>    <th>  HQIC               </th>  <td>68883.456</td>\n",
       "</tr>\n",
       "<tr>\n",
       "  <th></th>                   <td>- 01-29-2018</td>   <th>                     </th>      <td> </td>    \n",
       "</tr>\n",
       "<tr>\n",
       "  <th>Covariance Type:</th>        <td>opg</td>       <th>                     </th>      <td> </td>    \n",
       "</tr>\n",
       "</table>\n",
       "<table class=\"simpletable\">\n",
       "<tr>\n",
       "     <td></td>       <th>coef</th>     <th>std err</th>      <th>z</th>      <th>P>|z|</th>  <th>[0.025</th>    <th>0.975]</th>  \n",
       "</tr>\n",
       "<tr>\n",
       "  <th>const</th>  <td> 5423.6798</td> <td>  498.503</td> <td>   10.880</td> <td> 0.000</td> <td> 4446.633</td> <td> 6400.727</td>\n",
       "</tr>\n",
       "<tr>\n",
       "  <th>ar.L1</th>  <td>    0.9898</td> <td>    0.009</td> <td>  112.240</td> <td> 0.000</td> <td>    0.973</td> <td>    1.007</td>\n",
       "</tr>\n",
       "<tr>\n",
       "  <th>ar.L2</th>  <td>   -0.0381</td> <td>    0.012</td> <td>   -3.161</td> <td> 0.002</td> <td>   -0.062</td> <td>   -0.014</td>\n",
       "</tr>\n",
       "<tr>\n",
       "  <th>ar.L3</th>  <td>    0.0471</td> <td>    0.008</td> <td>    5.699</td> <td> 0.000</td> <td>    0.031</td> <td>    0.063</td>\n",
       "</tr>\n",
       "<tr>\n",
       "  <th>sigma2</th> <td> 3400.3736</td> <td>   36.273</td> <td>   93.744</td> <td> 0.000</td> <td> 3329.280</td> <td> 3471.467</td>\n",
       "</tr>\n",
       "</table>\n",
       "<table class=\"simpletable\">\n",
       "<tr>\n",
       "  <th>Ljung-Box (L1) (Q):</th>     <td>0.04</td> <th>  Jarque-Bera (JB):  </th> <td>3654.68</td>\n",
       "</tr>\n",
       "<tr>\n",
       "  <th>Prob(Q):</th>                <td>0.84</td> <th>  Prob(JB):          </th>  <td>0.00</td>  \n",
       "</tr>\n",
       "<tr>\n",
       "  <th>Heteroskedasticity (H):</th> <td>1.06</td> <th>  Skew:              </th>  <td>-0.23</td> \n",
       "</tr>\n",
       "<tr>\n",
       "  <th>Prob(H) (two-sided):</th>    <td>0.20</td> <th>  Kurtosis:          </th>  <td>6.71</td>  \n",
       "</tr>\n",
       "</table><br/><br/>Warnings:<br/>[1] Covariance matrix calculated using the outer product of gradients (complex-step)."
      ],
      "text/plain": [
       "<class 'statsmodels.iolib.summary.Summary'>\n",
       "\"\"\"\n",
       "                               SARIMAX Results                                \n",
       "==============================================================================\n",
       "Dep. Variable:                   ftse   No. Observations:                 6277\n",
       "Model:                 ARIMA(3, 0, 0)   Log Likelihood              -34430.886\n",
       "Date:                Mon, 14 Nov 2022   AIC                          68871.771\n",
       "Time:                        16:32:39   BIC                          68905.495\n",
       "Sample:                    01-07-1994   HQIC                         68883.456\n",
       "                         - 01-29-2018                                         \n",
       "Covariance Type:                  opg                                         \n",
       "==============================================================================\n",
       "                 coef    std err          z      P>|z|      [0.025      0.975]\n",
       "------------------------------------------------------------------------------\n",
       "const       5423.6798    498.503     10.880      0.000    4446.633    6400.727\n",
       "ar.L1          0.9898      0.009    112.240      0.000       0.973       1.007\n",
       "ar.L2         -0.0381      0.012     -3.161      0.002      -0.062      -0.014\n",
       "ar.L3          0.0471      0.008      5.699      0.000       0.031       0.063\n",
       "sigma2      3400.3736     36.273     93.744      0.000    3329.280    3471.467\n",
       "===================================================================================\n",
       "Ljung-Box (L1) (Q):                   0.04   Jarque-Bera (JB):              3654.68\n",
       "Prob(Q):                              0.84   Prob(JB):                         0.00\n",
       "Heteroskedasticity (H):               1.06   Skew:                            -0.23\n",
       "Prob(H) (two-sided):                  0.20   Kurtosis:                         6.71\n",
       "===================================================================================\n",
       "\n",
       "Warnings:\n",
       "[1] Covariance matrix calculated using the outer product of gradients (complex-step).\n",
       "\"\"\""
      ]
     },
     "execution_count": 22,
     "metadata": {},
     "output_type": "execute_result"
    }
   ],
   "source": [
    "ar3 = ARIMA(df.ftse, order = (3, 0, 0)) # simple AR model\n",
    "results_ar3 = ar3.fit()\n",
    "results_ar3.summary()"
   ]
  },
  {
   "cell_type": "code",
   "execution_count": 23,
   "id": "9596005c",
   "metadata": {},
   "outputs": [
    {
     "data": {
      "text/html": [
       "<table class=\"simpletable\">\n",
       "<caption>SARIMAX Results</caption>\n",
       "<tr>\n",
       "  <th>Dep. Variable:</th>         <td>ftse</td>       <th>  No. Observations:  </th>    <td>6277</td>   \n",
       "</tr>\n",
       "<tr>\n",
       "  <th>Model:</th>            <td>ARIMA(4, 0, 0)</td>  <th>  Log Likelihood     </th> <td>-34421.768</td>\n",
       "</tr>\n",
       "<tr>\n",
       "  <th>Date:</th>            <td>Mon, 14 Nov 2022</td> <th>  AIC                </th>  <td>68855.536</td>\n",
       "</tr>\n",
       "<tr>\n",
       "  <th>Time:</th>                <td>16:34:13</td>     <th>  BIC                </th>  <td>68896.004</td>\n",
       "</tr>\n",
       "<tr>\n",
       "  <th>Sample:</th>             <td>01-07-1994</td>    <th>  HQIC               </th>  <td>68869.557</td>\n",
       "</tr>\n",
       "<tr>\n",
       "  <th></th>                   <td>- 01-29-2018</td>   <th>                     </th>      <td> </td>    \n",
       "</tr>\n",
       "<tr>\n",
       "  <th>Covariance Type:</th>        <td>opg</td>       <th>                     </th>      <td> </td>    \n",
       "</tr>\n",
       "</table>\n",
       "<table class=\"simpletable\">\n",
       "<tr>\n",
       "     <td></td>       <th>coef</th>     <th>std err</th>      <th>z</th>      <th>P>|z|</th>  <th>[0.025</th>    <th>0.975]</th>  \n",
       "</tr>\n",
       "<tr>\n",
       "  <th>const</th>  <td> 5423.6798</td> <td>  518.609</td> <td>   10.458</td> <td> 0.000</td> <td> 4407.224</td> <td> 6440.135</td>\n",
       "</tr>\n",
       "<tr>\n",
       "  <th>ar.L1</th>  <td>    0.9873</td> <td>    0.009</td> <td>  111.236</td> <td> 0.000</td> <td>    0.970</td> <td>    1.005</td>\n",
       "</tr>\n",
       "<tr>\n",
       "  <th>ar.L2</th>  <td>   -0.0360</td> <td>    0.012</td> <td>   -2.970</td> <td> 0.003</td> <td>   -0.060</td> <td>   -0.012</td>\n",
       "</tr>\n",
       "<tr>\n",
       "  <th>ar.L3</th>  <td>   -0.0063</td> <td>    0.011</td> <td>   -0.550</td> <td> 0.582</td> <td>   -0.029</td> <td>    0.016</td>\n",
       "</tr>\n",
       "<tr>\n",
       "  <th>ar.L4</th>  <td>    0.0539</td> <td>    0.008</td> <td>    6.634</td> <td> 0.000</td> <td>    0.038</td> <td>    0.070</td>\n",
       "</tr>\n",
       "<tr>\n",
       "  <th>sigma2</th> <td> 3390.7236</td> <td>   36.932</td> <td>   91.811</td> <td> 0.000</td> <td> 3318.339</td> <td> 3463.108</td>\n",
       "</tr>\n",
       "</table>\n",
       "<table class=\"simpletable\">\n",
       "<tr>\n",
       "  <th>Ljung-Box (L1) (Q):</th>     <td>0.00</td> <th>  Jarque-Bera (JB):  </th> <td>3463.72</td>\n",
       "</tr>\n",
       "<tr>\n",
       "  <th>Prob(Q):</th>                <td>0.97</td> <th>  Prob(JB):          </th>  <td>0.00</td>  \n",
       "</tr>\n",
       "<tr>\n",
       "  <th>Heteroskedasticity (H):</th> <td>1.07</td> <th>  Skew:              </th>  <td>-0.27</td> \n",
       "</tr>\n",
       "<tr>\n",
       "  <th>Prob(H) (two-sided):</th>    <td>0.15</td> <th>  Kurtosis:          </th>  <td>6.60</td>  \n",
       "</tr>\n",
       "</table><br/><br/>Warnings:<br/>[1] Covariance matrix calculated using the outer product of gradients (complex-step)."
      ],
      "text/plain": [
       "<class 'statsmodels.iolib.summary.Summary'>\n",
       "\"\"\"\n",
       "                               SARIMAX Results                                \n",
       "==============================================================================\n",
       "Dep. Variable:                   ftse   No. Observations:                 6277\n",
       "Model:                 ARIMA(4, 0, 0)   Log Likelihood              -34421.768\n",
       "Date:                Mon, 14 Nov 2022   AIC                          68855.536\n",
       "Time:                        16:34:13   BIC                          68896.004\n",
       "Sample:                    01-07-1994   HQIC                         68869.557\n",
       "                         - 01-29-2018                                         \n",
       "Covariance Type:                  opg                                         \n",
       "==============================================================================\n",
       "                 coef    std err          z      P>|z|      [0.025      0.975]\n",
       "------------------------------------------------------------------------------\n",
       "const       5423.6798    518.609     10.458      0.000    4407.224    6440.135\n",
       "ar.L1          0.9873      0.009    111.236      0.000       0.970       1.005\n",
       "ar.L2         -0.0360      0.012     -2.970      0.003      -0.060      -0.012\n",
       "ar.L3         -0.0063      0.011     -0.550      0.582      -0.029       0.016\n",
       "ar.L4          0.0539      0.008      6.634      0.000       0.038       0.070\n",
       "sigma2      3390.7236     36.932     91.811      0.000    3318.339    3463.108\n",
       "===================================================================================\n",
       "Ljung-Box (L1) (Q):                   0.00   Jarque-Bera (JB):              3463.72\n",
       "Prob(Q):                              0.97   Prob(JB):                         0.00\n",
       "Heteroskedasticity (H):               1.07   Skew:                            -0.27\n",
       "Prob(H) (two-sided):                  0.15   Kurtosis:                         6.60\n",
       "===================================================================================\n",
       "\n",
       "Warnings:\n",
       "[1] Covariance matrix calculated using the outer product of gradients (complex-step).\n",
       "\"\"\""
      ]
     },
     "execution_count": 23,
     "metadata": {},
     "output_type": "execute_result"
    }
   ],
   "source": [
    "ar4 = ARIMA(df.ftse, order = (4, 0, 0)) # simple AR model\n",
    "results_ar4 = ar4.fit()\n",
    "results_ar4.summary()"
   ]
  },
  {
   "cell_type": "code",
   "execution_count": 33,
   "id": "6961a5c0",
   "metadata": {},
   "outputs": [
    {
     "data": {
      "text/html": [
       "<table class=\"simpletable\">\n",
       "<caption>SARIMAX Results</caption>\n",
       "<tr>\n",
       "  <th>Dep. Variable:</th>         <td>ftse</td>       <th>  No. Observations:  </th>    <td>6277</td>   \n",
       "</tr>\n",
       "<tr>\n",
       "  <th>Model:</th>            <td>ARIMA(7, 0, 0)</td>  <th>  Log Likelihood     </th> <td>-34414.286</td>\n",
       "</tr>\n",
       "<tr>\n",
       "  <th>Date:</th>            <td>Mon, 14 Nov 2022</td> <th>  AIC                </th>  <td>68846.572</td>\n",
       "</tr>\n",
       "<tr>\n",
       "  <th>Time:</th>                <td>16:43:19</td>     <th>  BIC                </th>  <td>68907.274</td>\n",
       "</tr>\n",
       "<tr>\n",
       "  <th>Sample:</th>             <td>01-07-1994</td>    <th>  HQIC               </th>  <td>68867.604</td>\n",
       "</tr>\n",
       "<tr>\n",
       "  <th></th>                   <td>- 01-29-2018</td>   <th>                     </th>      <td> </td>    \n",
       "</tr>\n",
       "<tr>\n",
       "  <th>Covariance Type:</th>        <td>opg</td>       <th>                     </th>      <td> </td>    \n",
       "</tr>\n",
       "</table>\n",
       "<table class=\"simpletable\">\n",
       "<tr>\n",
       "     <td></td>       <th>coef</th>     <th>std err</th>      <th>z</th>      <th>P>|z|</th>  <th>[0.025</th>    <th>0.975]</th>  \n",
       "</tr>\n",
       "<tr>\n",
       "  <th>const</th>  <td> 5423.6798</td> <td>  548.167</td> <td>    9.894</td> <td> 0.000</td> <td> 4349.292</td> <td> 6498.068</td>\n",
       "</tr>\n",
       "<tr>\n",
       "  <th>ar.L1</th>  <td>    0.9871</td> <td>    0.009</td> <td>  109.238</td> <td> 0.000</td> <td>    0.969</td> <td>    1.005</td>\n",
       "</tr>\n",
       "<tr>\n",
       "  <th>ar.L2</th>  <td>   -0.0372</td> <td>    0.012</td> <td>   -2.996</td> <td> 0.003</td> <td>   -0.062</td> <td>   -0.013</td>\n",
       "</tr>\n",
       "<tr>\n",
       "  <th>ar.L3</th>  <td>   -0.0082</td> <td>    0.011</td> <td>   -0.714</td> <td> 0.475</td> <td>   -0.031</td> <td>    0.014</td>\n",
       "</tr>\n",
       "<tr>\n",
       "  <th>ar.L4</th>  <td>    0.0650</td> <td>    0.012</td> <td>    5.572</td> <td> 0.000</td> <td>    0.042</td> <td>    0.088</td>\n",
       "</tr>\n",
       "<tr>\n",
       "  <th>ar.L5</th>  <td>   -0.0467</td> <td>    0.011</td> <td>   -4.157</td> <td> 0.000</td> <td>   -0.069</td> <td>   -0.025</td>\n",
       "</tr>\n",
       "<tr>\n",
       "  <th>ar.L6</th>  <td>    0.0106</td> <td>    0.012</td> <td>    0.916</td> <td> 0.360</td> <td>   -0.012</td> <td>    0.033</td>\n",
       "</tr>\n",
       "<tr>\n",
       "  <th>ar.L7</th>  <td>    0.0283</td> <td>    0.009</td> <td>    3.233</td> <td> 0.001</td> <td>    0.011</td> <td>    0.045</td>\n",
       "</tr>\n",
       "<tr>\n",
       "  <th>sigma2</th> <td> 3384.0371</td> <td>   37.041</td> <td>   91.360</td> <td> 0.000</td> <td> 3311.438</td> <td> 3456.636</td>\n",
       "</tr>\n",
       "</table>\n",
       "<table class=\"simpletable\">\n",
       "<tr>\n",
       "  <th>Ljung-Box (L1) (Q):</th>     <td>0.00</td> <th>  Jarque-Bera (JB):  </th> <td>3452.85</td>\n",
       "</tr>\n",
       "<tr>\n",
       "  <th>Prob(Q):</th>                <td>1.00</td> <th>  Prob(JB):          </th>  <td>0.00</td>  \n",
       "</tr>\n",
       "<tr>\n",
       "  <th>Heteroskedasticity (H):</th> <td>1.07</td> <th>  Skew:              </th>  <td>-0.29</td> \n",
       "</tr>\n",
       "<tr>\n",
       "  <th>Prob(H) (two-sided):</th>    <td>0.12</td> <th>  Kurtosis:          </th>  <td>6.59</td>  \n",
       "</tr>\n",
       "</table><br/><br/>Warnings:<br/>[1] Covariance matrix calculated using the outer product of gradients (complex-step)."
      ],
      "text/plain": [
       "<class 'statsmodels.iolib.summary.Summary'>\n",
       "\"\"\"\n",
       "                               SARIMAX Results                                \n",
       "==============================================================================\n",
       "Dep. Variable:                   ftse   No. Observations:                 6277\n",
       "Model:                 ARIMA(7, 0, 0)   Log Likelihood              -34414.286\n",
       "Date:                Mon, 14 Nov 2022   AIC                          68846.572\n",
       "Time:                        16:43:19   BIC                          68907.274\n",
       "Sample:                    01-07-1994   HQIC                         68867.604\n",
       "                         - 01-29-2018                                         \n",
       "Covariance Type:                  opg                                         \n",
       "==============================================================================\n",
       "                 coef    std err          z      P>|z|      [0.025      0.975]\n",
       "------------------------------------------------------------------------------\n",
       "const       5423.6798    548.167      9.894      0.000    4349.292    6498.068\n",
       "ar.L1          0.9871      0.009    109.238      0.000       0.969       1.005\n",
       "ar.L2         -0.0372      0.012     -2.996      0.003      -0.062      -0.013\n",
       "ar.L3         -0.0082      0.011     -0.714      0.475      -0.031       0.014\n",
       "ar.L4          0.0650      0.012      5.572      0.000       0.042       0.088\n",
       "ar.L5         -0.0467      0.011     -4.157      0.000      -0.069      -0.025\n",
       "ar.L6          0.0106      0.012      0.916      0.360      -0.012       0.033\n",
       "ar.L7          0.0283      0.009      3.233      0.001       0.011       0.045\n",
       "sigma2      3384.0371     37.041     91.360      0.000    3311.438    3456.636\n",
       "===================================================================================\n",
       "Ljung-Box (L1) (Q):                   0.00   Jarque-Bera (JB):              3452.85\n",
       "Prob(Q):                              1.00   Prob(JB):                         0.00\n",
       "Heteroskedasticity (H):               1.07   Skew:                            -0.29\n",
       "Prob(H) (two-sided):                  0.12   Kurtosis:                         6.59\n",
       "===================================================================================\n",
       "\n",
       "Warnings:\n",
       "[1] Covariance matrix calculated using the outer product of gradients (complex-step).\n",
       "\"\"\""
      ]
     },
     "execution_count": 33,
     "metadata": {},
     "output_type": "execute_result"
    }
   ],
   "source": [
    "ar7 = ARIMA(df.ftse, order = (7, 0, 0)) # simple AR model\n",
    "results_ar7 = ar7.fit()\n",
    "results_ar7.summary()"
   ]
  },
  {
   "cell_type": "code",
   "execution_count": 29,
   "id": "017b80d2",
   "metadata": {},
   "outputs": [
    {
     "data": {
      "text/html": [
       "<table class=\"simpletable\">\n",
       "<caption>SARIMAX Results</caption>\n",
       "<tr>\n",
       "  <th>Dep. Variable:</th>         <td>ftse</td>       <th>  No. Observations:  </th>    <td>6277</td>   \n",
       "</tr>\n",
       "<tr>\n",
       "  <th>Model:</th>            <td>ARIMA(8, 0, 0)</td>  <th>  Log Likelihood     </th> <td>-34414.200</td>\n",
       "</tr>\n",
       "<tr>\n",
       "  <th>Date:</th>            <td>Mon, 14 Nov 2022</td> <th>  AIC                </th>  <td>68848.400</td>\n",
       "</tr>\n",
       "<tr>\n",
       "  <th>Time:</th>                <td>16:41:28</td>     <th>  BIC                </th>  <td>68915.847</td>\n",
       "</tr>\n",
       "<tr>\n",
       "  <th>Sample:</th>             <td>01-07-1994</td>    <th>  HQIC               </th>  <td>68871.769</td>\n",
       "</tr>\n",
       "<tr>\n",
       "  <th></th>                   <td>- 01-29-2018</td>   <th>                     </th>      <td> </td>    \n",
       "</tr>\n",
       "<tr>\n",
       "  <th>Covariance Type:</th>        <td>opg</td>       <th>                     </th>      <td> </td>    \n",
       "</tr>\n",
       "</table>\n",
       "<table class=\"simpletable\">\n",
       "<tr>\n",
       "     <td></td>       <th>coef</th>     <th>std err</th>      <th>z</th>      <th>P>|z|</th>  <th>[0.025</th>    <th>0.975]</th>  \n",
       "</tr>\n",
       "<tr>\n",
       "  <th>const</th>  <td> 5423.6798</td> <td>  550.333</td> <td>    9.855</td> <td> 0.000</td> <td> 4345.048</td> <td> 6502.312</td>\n",
       "</tr>\n",
       "<tr>\n",
       "  <th>ar.L1</th>  <td>    0.9873</td> <td>    0.009</td> <td>  109.205</td> <td> 0.000</td> <td>    0.970</td> <td>    1.005</td>\n",
       "</tr>\n",
       "<tr>\n",
       "  <th>ar.L2</th>  <td>   -0.0372</td> <td>    0.012</td> <td>   -2.988</td> <td> 0.003</td> <td>   -0.062</td> <td>   -0.013</td>\n",
       "</tr>\n",
       "<tr>\n",
       "  <th>ar.L3</th>  <td>   -0.0085</td> <td>    0.012</td> <td>   -0.731</td> <td> 0.465</td> <td>   -0.031</td> <td>    0.014</td>\n",
       "</tr>\n",
       "<tr>\n",
       "  <th>ar.L4</th>  <td>    0.0654</td> <td>    0.012</td> <td>    5.553</td> <td> 0.000</td> <td>    0.042</td> <td>    0.088</td>\n",
       "</tr>\n",
       "<tr>\n",
       "  <th>ar.L5</th>  <td>   -0.0467</td> <td>    0.011</td> <td>   -4.159</td> <td> 0.000</td> <td>   -0.069</td> <td>   -0.025</td>\n",
       "</tr>\n",
       "<tr>\n",
       "  <th>ar.L6</th>  <td>    0.0104</td> <td>    0.012</td> <td>    0.898</td> <td> 0.369</td> <td>   -0.012</td> <td>    0.033</td>\n",
       "</tr>\n",
       "<tr>\n",
       "  <th>ar.L7</th>  <td>    0.0333</td> <td>    0.013</td> <td>    2.618</td> <td> 0.009</td> <td>    0.008</td> <td>    0.058</td>\n",
       "</tr>\n",
       "<tr>\n",
       "  <th>ar.L8</th>  <td>   -0.0051</td> <td>    0.009</td> <td>   -0.569</td> <td> 0.569</td> <td>   -0.023</td> <td>    0.012</td>\n",
       "</tr>\n",
       "<tr>\n",
       "  <th>sigma2</th> <td> 3384.3667</td> <td>   37.098</td> <td>   91.229</td> <td> 0.000</td> <td> 3311.657</td> <td> 3457.077</td>\n",
       "</tr>\n",
       "</table>\n",
       "<table class=\"simpletable\">\n",
       "<tr>\n",
       "  <th>Ljung-Box (L1) (Q):</th>     <td>0.00</td> <th>  Jarque-Bera (JB):  </th> <td>3446.41</td>\n",
       "</tr>\n",
       "<tr>\n",
       "  <th>Prob(Q):</th>                <td>0.99</td> <th>  Prob(JB):          </th>  <td>0.00</td>  \n",
       "</tr>\n",
       "<tr>\n",
       "  <th>Heteroskedasticity (H):</th> <td>1.07</td> <th>  Skew:              </th>  <td>-0.29</td> \n",
       "</tr>\n",
       "<tr>\n",
       "  <th>Prob(H) (two-sided):</th>    <td>0.12</td> <th>  Kurtosis:          </th>  <td>6.58</td>  \n",
       "</tr>\n",
       "</table><br/><br/>Warnings:<br/>[1] Covariance matrix calculated using the outer product of gradients (complex-step)."
      ],
      "text/plain": [
       "<class 'statsmodels.iolib.summary.Summary'>\n",
       "\"\"\"\n",
       "                               SARIMAX Results                                \n",
       "==============================================================================\n",
       "Dep. Variable:                   ftse   No. Observations:                 6277\n",
       "Model:                 ARIMA(8, 0, 0)   Log Likelihood              -34414.200\n",
       "Date:                Mon, 14 Nov 2022   AIC                          68848.400\n",
       "Time:                        16:41:28   BIC                          68915.847\n",
       "Sample:                    01-07-1994   HQIC                         68871.769\n",
       "                         - 01-29-2018                                         \n",
       "Covariance Type:                  opg                                         \n",
       "==============================================================================\n",
       "                 coef    std err          z      P>|z|      [0.025      0.975]\n",
       "------------------------------------------------------------------------------\n",
       "const       5423.6798    550.333      9.855      0.000    4345.048    6502.312\n",
       "ar.L1          0.9873      0.009    109.205      0.000       0.970       1.005\n",
       "ar.L2         -0.0372      0.012     -2.988      0.003      -0.062      -0.013\n",
       "ar.L3         -0.0085      0.012     -0.731      0.465      -0.031       0.014\n",
       "ar.L4          0.0654      0.012      5.553      0.000       0.042       0.088\n",
       "ar.L5         -0.0467      0.011     -4.159      0.000      -0.069      -0.025\n",
       "ar.L6          0.0104      0.012      0.898      0.369      -0.012       0.033\n",
       "ar.L7          0.0333      0.013      2.618      0.009       0.008       0.058\n",
       "ar.L8         -0.0051      0.009     -0.569      0.569      -0.023       0.012\n",
       "sigma2      3384.3667     37.098     91.229      0.000    3311.657    3457.077\n",
       "===================================================================================\n",
       "Ljung-Box (L1) (Q):                   0.00   Jarque-Bera (JB):              3446.41\n",
       "Prob(Q):                              0.99   Prob(JB):                         0.00\n",
       "Heteroskedasticity (H):               1.07   Skew:                            -0.29\n",
       "Prob(H) (two-sided):                  0.12   Kurtosis:                         6.58\n",
       "===================================================================================\n",
       "\n",
       "Warnings:\n",
       "[1] Covariance matrix calculated using the outer product of gradients (complex-step).\n",
       "\"\"\""
      ]
     },
     "execution_count": 29,
     "metadata": {},
     "output_type": "execute_result"
    }
   ],
   "source": [
    "ar8 = ARIMA(df.ftse, order = (8, 0, 0)) # simple AR model\n",
    "results_ar8 = ar8.fit()\n",
    "results_ar8.summary()"
   ]
  },
  {
   "cell_type": "markdown",
   "id": "7bd59ef2",
   "metadata": {},
   "source": [
    "## Log Likelihood Ratio (LLR) Test"
   ]
  },
  {
   "cell_type": "code",
   "execution_count": 24,
   "id": "8a62dc33",
   "metadata": {},
   "outputs": [],
   "source": [
    "from scipy.stats.distributions import chi2\n",
    "\n",
    "def LLR_test(model_1, model_2, DF = 1):\n",
    "    L1 = model_1.fit().llf\n",
    "    L2 = model_2.fit().llf\n",
    "    \n",
    "    LR = 2*(L2 - L1)\n",
    "    p = chi2.sf(LR, DF).round(3)\n",
    "    \n",
    "    return p"
   ]
  },
  {
   "cell_type": "code",
   "execution_count": 25,
   "id": "2cdf2937",
   "metadata": {},
   "outputs": [
    {
     "data": {
      "text/plain": [
       "0.0"
      ]
     },
     "execution_count": 25,
     "metadata": {},
     "output_type": "execute_result"
    }
   ],
   "source": [
    "LLR_test(ar2, ar3)"
   ]
  },
  {
   "cell_type": "code",
   "execution_count": 34,
   "id": "113607fe",
   "metadata": {},
   "outputs": [
    {
     "data": {
      "text/plain": [
       "0.678"
      ]
     },
     "execution_count": 34,
     "metadata": {},
     "output_type": "execute_result"
    }
   ],
   "source": [
    "LLR_test(ar7, ar8)"
   ]
  },
  {
   "cell_type": "code",
   "execution_count": 35,
   "id": "c0c30c7a",
   "metadata": {},
   "outputs": [
    {
     "data": {
      "text/plain": [
       "0.0"
      ]
     },
     "execution_count": 35,
     "metadata": {},
     "output_type": "execute_result"
    }
   ],
   "source": [
    "LLR_test(ar, ar7, DF = 6)"
   ]
  },
  {
   "cell_type": "markdown",
   "id": "e7dadd27",
   "metadata": {},
   "source": [
    "## The DF-Test"
   ]
  },
  {
   "cell_type": "code",
   "execution_count": 36,
   "id": "1917b4bc",
   "metadata": {},
   "outputs": [
    {
     "data": {
      "text/plain": [
       "(-1.5977788921179834,\n",
       " 0.4847091205465976,\n",
       " 6,\n",
       " 6270,\n",
       " {'1%': -3.4313933778649943,\n",
       "  '5%': -2.862001080749219,\n",
       "  '10%': -2.567015430304048},\n",
       " 68476.87620974617)"
      ]
     },
     "execution_count": 36,
     "metadata": {},
     "output_type": "execute_result"
    }
   ],
   "source": [
    "import statsmodels.tsa.stattools as sts\n",
    "sts.adfuller(df.ftse)\n",
    "\n",
    "# p-value = 0.48 (assuming a 5% significance level)\n",
    "# we can assume that ftse values arer extracted from a non-stationary process"
   ]
  },
  {
   "cell_type": "markdown",
   "id": "75594fa6",
   "metadata": {},
   "source": [
    "## Using Returns"
   ]
  },
  {
   "cell_type": "code",
   "execution_count": 37,
   "id": "6f1cc06d",
   "metadata": {},
   "outputs": [],
   "source": [
    "# create returns out of prices\n",
    "# returns = (p(t) - p(t-1)) / p(t-1)\n",
    "df['ftse_returns'] = df.ftse.pct_change(1).mul(100)\n",
    "df = df.iloc[1:, :]"
   ]
  },
  {
   "cell_type": "code",
   "execution_count": 38,
   "id": "8134bd1c",
   "metadata": {},
   "outputs": [
    {
     "data": {
      "text/plain": [
       "(-15.140761332034867,\n",
       " 7.016338451092645e-28,\n",
       " 34,\n",
       " 6241,\n",
       " {'1%': -3.431398228116075,\n",
       "  '5%': -2.8620032237533897,\n",
       "  '10%': -2.5670165710764503},\n",
       " 19026.504469066465)"
      ]
     },
     "execution_count": 38,
     "metadata": {},
     "output_type": "execute_result"
    }
   ],
   "source": [
    "sts.adfuller(df.ftse_returns)"
   ]
  },
  {
   "cell_type": "code",
   "execution_count": 39,
   "id": "9fbb53ff",
   "metadata": {},
   "outputs": [
    {
     "data": {
      "image/png": "[encoded data removed]",
      "text/plain": [
       "<Figure size 432x288 with 1 Axes>"
      ]
     },
     "metadata": {},
     "output_type": "display_data"
    }
   ],
   "source": [
    "sgt.plot_acf(df.ftse_returns, lags = 40, zero = False)\n",
    "plt.title('Autocorrelation function of FTSE Returns', size = 20)\n",
    "plt.show()"
   ]
  },
  {
   "cell_type": "code",
   "execution_count": 40,
   "id": "fc1b085a",
   "metadata": {},
   "outputs": [
    {
     "data": {
      "image/png": "[encoded data removed]",
      "text/plain": [
       "<Figure size 432x288 with 1 Axes>"
      ]
     },
     "metadata": {},
     "output_type": "display_data"
    }
   ],
   "source": [
    "sgt.plot_pacf(df.ftse_returns, lags = 40, zero = False, alpha = 0.05, method = ('ols'))\n",
    "plt.title('PACF of FTSE Returns', size = 20)\n",
    "plt.show()"
   ]
  },
  {
   "cell_type": "markdown",
   "id": "d130bf5b",
   "metadata": {},
   "source": [
    "## AR(1) for Returns"
   ]
  },
  {
   "cell_type": "code",
   "execution_count": 41,
   "id": "12a5909c",
   "metadata": {},
   "outputs": [
    {
     "data": {
      "text/html": [
       "<table class=\"simpletable\">\n",
       "<caption>SARIMAX Results</caption>\n",
       "<tr>\n",
       "  <th>Dep. Variable:</th>     <td>ftse_returns</td>   <th>  No. Observations:  </th>   <td>6276</td>   \n",
       "</tr>\n",
       "<tr>\n",
       "  <th>Model:</th>            <td>ARIMA(1, 0, 0)</td>  <th>  Log Likelihood     </th> <td>-9597.705</td>\n",
       "</tr>\n",
       "<tr>\n",
       "  <th>Date:</th>            <td>Mon, 14 Nov 2022</td> <th>  AIC                </th> <td>19201.409</td>\n",
       "</tr>\n",
       "<tr>\n",
       "  <th>Time:</th>                <td>17:53:03</td>     <th>  BIC                </th> <td>19221.643</td>\n",
       "</tr>\n",
       "<tr>\n",
       "  <th>Sample:</th>             <td>01-10-1994</td>    <th>  HQIC               </th> <td>19208.420</td>\n",
       "</tr>\n",
       "<tr>\n",
       "  <th></th>                   <td>- 01-29-2018</td>   <th>                     </th>     <td> </td>    \n",
       "</tr>\n",
       "<tr>\n",
       "  <th>Covariance Type:</th>        <td>opg</td>       <th>                     </th>     <td> </td>    \n",
       "</tr>\n",
       "</table>\n",
       "<table class=\"simpletable\">\n",
       "<tr>\n",
       "     <td></td>       <th>coef</th>     <th>std err</th>      <th>z</th>      <th>P>|z|</th>  <th>[0.025</th>    <th>0.975]</th>  \n",
       "</tr>\n",
       "<tr>\n",
       "  <th>const</th>  <td>    0.0190</td> <td>    0.014</td> <td>    1.353</td> <td> 0.176</td> <td>   -0.009</td> <td>    0.047</td>\n",
       "</tr>\n",
       "<tr>\n",
       "  <th>ar.L1</th>  <td>   -0.0176</td> <td>    0.007</td> <td>   -2.345</td> <td> 0.019</td> <td>   -0.032</td> <td>   -0.003</td>\n",
       "</tr>\n",
       "<tr>\n",
       "  <th>sigma2</th> <td>    1.2469</td> <td>    0.011</td> <td>  113.319</td> <td> 0.000</td> <td>    1.225</td> <td>    1.268</td>\n",
       "</tr>\n",
       "</table>\n",
       "<table class=\"simpletable\">\n",
       "<tr>\n",
       "  <th>Ljung-Box (L1) (Q):</th>     <td>0.00</td> <th>  Jarque-Bera (JB):  </th> <td>10512.45</td>\n",
       "</tr>\n",
       "<tr>\n",
       "  <th>Prob(Q):</th>                <td>0.95</td> <th>  Prob(JB):          </th>   <td>0.00</td>  \n",
       "</tr>\n",
       "<tr>\n",
       "  <th>Heteroskedasticity (H):</th> <td>0.85</td> <th>  Skew:              </th>   <td>-0.04</td> \n",
       "</tr>\n",
       "<tr>\n",
       "  <th>Prob(H) (two-sided):</th>    <td>0.00</td> <th>  Kurtosis:          </th>   <td>9.34</td>  \n",
       "</tr>\n",
       "</table><br/><br/>Warnings:<br/>[1] Covariance matrix calculated using the outer product of gradients (complex-step)."
      ],
      "text/plain": [
       "<class 'statsmodels.iolib.summary.Summary'>\n",
       "\"\"\"\n",
       "                               SARIMAX Results                                \n",
       "==============================================================================\n",
       "Dep. Variable:           ftse_returns   No. Observations:                 6276\n",
       "Model:                 ARIMA(1, 0, 0)   Log Likelihood               -9597.705\n",
       "Date:                Mon, 14 Nov 2022   AIC                          19201.409\n",
       "Time:                        17:53:03   BIC                          19221.643\n",
       "Sample:                    01-10-1994   HQIC                         19208.420\n",
       "                         - 01-29-2018                                         \n",
       "Covariance Type:                  opg                                         \n",
       "==============================================================================\n",
       "                 coef    std err          z      P>|z|      [0.025      0.975]\n",
       "------------------------------------------------------------------------------\n",
       "const          0.0190      0.014      1.353      0.176      -0.009       0.047\n",
       "ar.L1         -0.0176      0.007     -2.345      0.019      -0.032      -0.003\n",
       "sigma2         1.2469      0.011    113.319      0.000       1.225       1.268\n",
       "===================================================================================\n",
       "Ljung-Box (L1) (Q):                   0.00   Jarque-Bera (JB):             10512.45\n",
       "Prob(Q):                              0.95   Prob(JB):                         0.00\n",
       "Heteroskedasticity (H):               0.85   Skew:                            -0.04\n",
       "Prob(H) (two-sided):                  0.00   Kurtosis:                         9.34\n",
       "===================================================================================\n",
       "\n",
       "Warnings:\n",
       "[1] Covariance matrix calculated using the outer product of gradients (complex-step).\n",
       "\"\"\""
      ]
     },
     "execution_count": 41,
     "metadata": {},
     "output_type": "execute_result"
    }
   ],
   "source": [
    "ar1_ret = ARIMA(df.ftse_returns, order = (1, 0, 0))\n",
    "res_ret_ar1 = ar1_ret.fit()\n",
    "res_ret_ar1.summary()\n",
    "\n",
    "# check p-values of Const and L1 - coeffitient values are close to 0\n",
    "# our model has no predictive power"
   ]
  },
  {
   "cell_type": "markdown",
   "id": "36f3c18b",
   "metadata": {},
   "source": [
    "## Higher-Lag AR model for Returns"
   ]
  },
  {
   "cell_type": "code",
   "execution_count": 42,
   "id": "1dbdb83d",
   "metadata": {},
   "outputs": [
    {
     "data": {
      "text/html": [
       "<table class=\"simpletable\">\n",
       "<caption>SARIMAX Results</caption>\n",
       "<tr>\n",
       "  <th>Dep. Variable:</th>     <td>ftse_returns</td>   <th>  No. Observations:  </th>   <td>6276</td>   \n",
       "</tr>\n",
       "<tr>\n",
       "  <th>Model:</th>            <td>ARIMA(2, 0, 0)</td>  <th>  Log Likelihood     </th> <td>-9590.309</td>\n",
       "</tr>\n",
       "<tr>\n",
       "  <th>Date:</th>            <td>Mon, 14 Nov 2022</td> <th>  AIC                </th> <td>19188.618</td>\n",
       "</tr>\n",
       "<tr>\n",
       "  <th>Time:</th>                <td>17:56:17</td>     <th>  BIC                </th> <td>19215.596</td>\n",
       "</tr>\n",
       "<tr>\n",
       "  <th>Sample:</th>             <td>01-10-1994</td>    <th>  HQIC               </th> <td>19197.966</td>\n",
       "</tr>\n",
       "<tr>\n",
       "  <th></th>                   <td>- 01-29-2018</td>   <th>                     </th>     <td> </td>    \n",
       "</tr>\n",
       "<tr>\n",
       "  <th>Covariance Type:</th>        <td>opg</td>       <th>                     </th>     <td> </td>    \n",
       "</tr>\n",
       "</table>\n",
       "<table class=\"simpletable\">\n",
       "<tr>\n",
       "     <td></td>       <th>coef</th>     <th>std err</th>      <th>z</th>      <th>P>|z|</th>  <th>[0.025</th>    <th>0.975]</th>  \n",
       "</tr>\n",
       "<tr>\n",
       "  <th>const</th>  <td>    0.0190</td> <td>    0.013</td> <td>    1.409</td> <td> 0.159</td> <td>   -0.007</td> <td>    0.045</td>\n",
       "</tr>\n",
       "<tr>\n",
       "  <th>ar.L1</th>  <td>   -0.0184</td> <td>    0.008</td> <td>   -2.432</td> <td> 0.015</td> <td>   -0.033</td> <td>   -0.004</td>\n",
       "</tr>\n",
       "<tr>\n",
       "  <th>ar.L2</th>  <td>   -0.0485</td> <td>    0.007</td> <td>   -6.981</td> <td> 0.000</td> <td>   -0.062</td> <td>   -0.035</td>\n",
       "</tr>\n",
       "<tr>\n",
       "  <th>sigma2</th> <td>    1.2440</td> <td>    0.011</td> <td>  112.784</td> <td> 0.000</td> <td>    1.222</td> <td>    1.266</td>\n",
       "</tr>\n",
       "</table>\n",
       "<table class=\"simpletable\">\n",
       "<tr>\n",
       "  <th>Ljung-Box (L1) (Q):</th>     <td>0.07</td> <th>  Jarque-Bera (JB):  </th> <td>10336.58</td>\n",
       "</tr>\n",
       "<tr>\n",
       "  <th>Prob(Q):</th>                <td>0.79</td> <th>  Prob(JB):          </th>   <td>0.00</td>  \n",
       "</tr>\n",
       "<tr>\n",
       "  <th>Heteroskedasticity (H):</th> <td>0.85</td> <th>  Skew:              </th>   <td>-0.07</td> \n",
       "</tr>\n",
       "<tr>\n",
       "  <th>Prob(H) (two-sided):</th>    <td>0.00</td> <th>  Kurtosis:          </th>   <td>9.29</td>  \n",
       "</tr>\n",
       "</table><br/><br/>Warnings:<br/>[1] Covariance matrix calculated using the outer product of gradients (complex-step)."
      ],
      "text/plain": [
       "<class 'statsmodels.iolib.summary.Summary'>\n",
       "\"\"\"\n",
       "                               SARIMAX Results                                \n",
       "==============================================================================\n",
       "Dep. Variable:           ftse_returns   No. Observations:                 6276\n",
       "Model:                 ARIMA(2, 0, 0)   Log Likelihood               -9590.309\n",
       "Date:                Mon, 14 Nov 2022   AIC                          19188.618\n",
       "Time:                        17:56:17   BIC                          19215.596\n",
       "Sample:                    01-10-1994   HQIC                         19197.966\n",
       "                         - 01-29-2018                                         \n",
       "Covariance Type:                  opg                                         \n",
       "==============================================================================\n",
       "                 coef    std err          z      P>|z|      [0.025      0.975]\n",
       "------------------------------------------------------------------------------\n",
       "const          0.0190      0.013      1.409      0.159      -0.007       0.045\n",
       "ar.L1         -0.0184      0.008     -2.432      0.015      -0.033      -0.004\n",
       "ar.L2         -0.0485      0.007     -6.981      0.000      -0.062      -0.035\n",
       "sigma2         1.2440      0.011    112.784      0.000       1.222       1.266\n",
       "===================================================================================\n",
       "Ljung-Box (L1) (Q):                   0.07   Jarque-Bera (JB):             10336.58\n",
       "Prob(Q):                              0.79   Prob(JB):                         0.00\n",
       "Heteroskedasticity (H):               0.85   Skew:                            -0.07\n",
       "Prob(H) (two-sided):                  0.00   Kurtosis:                         9.29\n",
       "===================================================================================\n",
       "\n",
       "Warnings:\n",
       "[1] Covariance matrix calculated using the outer product of gradients (complex-step).\n",
       "\"\"\""
      ]
     },
     "execution_count": 42,
     "metadata": {},
     "output_type": "execute_result"
    }
   ],
   "source": [
    "ar2_ret = ARIMA(df.ftse_returns, order = (2, 0, 0))\n",
    "res_ret_ar2 = ar2_ret.fit()\n",
    "res_ret_ar2.summary()"
   ]
  },
  {
   "cell_type": "code",
   "execution_count": 43,
   "id": "d9809f8e",
   "metadata": {},
   "outputs": [
    {
     "data": {
      "text/plain": [
       "0.0"
      ]
     },
     "execution_count": 43,
     "metadata": {},
     "output_type": "execute_result"
    }
   ],
   "source": [
    "LLR_test(ar1_ret, ar2_ret) # AR(2) > AR(1)"
   ]
  },
  {
   "cell_type": "code",
   "execution_count": 44,
   "id": "190c1692",
   "metadata": {},
   "outputs": [
    {
     "data": {
      "text/html": [
       "<table class=\"simpletable\">\n",
       "<caption>SARIMAX Results</caption>\n",
       "<tr>\n",
       "  <th>Dep. Variable:</th>     <td>ftse_returns</td>   <th>  No. Observations:  </th>   <td>6276</td>   \n",
       "</tr>\n",
       "<tr>\n",
       "  <th>Model:</th>            <td>ARIMA(3, 0, 0)</td>  <th>  Log Likelihood     </th> <td>-9575.951</td>\n",
       "</tr>\n",
       "<tr>\n",
       "  <th>Date:</th>            <td>Mon, 14 Nov 2022</td> <th>  AIC                </th> <td>19161.902</td>\n",
       "</tr>\n",
       "<tr>\n",
       "  <th>Time:</th>                <td>17:57:49</td>     <th>  BIC                </th> <td>19195.624</td>\n",
       "</tr>\n",
       "<tr>\n",
       "  <th>Sample:</th>             <td>01-10-1994</td>    <th>  HQIC               </th> <td>19173.586</td>\n",
       "</tr>\n",
       "<tr>\n",
       "  <th></th>                   <td>- 01-29-2018</td>   <th>                     </th>     <td> </td>    \n",
       "</tr>\n",
       "<tr>\n",
       "  <th>Covariance Type:</th>        <td>opg</td>       <th>                     </th>     <td> </td>    \n",
       "</tr>\n",
       "</table>\n",
       "<table class=\"simpletable\">\n",
       "<tr>\n",
       "     <td></td>       <th>coef</th>     <th>std err</th>      <th>z</th>      <th>P>|z|</th>  <th>[0.025</th>    <th>0.975]</th>  \n",
       "</tr>\n",
       "<tr>\n",
       "  <th>const</th>  <td>    0.0190</td> <td>    0.013</td> <td>    1.476</td> <td> 0.140</td> <td>   -0.006</td> <td>    0.044</td>\n",
       "</tr>\n",
       "<tr>\n",
       "  <th>ar.L1</th>  <td>   -0.0217</td> <td>    0.008</td> <td>   -2.810</td> <td> 0.005</td> <td>   -0.037</td> <td>   -0.007</td>\n",
       "</tr>\n",
       "<tr>\n",
       "  <th>ar.L2</th>  <td>   -0.0498</td> <td>    0.007</td> <td>   -7.201</td> <td> 0.000</td> <td>   -0.063</td> <td>   -0.036</td>\n",
       "</tr>\n",
       "<tr>\n",
       "  <th>ar.L3</th>  <td>   -0.0676</td> <td>    0.007</td> <td>   -9.580</td> <td> 0.000</td> <td>   -0.081</td> <td>   -0.054</td>\n",
       "</tr>\n",
       "<tr>\n",
       "  <th>sigma2</th> <td>    1.2383</td> <td>    0.012</td> <td>  107.442</td> <td> 0.000</td> <td>    1.216</td> <td>    1.261</td>\n",
       "</tr>\n",
       "</table>\n",
       "<table class=\"simpletable\">\n",
       "<tr>\n",
       "  <th>Ljung-Box (L1) (Q):</th>     <td>0.03</td> <th>  Jarque-Bera (JB):  </th> <td>9353.53</td>\n",
       "</tr>\n",
       "<tr>\n",
       "  <th>Prob(Q):</th>                <td>0.87</td> <th>  Prob(JB):          </th>  <td>0.00</td>  \n",
       "</tr>\n",
       "<tr>\n",
       "  <th>Heteroskedasticity (H):</th> <td>0.86</td> <th>  Skew:              </th>  <td>-0.14</td> \n",
       "</tr>\n",
       "<tr>\n",
       "  <th>Prob(H) (two-sided):</th>    <td>0.00</td> <th>  Kurtosis:          </th>  <td>8.97</td>  \n",
       "</tr>\n",
       "</table><br/><br/>Warnings:<br/>[1] Covariance matrix calculated using the outer product of gradients (complex-step)."
      ],
      "text/plain": [
       "<class 'statsmodels.iolib.summary.Summary'>\n",
       "\"\"\"\n",
       "                               SARIMAX Results                                \n",
       "==============================================================================\n",
       "Dep. Variable:           ftse_returns   No. Observations:                 6276\n",
       "Model:                 ARIMA(3, 0, 0)   Log Likelihood               -9575.951\n",
       "Date:                Mon, 14 Nov 2022   AIC                          19161.902\n",
       "Time:                        17:57:49   BIC                          19195.624\n",
       "Sample:                    01-10-1994   HQIC                         19173.586\n",
       "                         - 01-29-2018                                         \n",
       "Covariance Type:                  opg                                         \n",
       "==============================================================================\n",
       "                 coef    std err          z      P>|z|      [0.025      0.975]\n",
       "------------------------------------------------------------------------------\n",
       "const          0.0190      0.013      1.476      0.140      -0.006       0.044\n",
       "ar.L1         -0.0217      0.008     -2.810      0.005      -0.037      -0.007\n",
       "ar.L2         -0.0498      0.007     -7.201      0.000      -0.063      -0.036\n",
       "ar.L3         -0.0676      0.007     -9.580      0.000      -0.081      -0.054\n",
       "sigma2         1.2383      0.012    107.442      0.000       1.216       1.261\n",
       "===================================================================================\n",
       "Ljung-Box (L1) (Q):                   0.03   Jarque-Bera (JB):              9353.53\n",
       "Prob(Q):                              0.87   Prob(JB):                         0.00\n",
       "Heteroskedasticity (H):               0.86   Skew:                            -0.14\n",
       "Prob(H) (two-sided):                  0.00   Kurtosis:                         8.97\n",
       "===================================================================================\n",
       "\n",
       "Warnings:\n",
       "[1] Covariance matrix calculated using the outer product of gradients (complex-step).\n",
       "\"\"\""
      ]
     },
     "execution_count": 44,
     "metadata": {},
     "output_type": "execute_result"
    }
   ],
   "source": [
    "ar3_ret = ARIMA(df.ftse_returns, order = (3, 0, 0))\n",
    "res_ret_ar3 = ar3_ret.fit()\n",
    "res_ret_ar3.summary()"
   ]
  },
  {
   "cell_type": "code",
   "execution_count": 45,
   "id": "1ffed34d",
   "metadata": {},
   "outputs": [
    {
     "data": {
      "text/plain": [
       "0.0"
      ]
     },
     "execution_count": 45,
     "metadata": {},
     "output_type": "execute_result"
    }
   ],
   "source": [
    "LLR_test(ar2_ret, ar3_ret) # AR(3) > AR(2)"
   ]
  },
  {
   "cell_type": "code",
   "execution_count": 46,
   "id": "a618d49e",
   "metadata": {},
   "outputs": [
    {
     "data": {
      "text/plain": [
       "(<class 'statsmodels.iolib.summary.Summary'>\n",
       " \"\"\"\n",
       "                                SARIMAX Results                                \n",
       " ==============================================================================\n",
       " Dep. Variable:           ftse_returns   No. Observations:                 6276\n",
       " Model:                 ARIMA(4, 0, 0)   Log Likelihood               -9573.016\n",
       " Date:                Mon, 14 Nov 2022   AIC                          19158.032\n",
       " Time:                        17:59:15   BIC                          19198.499\n",
       " Sample:                    01-10-1994   HQIC                         19172.053\n",
       "                          - 01-29-2018                                         \n",
       " Covariance Type:                  opg                                         \n",
       " ==============================================================================\n",
       "                  coef    std err          z      P>|z|      [0.025      0.975]\n",
       " ------------------------------------------------------------------------------\n",
       " const          0.0190      0.013      1.425      0.154      -0.007       0.045\n",
       " ar.L1         -0.0197      0.008     -2.539      0.011      -0.035      -0.004\n",
       " ar.L2         -0.0482      0.007     -6.949      0.000      -0.062      -0.035\n",
       " ar.L3         -0.0669      0.007     -9.465      0.000      -0.081      -0.053\n",
       " ar.L4          0.0306      0.007      4.216      0.000       0.016       0.045\n",
       " sigma2         1.2371      0.012    105.620      0.000       1.214       1.260\n",
       " ===================================================================================\n",
       " Ljung-Box (L1) (Q):                   0.02   Jarque-Bera (JB):              9084.15\n",
       " Prob(Q):                              0.89   Prob(JB):                         0.00\n",
       " Heteroskedasticity (H):               0.86   Skew:                            -0.12\n",
       " Prob(H) (two-sided):                  0.00   Kurtosis:                         8.89\n",
       " ===================================================================================\n",
       " \n",
       " Warnings:\n",
       " [1] Covariance matrix calculated using the outer product of gradients (complex-step).\n",
       " \"\"\",\n",
       " 0.015)"
      ]
     },
     "execution_count": 46,
     "metadata": {},
     "output_type": "execute_result"
    }
   ],
   "source": [
    "ar4_ret = ARIMA(df.ftse_returns, order = (4, 0, 0))\n",
    "res_ret_ar4 = ar4_ret.fit()\n",
    "res_ret_ar4.summary(), LLR_test(ar3_ret, ar4_ret)"
   ]
  },
  {
   "cell_type": "code",
   "execution_count": 47,
   "id": "1484f244",
   "metadata": {},
   "outputs": [
    {
     "data": {
      "text/plain": [
       "(<class 'statsmodels.iolib.summary.Summary'>\n",
       " \"\"\"\n",
       "                                SARIMAX Results                                \n",
       " ==============================================================================\n",
       " Dep. Variable:           ftse_returns   No. Observations:                 6276\n",
       " Model:                 ARIMA(5, 0, 0)   Log Likelihood               -9562.542\n",
       " Date:                Mon, 14 Nov 2022   AIC                          19139.083\n",
       " Time:                        18:00:14   BIC                          19186.295\n",
       " Sample:                    01-10-1994   HQIC                         19155.441\n",
       "                          - 01-29-2018                                         \n",
       " Covariance Type:                  opg                                         \n",
       " ==============================================================================\n",
       "                  coef    std err          z      P>|z|      [0.025      0.975]\n",
       " ------------------------------------------------------------------------------\n",
       " const          0.0190      0.013      1.499      0.134      -0.006       0.044\n",
       " ar.L1         -0.0179      0.008     -2.258      0.024      -0.033      -0.002\n",
       " ar.L2         -0.0521      0.007     -7.403      0.000      -0.066      -0.038\n",
       " ar.L3         -0.0697      0.007     -9.893      0.000      -0.083      -0.056\n",
       " ar.L4          0.0294      0.007      4.034      0.000       0.015       0.044\n",
       " ar.L5         -0.0577      0.007     -8.178      0.000      -0.072      -0.044\n",
       " sigma2         1.2330      0.012    105.271      0.000       1.210       1.256\n",
       " ===================================================================================\n",
       " Ljung-Box (L1) (Q):                   0.03   Jarque-Bera (JB):              8811.91\n",
       " Prob(Q):                              0.87   Prob(JB):                         0.00\n",
       " Heteroskedasticity (H):               0.86   Skew:                            -0.16\n",
       " Prob(H) (two-sided):                  0.00   Kurtosis:                         8.80\n",
       " ===================================================================================\n",
       " \n",
       " Warnings:\n",
       " [1] Covariance matrix calculated using the outer product of gradients (complex-step).\n",
       " \"\"\",\n",
       " 0.0)"
      ]
     },
     "execution_count": 47,
     "metadata": {},
     "output_type": "execute_result"
    }
   ],
   "source": [
    "ar5_ret = ARIMA(df.ftse_returns, order = (5, 0, 0))\n",
    "res_ret_ar5 = ar5_ret.fit()\n",
    "res_ret_ar5.summary(), LLR_test(ar4_ret, ar5_ret)"
   ]
  },
  {
   "cell_type": "code",
   "execution_count": 49,
   "id": "c95dc4a9",
   "metadata": {},
   "outputs": [
    {
     "data": {
      "text/plain": [
       "(<class 'statsmodels.iolib.summary.Summary'>\n",
       " \"\"\"\n",
       "                                SARIMAX Results                                \n",
       " ==============================================================================\n",
       " Dep. Variable:           ftse_returns   No. Observations:                 6276\n",
       " Model:                 ARIMA(6, 0, 0)   Log Likelihood               -9558.464\n",
       " Date:                Mon, 14 Nov 2022   AIC                          19132.928\n",
       " Time:                        18:01:13   BIC                          19186.884\n",
       " Sample:                    01-10-1994   HQIC                         19151.623\n",
       "                          - 01-29-2018                                         \n",
       " Covariance Type:                  opg                                         \n",
       " ==============================================================================\n",
       "                  coef    std err          z      P>|z|      [0.025      0.975]\n",
       " ------------------------------------------------------------------------------\n",
       " const          0.0190      0.012      1.543      0.123      -0.005       0.043\n",
       " ar.L1         -0.0200      0.008     -2.469      0.014      -0.036      -0.004\n",
       " ar.L2         -0.0510      0.007     -7.192      0.000      -0.065      -0.037\n",
       " ar.L3         -0.0722      0.007    -10.222      0.000      -0.086      -0.058\n",
       " ar.L4          0.0276      0.007      3.780      0.000       0.013       0.042\n",
       " ar.L5         -0.0584      0.007     -8.234      0.000      -0.072      -0.044\n",
       " ar.L6         -0.0360      0.008     -4.601      0.000      -0.051      -0.021\n",
       " sigma2         1.2314      0.012    105.229      0.000       1.208       1.254\n",
       " ===================================================================================\n",
       " Ljung-Box (L1) (Q):                   0.00   Jarque-Bera (JB):              8878.70\n",
       " Prob(Q):                              0.98   Prob(JB):                         0.00\n",
       " Heteroskedasticity (H):               0.87   Skew:                            -0.18\n",
       " Prob(H) (two-sided):                  0.00   Kurtosis:                         8.82\n",
       " ===================================================================================\n",
       " \n",
       " Warnings:\n",
       " [1] Covariance matrix calculated using the outer product of gradients (complex-step).\n",
       " \"\"\",\n",
       " 0.004)"
      ]
     },
     "execution_count": 49,
     "metadata": {},
     "output_type": "execute_result"
    }
   ],
   "source": [
    "ar6_ret = ARIMA(df.ftse_returns, order = (6, 0, 0))\n",
    "res_ret_ar6 = ar6_ret.fit()\n",
    "res_ret_ar6.summary(), LLR_test(ar5_ret, ar6_ret)"
   ]
  },
  {
   "cell_type": "code",
   "execution_count": 50,
   "id": "c46ee56d",
   "metadata": {},
   "outputs": [
    {
     "data": {
      "text/plain": [
       "(<class 'statsmodels.iolib.summary.Summary'>\n",
       " \"\"\"\n",
       "                                SARIMAX Results                                \n",
       " ==============================================================================\n",
       " Dep. Variable:           ftse_returns   No. Observations:                 6276\n",
       " Model:                 ARIMA(7, 0, 0)   Log Likelihood               -9558.281\n",
       " Date:                Mon, 14 Nov 2022   AIC                          19134.561\n",
       " Time:                        18:01:24   BIC                          19195.261\n",
       " Sample:                    01-10-1994   HQIC                         19155.593\n",
       "                          - 01-29-2018                                         \n",
       " Covariance Type:                  opg                                         \n",
       " ==============================================================================\n",
       "                  coef    std err          z      P>|z|      [0.025      0.975]\n",
       " ------------------------------------------------------------------------------\n",
       " const          0.0190      0.012      1.524      0.127      -0.005       0.043\n",
       " ar.L1         -0.0197      0.008     -2.428      0.015      -0.036      -0.004\n",
       " ar.L2         -0.0506      0.007     -7.080      0.000      -0.065      -0.037\n",
       " ar.L3         -0.0724      0.007    -10.118      0.000      -0.086      -0.058\n",
       " ar.L4          0.0281      0.007      3.812      0.000       0.014       0.043\n",
       " ar.L5         -0.0580      0.007     -8.146      0.000      -0.072      -0.044\n",
       " ar.L6         -0.0359      0.008     -4.570      0.000      -0.051      -0.020\n",
       " ar.L7          0.0077      0.008      0.962      0.336      -0.008       0.023\n",
       " sigma2         1.2313      0.012    104.578      0.000       1.208       1.254\n",
       " ===================================================================================\n",
       " Ljung-Box (L1) (Q):                   0.00   Jarque-Bera (JB):              8846.79\n",
       " Prob(Q):                              0.99   Prob(JB):                         0.00\n",
       " Heteroskedasticity (H):               0.86   Skew:                            -0.18\n",
       " Prob(H) (two-sided):                  0.00   Kurtosis:                         8.81\n",
       " ===================================================================================\n",
       " \n",
       " Warnings:\n",
       " [1] Covariance matrix calculated using the outer product of gradients (complex-step).\n",
       " \"\"\",\n",
       " 0.544)"
      ]
     },
     "execution_count": 50,
     "metadata": {},
     "output_type": "execute_result"
    }
   ],
   "source": [
    "ar7_ret = ARIMA(df.ftse_returns, order = (7, 0, 0))\n",
    "res_ret_ar7 = ar7_ret.fit()\n",
    "res_ret_ar7.summary(), LLR_test(ar6_ret, ar7_ret)"
   ]
  },
  {
   "cell_type": "markdown",
   "id": "57fa022c",
   "metadata": {},
   "source": [
    "## Normalizing of Time-Series Data"
   ]
  },
  {
   "cell_type": "code",
   "execution_count": 52,
   "id": "89ab29c6",
   "metadata": {},
   "outputs": [
    {
     "data": {
      "text/html": [
       "<div>\n",
       "<style scoped>\n",
       "    .dataframe tbody tr th:only-of-type {\n",
       "        vertical-align: middle;\n",
       "    }\n",
       "\n",
       "    .dataframe tbody tr th {\n",
       "        vertical-align: top;\n",
       "    }\n",
       "\n",
       "    .dataframe thead th {\n",
       "        text-align: right;\n",
       "    }\n",
       "</style>\n",
       "<table border=\"1\" class=\"dataframe\">\n",
       "  <thead>\n",
       "    <tr style=\"text-align: right;\">\n",
       "      <th></th>\n",
       "      <th>spx</th>\n",
       "      <th>dax</th>\n",
       "      <th>ftse</th>\n",
       "      <th>nikkei</th>\n",
       "      <th>ftse_returns</th>\n",
       "      <th>ftse_norm</th>\n",
       "    </tr>\n",
       "    <tr>\n",
       "      <th>date</th>\n",
       "      <th></th>\n",
       "      <th></th>\n",
       "      <th></th>\n",
       "      <th></th>\n",
       "      <th></th>\n",
       "      <th></th>\n",
       "    </tr>\n",
       "  </thead>\n",
       "  <tbody>\n",
       "    <tr>\n",
       "      <th>1994-01-10</th>\n",
       "      <td>475.27</td>\n",
       "      <td>2225.00</td>\n",
       "      <td>3440.58</td>\n",
       "      <td>18443.44</td>\n",
       "      <td>-0.156704</td>\n",
       "      <td>100.000000</td>\n",
       "    </tr>\n",
       "    <tr>\n",
       "      <th>1994-01-11</th>\n",
       "      <td>474.13</td>\n",
       "      <td>2228.10</td>\n",
       "      <td>3413.77</td>\n",
       "      <td>18485.25</td>\n",
       "      <td>-0.779229</td>\n",
       "      <td>99.220771</td>\n",
       "    </tr>\n",
       "    <tr>\n",
       "      <th>1994-01-12</th>\n",
       "      <td>474.17</td>\n",
       "      <td>2182.06</td>\n",
       "      <td>3372.02</td>\n",
       "      <td>18793.88</td>\n",
       "      <td>-1.222988</td>\n",
       "      <td>98.007313</td>\n",
       "    </tr>\n",
       "    <tr>\n",
       "      <th>1994-01-13</th>\n",
       "      <td>472.47</td>\n",
       "      <td>2142.37</td>\n",
       "      <td>3360.01</td>\n",
       "      <td>18577.26</td>\n",
       "      <td>-0.356166</td>\n",
       "      <td>97.658244</td>\n",
       "    </tr>\n",
       "    <tr>\n",
       "      <th>1994-01-14</th>\n",
       "      <td>474.91</td>\n",
       "      <td>2151.05</td>\n",
       "      <td>3400.56</td>\n",
       "      <td>18973.70</td>\n",
       "      <td>1.206842</td>\n",
       "      <td>98.836824</td>\n",
       "    </tr>\n",
       "  </tbody>\n",
       "</table>\n",
       "</div>"
      ],
      "text/plain": [
       "               spx      dax     ftse    nikkei  ftse_returns   ftse_norm\n",
       "date                                                                    \n",
       "1994-01-10  475.27  2225.00  3440.58  18443.44     -0.156704  100.000000\n",
       "1994-01-11  474.13  2228.10  3413.77  18485.25     -0.779229   99.220771\n",
       "1994-01-12  474.17  2182.06  3372.02  18793.88     -1.222988   98.007313\n",
       "1994-01-13  472.47  2142.37  3360.01  18577.26     -0.356166   97.658244\n",
       "1994-01-14  474.91  2151.05  3400.56  18973.70      1.206842   98.836824"
      ]
     },
     "execution_count": 52,
     "metadata": {},
     "output_type": "execute_result"
    }
   ],
   "source": [
    "# x_t => % of x_1\n",
    "benchmark = df.ftse.iloc[0]\n",
    "df['ftse_norm'] = df.ftse.div(benchmark).mul(100)\n",
    "df.head()"
   ]
  },
  {
   "cell_type": "code",
   "execution_count": 53,
   "id": "c011f741",
   "metadata": {},
   "outputs": [
    {
     "data": {
      "text/plain": [
       "(-1.5870996932040815,\n",
       " 0.4900704664018058,\n",
       " 6,\n",
       " 6269,\n",
       " {'1%': -3.4313935443677157,\n",
       "  '5%': -2.8620011543157835,\n",
       "  '10%': -2.5670154694652805},\n",
       " 24302.76353860927)"
      ]
     },
     "execution_count": 53,
     "metadata": {},
     "output_type": "execute_result"
    }
   ],
   "source": [
    "sts.adfuller(df.ftse_norm) # still high p-value, values are not stationary"
   ]
  },
  {
   "cell_type": "markdown",
   "id": "e5188878",
   "metadata": {},
   "source": [
    "## Normalizing of Returns"
   ]
  },
  {
   "cell_type": "code",
   "execution_count": 54,
   "id": "b6243262",
   "metadata": {},
   "outputs": [
    {
     "data": {
      "text/html": [
       "<div>\n",
       "<style scoped>\n",
       "    .dataframe tbody tr th:only-of-type {\n",
       "        vertical-align: middle;\n",
       "    }\n",
       "\n",
       "    .dataframe tbody tr th {\n",
       "        vertical-align: top;\n",
       "    }\n",
       "\n",
       "    .dataframe thead th {\n",
       "        text-align: right;\n",
       "    }\n",
       "</style>\n",
       "<table border=\"1\" class=\"dataframe\">\n",
       "  <thead>\n",
       "    <tr style=\"text-align: right;\">\n",
       "      <th></th>\n",
       "      <th>spx</th>\n",
       "      <th>dax</th>\n",
       "      <th>ftse</th>\n",
       "      <th>nikkei</th>\n",
       "      <th>ftse_returns</th>\n",
       "      <th>ftse_norm</th>\n",
       "      <th>ftse_returns_norm</th>\n",
       "    </tr>\n",
       "    <tr>\n",
       "      <th>date</th>\n",
       "      <th></th>\n",
       "      <th></th>\n",
       "      <th></th>\n",
       "      <th></th>\n",
       "      <th></th>\n",
       "      <th></th>\n",
       "      <th></th>\n",
       "    </tr>\n",
       "  </thead>\n",
       "  <tbody>\n",
       "    <tr>\n",
       "      <th>1994-01-10</th>\n",
       "      <td>475.27</td>\n",
       "      <td>2225.00</td>\n",
       "      <td>3440.58</td>\n",
       "      <td>18443.44</td>\n",
       "      <td>-0.156704</td>\n",
       "      <td>100.000000</td>\n",
       "      <td>100.000000</td>\n",
       "    </tr>\n",
       "    <tr>\n",
       "      <th>1994-01-11</th>\n",
       "      <td>474.13</td>\n",
       "      <td>2228.10</td>\n",
       "      <td>3413.77</td>\n",
       "      <td>18485.25</td>\n",
       "      <td>-0.779229</td>\n",
       "      <td>99.220771</td>\n",
       "      <td>497.260711</td>\n",
       "    </tr>\n",
       "    <tr>\n",
       "      <th>1994-01-12</th>\n",
       "      <td>474.17</td>\n",
       "      <td>2182.06</td>\n",
       "      <td>3372.02</td>\n",
       "      <td>18793.88</td>\n",
       "      <td>-1.222988</td>\n",
       "      <td>98.007313</td>\n",
       "      <td>780.443046</td>\n",
       "    </tr>\n",
       "    <tr>\n",
       "      <th>1994-01-13</th>\n",
       "      <td>472.47</td>\n",
       "      <td>2142.37</td>\n",
       "      <td>3360.01</td>\n",
       "      <td>18577.26</td>\n",
       "      <td>-0.356166</td>\n",
       "      <td>97.658244</td>\n",
       "      <td>227.285567</td>\n",
       "    </tr>\n",
       "    <tr>\n",
       "      <th>1994-01-14</th>\n",
       "      <td>474.91</td>\n",
       "      <td>2151.05</td>\n",
       "      <td>3400.56</td>\n",
       "      <td>18973.70</td>\n",
       "      <td>1.206842</td>\n",
       "      <td>98.836824</td>\n",
       "      <td>-770.139292</td>\n",
       "    </tr>\n",
       "  </tbody>\n",
       "</table>\n",
       "</div>"
      ],
      "text/plain": [
       "               spx      dax     ftse    nikkei  ftse_returns   ftse_norm  \\\n",
       "date                                                                       \n",
       "1994-01-10  475.27  2225.00  3440.58  18443.44     -0.156704  100.000000   \n",
       "1994-01-11  474.13  2228.10  3413.77  18485.25     -0.779229   99.220771   \n",
       "1994-01-12  474.17  2182.06  3372.02  18793.88     -1.222988   98.007313   \n",
       "1994-01-13  472.47  2142.37  3360.01  18577.26     -0.356166   97.658244   \n",
       "1994-01-14  474.91  2151.05  3400.56  18973.70      1.206842   98.836824   \n",
       "\n",
       "            ftse_returns_norm  \n",
       "date                           \n",
       "1994-01-10         100.000000  \n",
       "1994-01-11         497.260711  \n",
       "1994-01-12         780.443046  \n",
       "1994-01-13         227.285567  \n",
       "1994-01-14        -770.139292  "
      ]
     },
     "execution_count": 54,
     "metadata": {},
     "output_type": "execute_result"
    }
   ],
   "source": [
    "benchmark_ret = df.ftse_returns.iloc[0]\n",
    "df['ftse_returns_norm'] = df.ftse_returns.div(benchmark_ret).mul(100)\n",
    "df.head()"
   ]
  },
  {
   "cell_type": "code",
   "execution_count": 55,
   "id": "3392fca1",
   "metadata": {},
   "outputs": [
    {
     "data": {
      "text/plain": [
       "(-15.140761332034826,\n",
       " 7.016338451093501e-28,\n",
       " 34,\n",
       " 6241,\n",
       " {'1%': -3.431398228116075,\n",
       "  '5%': -2.8620032237533897,\n",
       "  '10%': -2.5670165710764503},\n",
       " 99642.30855107102)"
      ]
     },
     "execution_count": 55,
     "metadata": {},
     "output_type": "execute_result"
    }
   ],
   "source": [
    "sts.adfuller(df.ftse_returns_norm) # this data is stationary"
   ]
  },
  {
   "cell_type": "markdown",
   "id": "9b40e45a",
   "metadata": {},
   "source": [
    "**Normalizing does not affect stationarity**"
   ]
  },
  {
   "cell_type": "markdown",
   "id": "ba7e449f",
   "metadata": {},
   "source": [
    "## AR model for Normilized Returns"
   ]
  },
  {
   "cell_type": "code",
   "execution_count": 56,
   "id": "6f9d4e71",
   "metadata": {},
   "outputs": [
    {
     "data": {
      "text/html": [
       "<table class=\"simpletable\">\n",
       "<caption>SARIMAX Results</caption>\n",
       "<tr>\n",
       "  <th>Dep. Variable:</th>   <td>ftse_returns_norm</td> <th>  No. Observations:  </th>    <td>6276</td>   \n",
       "</tr>\n",
       "<tr>\n",
       "  <th>Model:</th>            <td>ARIMA(1, 0, 0)</td>   <th>  Log Likelihood     </th> <td>-50131.657</td>\n",
       "</tr>\n",
       "<tr>\n",
       "  <th>Date:</th>            <td>Mon, 14 Nov 2022</td>  <th>  AIC                </th> <td>100269.313</td>\n",
       "</tr>\n",
       "<tr>\n",
       "  <th>Time:</th>                <td>18:16:55</td>      <th>  BIC                </th> <td>100289.547</td>\n",
       "</tr>\n",
       "<tr>\n",
       "  <th>Sample:</th>             <td>01-10-1994</td>     <th>  HQIC               </th> <td>100276.324</td>\n",
       "</tr>\n",
       "<tr>\n",
       "  <th></th>                   <td>- 01-29-2018</td>    <th>                     </th>      <td> </td>    \n",
       "</tr>\n",
       "<tr>\n",
       "  <th>Covariance Type:</th>        <td>opg</td>        <th>                     </th>      <td> </td>    \n",
       "</tr>\n",
       "</table>\n",
       "<table class=\"simpletable\">\n",
       "<tr>\n",
       "     <td></td>       <th>coef</th>     <th>std err</th>      <th>z</th>      <th>P>|z|</th>  <th>[0.025</th>    <th>0.975]</th>  \n",
       "</tr>\n",
       "<tr>\n",
       "  <th>const</th>  <td>  -12.1199</td> <td>    8.959</td> <td>   -1.353</td> <td> 0.176</td> <td>  -29.679</td> <td>    5.439</td>\n",
       "</tr>\n",
       "<tr>\n",
       "  <th>ar.L1</th>  <td>   -0.0176</td> <td>    0.008</td> <td>   -2.346</td> <td> 0.019</td> <td>   -0.032</td> <td>   -0.003</td>\n",
       "</tr>\n",
       "<tr>\n",
       "  <th>sigma2</th> <td> 5.079e+05</td> <td> 4482.359</td> <td>  113.301</td> <td> 0.000</td> <td> 4.99e+05</td> <td> 5.17e+05</td>\n",
       "</tr>\n",
       "</table>\n",
       "<table class=\"simpletable\">\n",
       "<tr>\n",
       "  <th>Ljung-Box (L1) (Q):</th>     <td>0.00</td> <th>  Jarque-Bera (JB):  </th> <td>10512.40</td>\n",
       "</tr>\n",
       "<tr>\n",
       "  <th>Prob(Q):</th>                <td>0.95</td> <th>  Prob(JB):          </th>   <td>0.00</td>  \n",
       "</tr>\n",
       "<tr>\n",
       "  <th>Heteroskedasticity (H):</th> <td>0.85</td> <th>  Skew:              </th>   <td>0.04</td>  \n",
       "</tr>\n",
       "<tr>\n",
       "  <th>Prob(H) (two-sided):</th>    <td>0.00</td> <th>  Kurtosis:          </th>   <td>9.34</td>  \n",
       "</tr>\n",
       "</table><br/><br/>Warnings:<br/>[1] Covariance matrix calculated using the outer product of gradients (complex-step)."
      ],
      "text/plain": [
       "<class 'statsmodels.iolib.summary.Summary'>\n",
       "\"\"\"\n",
       "                               SARIMAX Results                                \n",
       "==============================================================================\n",
       "Dep. Variable:      ftse_returns_norm   No. Observations:                 6276\n",
       "Model:                 ARIMA(1, 0, 0)   Log Likelihood              -50131.657\n",
       "Date:                Mon, 14 Nov 2022   AIC                         100269.313\n",
       "Time:                        18:16:55   BIC                         100289.547\n",
       "Sample:                    01-10-1994   HQIC                        100276.324\n",
       "                         - 01-29-2018                                         \n",
       "Covariance Type:                  opg                                         \n",
       "==============================================================================\n",
       "                 coef    std err          z      P>|z|      [0.025      0.975]\n",
       "------------------------------------------------------------------------------\n",
       "const        -12.1199      8.959     -1.353      0.176     -29.679       5.439\n",
       "ar.L1         -0.0176      0.008     -2.346      0.019      -0.032      -0.003\n",
       "sigma2      5.079e+05   4482.359    113.301      0.000    4.99e+05    5.17e+05\n",
       "===================================================================================\n",
       "Ljung-Box (L1) (Q):                   0.00   Jarque-Bera (JB):             10512.40\n",
       "Prob(Q):                              0.95   Prob(JB):                         0.00\n",
       "Heteroskedasticity (H):               0.85   Skew:                             0.04\n",
       "Prob(H) (two-sided):                  0.00   Kurtosis:                         9.34\n",
       "===================================================================================\n",
       "\n",
       "Warnings:\n",
       "[1] Covariance matrix calculated using the outer product of gradients (complex-step).\n",
       "\"\"\""
      ]
     },
     "execution_count": 56,
     "metadata": {},
     "output_type": "execute_result"
    }
   ],
   "source": [
    "# we get the same results as for not normilized returns!\n",
    "ar1_norm_ret = ARIMA(df.ftse_returns_norm, order = (1, 0, 0))\n",
    "res_norm_ret_ar1 = ar1_norm_ret.fit()\n",
    "res_norm_ret_ar1.summary()"
   ]
  },
  {
   "cell_type": "code",
   "execution_count": 57,
   "id": "392265a4",
   "metadata": {},
   "outputs": [
    {
     "data": {
      "text/html": [
       "<table class=\"simpletable\">\n",
       "<caption>SARIMAX Results</caption>\n",
       "<tr>\n",
       "  <th>Dep. Variable:</th>   <td>ftse_returns_norm</td> <th>  No. Observations:  </th>    <td>6276</td>   \n",
       "</tr>\n",
       "<tr>\n",
       "  <th>Model:</th>            <td>ARIMA(2, 0, 0)</td>   <th>  Log Likelihood     </th> <td>-50124.261</td>\n",
       "</tr>\n",
       "<tr>\n",
       "  <th>Date:</th>            <td>Mon, 14 Nov 2022</td>  <th>  AIC                </th> <td>100256.522</td>\n",
       "</tr>\n",
       "<tr>\n",
       "  <th>Time:</th>                <td>18:18:10</td>      <th>  BIC                </th> <td>100283.500</td>\n",
       "</tr>\n",
       "<tr>\n",
       "  <th>Sample:</th>             <td>01-10-1994</td>     <th>  HQIC               </th> <td>100265.869</td>\n",
       "</tr>\n",
       "<tr>\n",
       "  <th></th>                   <td>- 01-29-2018</td>    <th>                     </th>      <td> </td>    \n",
       "</tr>\n",
       "<tr>\n",
       "  <th>Covariance Type:</th>        <td>opg</td>        <th>                     </th>      <td> </td>    \n",
       "</tr>\n",
       "</table>\n",
       "<table class=\"simpletable\">\n",
       "<tr>\n",
       "     <td></td>       <th>coef</th>     <th>std err</th>      <th>z</th>      <th>P>|z|</th>  <th>[0.025</th>    <th>0.975]</th>  \n",
       "</tr>\n",
       "<tr>\n",
       "  <th>const</th>  <td>  -12.1199</td> <td>    8.603</td> <td>   -1.409</td> <td> 0.159</td> <td>  -28.981</td> <td>    4.741</td>\n",
       "</tr>\n",
       "<tr>\n",
       "  <th>ar.L1</th>  <td>   -0.0184</td> <td>    0.008</td> <td>   -2.430</td> <td> 0.015</td> <td>   -0.033</td> <td>   -0.004</td>\n",
       "</tr>\n",
       "<tr>\n",
       "  <th>ar.L2</th>  <td>   -0.0485</td> <td>    0.007</td> <td>   -6.978</td> <td> 0.000</td> <td>   -0.062</td> <td>   -0.035</td>\n",
       "</tr>\n",
       "<tr>\n",
       "  <th>sigma2</th> <td> 5.067e+05</td> <td> 4493.737</td> <td>  112.756</td> <td> 0.000</td> <td> 4.98e+05</td> <td> 5.16e+05</td>\n",
       "</tr>\n",
       "</table>\n",
       "<table class=\"simpletable\">\n",
       "<tr>\n",
       "  <th>Ljung-Box (L1) (Q):</th>     <td>0.07</td> <th>  Jarque-Bera (JB):  </th> <td>10336.71</td>\n",
       "</tr>\n",
       "<tr>\n",
       "  <th>Prob(Q):</th>                <td>0.79</td> <th>  Prob(JB):          </th>   <td>0.00</td>  \n",
       "</tr>\n",
       "<tr>\n",
       "  <th>Heteroskedasticity (H):</th> <td>0.85</td> <th>  Skew:              </th>   <td>0.07</td>  \n",
       "</tr>\n",
       "<tr>\n",
       "  <th>Prob(H) (two-sided):</th>    <td>0.00</td> <th>  Kurtosis:          </th>   <td>9.29</td>  \n",
       "</tr>\n",
       "</table><br/><br/>Warnings:<br/>[1] Covariance matrix calculated using the outer product of gradients (complex-step)."
      ],
      "text/plain": [
       "<class 'statsmodels.iolib.summary.Summary'>\n",
       "\"\"\"\n",
       "                               SARIMAX Results                                \n",
       "==============================================================================\n",
       "Dep. Variable:      ftse_returns_norm   No. Observations:                 6276\n",
       "Model:                 ARIMA(2, 0, 0)   Log Likelihood              -50124.261\n",
       "Date:                Mon, 14 Nov 2022   AIC                         100256.522\n",
       "Time:                        18:18:10   BIC                         100283.500\n",
       "Sample:                    01-10-1994   HQIC                        100265.869\n",
       "                         - 01-29-2018                                         \n",
       "Covariance Type:                  opg                                         \n",
       "==============================================================================\n",
       "                 coef    std err          z      P>|z|      [0.025      0.975]\n",
       "------------------------------------------------------------------------------\n",
       "const        -12.1199      8.603     -1.409      0.159     -28.981       4.741\n",
       "ar.L1         -0.0184      0.008     -2.430      0.015      -0.033      -0.004\n",
       "ar.L2         -0.0485      0.007     -6.978      0.000      -0.062      -0.035\n",
       "sigma2      5.067e+05   4493.737    112.756      0.000    4.98e+05    5.16e+05\n",
       "===================================================================================\n",
       "Ljung-Box (L1) (Q):                   0.07   Jarque-Bera (JB):             10336.71\n",
       "Prob(Q):                              0.79   Prob(JB):                         0.00\n",
       "Heteroskedasticity (H):               0.85   Skew:                             0.07\n",
       "Prob(H) (two-sided):                  0.00   Kurtosis:                         9.29\n",
       "===================================================================================\n",
       "\n",
       "Warnings:\n",
       "[1] Covariance matrix calculated using the outer product of gradients (complex-step).\n",
       "\"\"\""
      ]
     },
     "execution_count": 57,
     "metadata": {},
     "output_type": "execute_result"
    }
   ],
   "source": [
    "ar2_norm_ret = ARIMA(df.ftse_returns_norm, order = (2, 0, 0))\n",
    "res_norm_ret_ar2 = ar2_norm_ret.fit()\n",
    "res_norm_ret_ar2.summary()"
   ]
  },
  {
   "cell_type": "code",
   "execution_count": 58,
   "id": "dc9c1cfb",
   "metadata": {},
   "outputs": [
    {
     "data": {
      "text/html": [
       "<table class=\"simpletable\">\n",
       "<caption>SARIMAX Results</caption>\n",
       "<tr>\n",
       "  <th>Dep. Variable:</th>   <td>ftse_returns_norm</td> <th>  No. Observations:  </th>    <td>6276</td>   \n",
       "</tr>\n",
       "<tr>\n",
       "  <th>Model:</th>            <td>ARIMA(7, 0, 0)</td>   <th>  Log Likelihood     </th> <td>-50092.233</td>\n",
       "</tr>\n",
       "<tr>\n",
       "  <th>Date:</th>            <td>Mon, 14 Nov 2022</td>  <th>  AIC                </th> <td>100202.466</td>\n",
       "</tr>\n",
       "<tr>\n",
       "  <th>Time:</th>                <td>18:19:46</td>      <th>  BIC                </th> <td>100263.166</td>\n",
       "</tr>\n",
       "<tr>\n",
       "  <th>Sample:</th>             <td>01-10-1994</td>     <th>  HQIC               </th> <td>100223.497</td>\n",
       "</tr>\n",
       "<tr>\n",
       "  <th></th>                   <td>- 01-29-2018</td>    <th>                     </th>      <td> </td>    \n",
       "</tr>\n",
       "<tr>\n",
       "  <th>Covariance Type:</th>        <td>opg</td>        <th>                     </th>      <td> </td>    \n",
       "</tr>\n",
       "</table>\n",
       "<table class=\"simpletable\">\n",
       "<tr>\n",
       "     <td></td>       <th>coef</th>     <th>std err</th>      <th>z</th>      <th>P>|z|</th>  <th>[0.025</th>    <th>0.975]</th>  \n",
       "</tr>\n",
       "<tr>\n",
       "  <th>const</th>  <td>  -12.1199</td> <td>    7.968</td> <td>   -1.521</td> <td> 0.128</td> <td>  -27.737</td> <td>    3.497</td>\n",
       "</tr>\n",
       "<tr>\n",
       "  <th>ar.L1</th>  <td>   -0.0197</td> <td>    0.008</td> <td>   -2.427</td> <td> 0.015</td> <td>   -0.036</td> <td>   -0.004</td>\n",
       "</tr>\n",
       "<tr>\n",
       "  <th>ar.L2</th>  <td>   -0.0506</td> <td>    0.007</td> <td>   -7.076</td> <td> 0.000</td> <td>   -0.065</td> <td>   -0.037</td>\n",
       "</tr>\n",
       "<tr>\n",
       "  <th>ar.L3</th>  <td>   -0.0724</td> <td>    0.007</td> <td>  -10.113</td> <td> 0.000</td> <td>   -0.086</td> <td>   -0.058</td>\n",
       "</tr>\n",
       "<tr>\n",
       "  <th>ar.L4</th>  <td>    0.0281</td> <td>    0.007</td> <td>    3.810</td> <td> 0.000</td> <td>    0.014</td> <td>    0.043</td>\n",
       "</tr>\n",
       "<tr>\n",
       "  <th>ar.L5</th>  <td>   -0.0580</td> <td>    0.007</td> <td>   -8.142</td> <td> 0.000</td> <td>   -0.072</td> <td>   -0.044</td>\n",
       "</tr>\n",
       "<tr>\n",
       "  <th>ar.L6</th>  <td>   -0.0359</td> <td>    0.008</td> <td>   -4.567</td> <td> 0.000</td> <td>   -0.051</td> <td>   -0.020</td>\n",
       "</tr>\n",
       "<tr>\n",
       "  <th>ar.L7</th>  <td>    0.0077</td> <td>    0.008</td> <td>    0.961</td> <td> 0.336</td> <td>   -0.008</td> <td>    0.023</td>\n",
       "</tr>\n",
       "<tr>\n",
       "  <th>sigma2</th> <td> 5.017e+05</td> <td> 4800.189</td> <td>  104.519</td> <td> 0.000</td> <td> 4.92e+05</td> <td> 5.11e+05</td>\n",
       "</tr>\n",
       "</table>\n",
       "<table class=\"simpletable\">\n",
       "<tr>\n",
       "  <th>Ljung-Box (L1) (Q):</th>     <td>0.00</td> <th>  Jarque-Bera (JB):  </th> <td>8846.79</td>\n",
       "</tr>\n",
       "<tr>\n",
       "  <th>Prob(Q):</th>                <td>0.99</td> <th>  Prob(JB):          </th>  <td>0.00</td>  \n",
       "</tr>\n",
       "<tr>\n",
       "  <th>Heteroskedasticity (H):</th> <td>0.86</td> <th>  Skew:              </th>  <td>0.18</td>  \n",
       "</tr>\n",
       "<tr>\n",
       "  <th>Prob(H) (two-sided):</th>    <td>0.00</td> <th>  Kurtosis:          </th>  <td>8.81</td>  \n",
       "</tr>\n",
       "</table><br/><br/>Warnings:<br/>[1] Covariance matrix calculated using the outer product of gradients (complex-step)."
      ],
      "text/plain": [
       "<class 'statsmodels.iolib.summary.Summary'>\n",
       "\"\"\"\n",
       "                               SARIMAX Results                                \n",
       "==============================================================================\n",
       "Dep. Variable:      ftse_returns_norm   No. Observations:                 6276\n",
       "Model:                 ARIMA(7, 0, 0)   Log Likelihood              -50092.233\n",
       "Date:                Mon, 14 Nov 2022   AIC                         100202.466\n",
       "Time:                        18:19:46   BIC                         100263.166\n",
       "Sample:                    01-10-1994   HQIC                        100223.497\n",
       "                         - 01-29-2018                                         \n",
       "Covariance Type:                  opg                                         \n",
       "==============================================================================\n",
       "                 coef    std err          z      P>|z|      [0.025      0.975]\n",
       "------------------------------------------------------------------------------\n",
       "const        -12.1199      7.968     -1.521      0.128     -27.737       3.497\n",
       "ar.L1         -0.0197      0.008     -2.427      0.015      -0.036      -0.004\n",
       "ar.L2         -0.0506      0.007     -7.076      0.000      -0.065      -0.037\n",
       "ar.L3         -0.0724      0.007    -10.113      0.000      -0.086      -0.058\n",
       "ar.L4          0.0281      0.007      3.810      0.000       0.014       0.043\n",
       "ar.L5         -0.0580      0.007     -8.142      0.000      -0.072      -0.044\n",
       "ar.L6         -0.0359      0.008     -4.567      0.000      -0.051      -0.020\n",
       "ar.L7          0.0077      0.008      0.961      0.336      -0.008       0.023\n",
       "sigma2      5.017e+05   4800.189    104.519      0.000    4.92e+05    5.11e+05\n",
       "===================================================================================\n",
       "Ljung-Box (L1) (Q):                   0.00   Jarque-Bera (JB):              8846.79\n",
       "Prob(Q):                              0.99   Prob(JB):                         0.00\n",
       "Heteroskedasticity (H):               0.86   Skew:                             0.18\n",
       "Prob(H) (two-sided):                  0.00   Kurtosis:                         8.81\n",
       "===================================================================================\n",
       "\n",
       "Warnings:\n",
       "[1] Covariance matrix calculated using the outer product of gradients (complex-step).\n",
       "\"\"\""
      ]
     },
     "execution_count": 58,
     "metadata": {},
     "output_type": "execute_result"
    }
   ],
   "source": [
    "# again the same results as for not normilized returns!\n",
    "ar7_norm_ret = ARIMA(df.ftse_returns_norm, order = (7, 0, 0))\n",
    "res_norm_ret_ar7 = ar7_norm_ret.fit()\n",
    "res_norm_ret_ar7.summary()"
   ]
  },
  {
   "cell_type": "markdown",
   "id": "762caf85",
   "metadata": {},
   "source": [
    "## Residuals"
   ]
  },
  {
   "cell_type": "code",
   "execution_count": 62,
   "id": "9d53d1e0",
   "metadata": {},
   "outputs": [
    {
     "data": {
      "text/plain": [
       "(0.7920845458224425, 3381.4132890322057)"
      ]
     },
     "execution_count": 62,
     "metadata": {},
     "output_type": "execute_result"
    }
   ],
   "source": [
    "df['residual_ftse'] = results_ar7.resid\n",
    "df['residual_ftse'].mean(), df['residual_ftse'].var()"
   ]
  },
  {
   "cell_type": "code",
   "execution_count": 63,
   "id": "484703d3",
   "metadata": {},
   "outputs": [
    {
     "data": {
      "text/plain": [
       "(-79.20546814229104,\n",
       " 0.0,\n",
       " 0,\n",
       " 6275,\n",
       " {'1%': -3.431392546147741,\n",
       "  '5%': -2.8620007132681926,\n",
       "  '10%': -2.567015234685164},\n",
       " 68454.89807639123)"
      ]
     },
     "execution_count": 63,
     "metadata": {},
     "output_type": "execute_result"
    }
   ],
   "source": [
    "sts.adfuller(df.residual_ftse)"
   ]
  },
  {
   "cell_type": "code",
   "execution_count": 65,
   "id": "7ecd8d98",
   "metadata": {},
   "outputs": [
    {
     "data": {
      "image/png": "[encoded data removed]",
      "text/plain": [
       "<Figure size 432x288 with 1 Axes>"
      ]
     },
     "metadata": {},
     "output_type": "display_data"
    }
   ],
   "source": [
    "sgt.plot_acf(df.residual_ftse, lags = 40, zero = False)\n",
    "plt.title('Autocorrelation function of FTSE Residuals', size = 20)\n",
    "plt.show()"
   ]
  },
  {
   "cell_type": "code",
   "execution_count": 66,
   "id": "08315d45",
   "metadata": {},
   "outputs": [
    {
     "data": {
      "image/png": "[encoded data removed]",
      "text/plain": [
       "<Figure size 1440x360 with 1 Axes>"
      ]
     },
     "metadata": {},
     "output_type": "display_data"
    }
   ],
   "source": [
    "df.residual_ftse.plot(figsize = (20, 5))\n",
    "plt.title('Residual of FTSE', size = 20)\n",
    "plt.show()"
   ]
  },
  {
   "cell_type": "markdown",
   "id": "16a9342a",
   "metadata": {},
   "source": [
    "## Residuals of Returns"
   ]
  },
  {
   "cell_type": "code",
   "execution_count": 67,
   "id": "f6481b8e",
   "metadata": {},
   "outputs": [
    {
     "data": {
      "text/plain": [
       "(-3.3705750321409655e-05, 1.231602074682843)"
      ]
     },
     "execution_count": 67,
     "metadata": {},
     "output_type": "execute_result"
    }
   ],
   "source": [
    "df['residual_ftse_returns'] = res_ret_ar6.resid\n",
    "df['residual_ftse_returns'].mean(), df['residual_ftse_returns'].var()"
   ]
  },
  {
   "cell_type": "code",
   "execution_count": 69,
   "id": "eb170edb",
   "metadata": {},
   "outputs": [
    {
     "data": {
      "text/plain": [
       "(-14.994339710062516,\n",
       " 1.1133944509180262e-27,\n",
       " 34,\n",
       " 6241,\n",
       " {'1%': -3.431398228116075,\n",
       "  '5%': -2.8620032237533897,\n",
       "  '10%': -2.5670165710764503},\n",
       " 19028.245506624215)"
      ]
     },
     "execution_count": 69,
     "metadata": {},
     "output_type": "execute_result"
    }
   ],
   "source": [
    "sts.adfuller(df.residual_ftse_returns)"
   ]
  },
  {
   "cell_type": "code",
   "execution_count": 71,
   "id": "3dfd3e42",
   "metadata": {},
   "outputs": [
    {
     "data": {
      "image/png": "[encoded data removed]",
      "text/plain": [
       "<Figure size 432x288 with 1 Axes>"
      ]
     },
     "metadata": {},
     "output_type": "display_data"
    }
   ],
   "source": [
    "sgt.plot_acf(df.residual_ftse_returns, lags = 40, zero = False)\n",
    "plt.title('Autocorrelation function of Residuals of FTSE Returns', size = 20)\n",
    "plt.show()"
   ]
  },
  {
   "cell_type": "code",
   "execution_count": 72,
   "id": "49ffb24f",
   "metadata": {},
   "outputs": [
    {
     "data": {
      "image/png": "[encoded data removed]",
      "text/plain": [
       "<Figure size 1440x360 with 1 Axes>"
      ]
     },
     "metadata": {},
     "output_type": "display_data"
    }
   ],
   "source": [
    "df.residual_ftse_returns.plot(figsize = (20, 5))\n",
    "plt.title('Residual of Returns', size = 20)\n",
    "plt.show()"
   ]
  }
 ],
 "metadata": {
  "kernelspec": {
   "display_name": "Python 3",
   "language": "python",
   "name": "python3"
  },
  "language_info": {
   "codemirror_mode": {
    "name": "ipython",
    "version": 3
   },
   "file_extension": ".py",
   "mimetype": "text/x-python",
   "name": "python",
   "nbconvert_exporter": "python",
   "pygments_lexer": "ipython3",
   "version": "3.8.8"
  }
 },
 "nbformat": 4,
 "nbformat_minor": 5
}
