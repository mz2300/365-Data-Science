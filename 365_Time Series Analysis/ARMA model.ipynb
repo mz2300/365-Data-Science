{
 "cells": [
  {
   "cell_type": "code",
   "execution_count": 1,
   "id": "d8775d88",
   "metadata": {},
   "outputs": [],
   "source": [
    "import numpy as np\n",
    "import pandas as pd\n",
    "import matplotlib.pyplot as plt\n",
    "import seaborn as sns\n",
    "sns.set()"
   ]
  },
  {
   "cell_type": "markdown",
   "id": "06c3cdbf",
   "metadata": {},
   "source": [
    "## Importing the data"
   ]
  },
  {
   "cell_type": "code",
   "execution_count": 2,
   "id": "cdc7acb7",
   "metadata": {},
   "outputs": [
    {
     "data": {
      "text/html": [
       "<div>\n",
       "<style scoped>\n",
       "    .dataframe tbody tr th:only-of-type {\n",
       "        vertical-align: middle;\n",
       "    }\n",
       "\n",
       "    .dataframe tbody tr th {\n",
       "        vertical-align: top;\n",
       "    }\n",
       "\n",
       "    .dataframe thead th {\n",
       "        text-align: right;\n",
       "    }\n",
       "</style>\n",
       "<table border=\"1\" class=\"dataframe\">\n",
       "  <thead>\n",
       "    <tr style=\"text-align: right;\">\n",
       "      <th></th>\n",
       "      <th>date</th>\n",
       "      <th>spx</th>\n",
       "      <th>dax</th>\n",
       "      <th>ftse</th>\n",
       "      <th>nikkei</th>\n",
       "    </tr>\n",
       "  </thead>\n",
       "  <tbody>\n",
       "    <tr>\n",
       "      <th>0</th>\n",
       "      <td>07/01/1994</td>\n",
       "      <td>469.90</td>\n",
       "      <td>2224.95</td>\n",
       "      <td>3445.98</td>\n",
       "      <td>18124.01</td>\n",
       "    </tr>\n",
       "    <tr>\n",
       "      <th>1</th>\n",
       "      <td>10/01/1994</td>\n",
       "      <td>475.27</td>\n",
       "      <td>2225.00</td>\n",
       "      <td>3440.58</td>\n",
       "      <td>18443.44</td>\n",
       "    </tr>\n",
       "    <tr>\n",
       "      <th>2</th>\n",
       "      <td>11/01/1994</td>\n",
       "      <td>474.13</td>\n",
       "      <td>2228.10</td>\n",
       "      <td>3413.77</td>\n",
       "      <td>18485.25</td>\n",
       "    </tr>\n",
       "    <tr>\n",
       "      <th>3</th>\n",
       "      <td>12/01/1994</td>\n",
       "      <td>474.17</td>\n",
       "      <td>2182.06</td>\n",
       "      <td>3372.02</td>\n",
       "      <td>18793.88</td>\n",
       "    </tr>\n",
       "    <tr>\n",
       "      <th>4</th>\n",
       "      <td>13/01/1994</td>\n",
       "      <td>472.47</td>\n",
       "      <td>2142.37</td>\n",
       "      <td>3360.01</td>\n",
       "      <td>18577.26</td>\n",
       "    </tr>\n",
       "  </tbody>\n",
       "</table>\n",
       "</div>"
      ],
      "text/plain": [
       "         date     spx      dax     ftse    nikkei\n",
       "0  07/01/1994  469.90  2224.95  3445.98  18124.01\n",
       "1  10/01/1994  475.27  2225.00  3440.58  18443.44\n",
       "2  11/01/1994  474.13  2228.10  3413.77  18485.25\n",
       "3  12/01/1994  474.17  2182.06  3372.02  18793.88\n",
       "4  13/01/1994  472.47  2142.37  3360.01  18577.26"
      ]
     },
     "execution_count": 2,
     "metadata": {},
     "output_type": "execute_result"
    }
   ],
   "source": [
    "raw_data = pd.read_csv('Index2018.csv')\n",
    "raw_data.head()\n",
    "# market indexes"
   ]
  },
  {
   "cell_type": "markdown",
   "id": "231f7c3b",
   "metadata": {},
   "source": [
    "## Transform raw data into Time-Series Data"
   ]
  },
  {
   "cell_type": "code",
   "execution_count": 3,
   "id": "bc0fbc7f",
   "metadata": {},
   "outputs": [
    {
     "data": {
      "text/html": [
       "<div>\n",
       "<style scoped>\n",
       "    .dataframe tbody tr th:only-of-type {\n",
       "        vertical-align: middle;\n",
       "    }\n",
       "\n",
       "    .dataframe tbody tr th {\n",
       "        vertical-align: top;\n",
       "    }\n",
       "\n",
       "    .dataframe thead th {\n",
       "        text-align: right;\n",
       "    }\n",
       "</style>\n",
       "<table border=\"1\" class=\"dataframe\">\n",
       "  <thead>\n",
       "    <tr style=\"text-align: right;\">\n",
       "      <th></th>\n",
       "      <th>spx</th>\n",
       "      <th>dax</th>\n",
       "      <th>ftse</th>\n",
       "      <th>nikkei</th>\n",
       "    </tr>\n",
       "    <tr>\n",
       "      <th>date</th>\n",
       "      <th></th>\n",
       "      <th></th>\n",
       "      <th></th>\n",
       "      <th></th>\n",
       "    </tr>\n",
       "  </thead>\n",
       "  <tbody>\n",
       "    <tr>\n",
       "      <th>1994-01-07</th>\n",
       "      <td>469.90</td>\n",
       "      <td>2224.95</td>\n",
       "      <td>3445.98</td>\n",
       "      <td>18124.01</td>\n",
       "    </tr>\n",
       "    <tr>\n",
       "      <th>1994-01-10</th>\n",
       "      <td>475.27</td>\n",
       "      <td>2225.00</td>\n",
       "      <td>3440.58</td>\n",
       "      <td>18443.44</td>\n",
       "    </tr>\n",
       "    <tr>\n",
       "      <th>1994-01-11</th>\n",
       "      <td>474.13</td>\n",
       "      <td>2228.10</td>\n",
       "      <td>3413.77</td>\n",
       "      <td>18485.25</td>\n",
       "    </tr>\n",
       "    <tr>\n",
       "      <th>1994-01-12</th>\n",
       "      <td>474.17</td>\n",
       "      <td>2182.06</td>\n",
       "      <td>3372.02</td>\n",
       "      <td>18793.88</td>\n",
       "    </tr>\n",
       "    <tr>\n",
       "      <th>1994-01-13</th>\n",
       "      <td>472.47</td>\n",
       "      <td>2142.37</td>\n",
       "      <td>3360.01</td>\n",
       "      <td>18577.26</td>\n",
       "    </tr>\n",
       "  </tbody>\n",
       "</table>\n",
       "</div>"
      ],
      "text/plain": [
       "               spx      dax     ftse    nikkei\n",
       "date                                          \n",
       "1994-01-07  469.90  2224.95  3445.98  18124.01\n",
       "1994-01-10  475.27  2225.00  3440.58  18443.44\n",
       "1994-01-11  474.13  2228.10  3413.77  18485.25\n",
       "1994-01-12  474.17  2182.06  3372.02  18793.88\n",
       "1994-01-13  472.47  2142.37  3360.01  18577.26"
      ]
     },
     "execution_count": 3,
     "metadata": {},
     "output_type": "execute_result"
    }
   ],
   "source": [
    "df = raw_data.copy()\n",
    "df.date = pd.to_datetime(df.date, dayfirst = True)\n",
    "df.set_index('date', inplace = True)\n",
    "df = df.asfreq('b') # 'b' - business days\n",
    "df.fillna(method = 'ffill', inplace = True)\n",
    "df.head()"
   ]
  },
  {
   "cell_type": "code",
   "execution_count": 4,
   "id": "400e0574",
   "metadata": {},
   "outputs": [
    {
     "data": {
      "text/plain": [
       "spx       0\n",
       "dax       0\n",
       "ftse      0\n",
       "nikkei    0\n",
       "dtype: int64"
      ]
     },
     "execution_count": 4,
     "metadata": {},
     "output_type": "execute_result"
    }
   ],
   "source": [
    "df.isna().sum()"
   ]
  },
  {
   "cell_type": "markdown",
   "id": "75594fa6",
   "metadata": {},
   "source": [
    "## Using Returns"
   ]
  },
  {
   "cell_type": "code",
   "execution_count": 5,
   "id": "6f1cc06d",
   "metadata": {},
   "outputs": [
    {
     "data": {
      "text/html": [
       "<div>\n",
       "<style scoped>\n",
       "    .dataframe tbody tr th:only-of-type {\n",
       "        vertical-align: middle;\n",
       "    }\n",
       "\n",
       "    .dataframe tbody tr th {\n",
       "        vertical-align: top;\n",
       "    }\n",
       "\n",
       "    .dataframe thead th {\n",
       "        text-align: right;\n",
       "    }\n",
       "</style>\n",
       "<table border=\"1\" class=\"dataframe\">\n",
       "  <thead>\n",
       "    <tr style=\"text-align: right;\">\n",
       "      <th></th>\n",
       "      <th>spx</th>\n",
       "      <th>dax</th>\n",
       "      <th>ftse</th>\n",
       "      <th>nikkei</th>\n",
       "      <th>ftse_returns</th>\n",
       "    </tr>\n",
       "    <tr>\n",
       "      <th>date</th>\n",
       "      <th></th>\n",
       "      <th></th>\n",
       "      <th></th>\n",
       "      <th></th>\n",
       "      <th></th>\n",
       "    </tr>\n",
       "  </thead>\n",
       "  <tbody>\n",
       "    <tr>\n",
       "      <th>1994-01-07</th>\n",
       "      <td>469.90</td>\n",
       "      <td>2224.95</td>\n",
       "      <td>3445.98</td>\n",
       "      <td>18124.01</td>\n",
       "      <td>NaN</td>\n",
       "    </tr>\n",
       "    <tr>\n",
       "      <th>1994-01-10</th>\n",
       "      <td>475.27</td>\n",
       "      <td>2225.00</td>\n",
       "      <td>3440.58</td>\n",
       "      <td>18443.44</td>\n",
       "      <td>-0.156704</td>\n",
       "    </tr>\n",
       "    <tr>\n",
       "      <th>1994-01-11</th>\n",
       "      <td>474.13</td>\n",
       "      <td>2228.10</td>\n",
       "      <td>3413.77</td>\n",
       "      <td>18485.25</td>\n",
       "      <td>-0.779229</td>\n",
       "    </tr>\n",
       "    <tr>\n",
       "      <th>1994-01-12</th>\n",
       "      <td>474.17</td>\n",
       "      <td>2182.06</td>\n",
       "      <td>3372.02</td>\n",
       "      <td>18793.88</td>\n",
       "      <td>-1.222988</td>\n",
       "    </tr>\n",
       "    <tr>\n",
       "      <th>1994-01-13</th>\n",
       "      <td>472.47</td>\n",
       "      <td>2142.37</td>\n",
       "      <td>3360.01</td>\n",
       "      <td>18577.26</td>\n",
       "      <td>-0.356166</td>\n",
       "    </tr>\n",
       "  </tbody>\n",
       "</table>\n",
       "</div>"
      ],
      "text/plain": [
       "               spx      dax     ftse    nikkei  ftse_returns\n",
       "date                                                        \n",
       "1994-01-07  469.90  2224.95  3445.98  18124.01           NaN\n",
       "1994-01-10  475.27  2225.00  3440.58  18443.44     -0.156704\n",
       "1994-01-11  474.13  2228.10  3413.77  18485.25     -0.779229\n",
       "1994-01-12  474.17  2182.06  3372.02  18793.88     -1.222988\n",
       "1994-01-13  472.47  2142.37  3360.01  18577.26     -0.356166"
      ]
     },
     "execution_count": 5,
     "metadata": {},
     "output_type": "execute_result"
    }
   ],
   "source": [
    "# create returns out of prices\n",
    "# returns = (p(t) - p(t-1)) / p(t-1)\n",
    "df['ftse_returns'] = df.ftse.pct_change(1).mul(100)\n",
    "df.head()"
   ]
  },
  {
   "cell_type": "code",
   "execution_count": 6,
   "id": "9fbb53ff",
   "metadata": {},
   "outputs": [
    {
     "data": {
      "image/png": "[encoded data removed]",
      "text/plain": [
       "<Figure size 432x288 with 1 Axes>"
      ]
     },
     "metadata": {},
     "output_type": "display_data"
    }
   ],
   "source": [
    "import statsmodels.tsa.stattools as sts\n",
    "import statsmodels.graphics.tsaplots as sgt\n",
    "\n",
    "sgt.plot_acf(df.ftse_returns.iloc[1:], lags = 40, zero = False)\n",
    "plt.title('Autocorrelation function of FTSE Returns', size = 20)\n",
    "plt.show()"
   ]
  },
  {
   "cell_type": "code",
   "execution_count": 7,
   "id": "fc1b085a",
   "metadata": {},
   "outputs": [
    {
     "data": {
      "image/png": "[encoded data removed]",
      "text/plain": [
       "<Figure size 432x288 with 1 Axes>"
      ]
     },
     "metadata": {},
     "output_type": "display_data"
    }
   ],
   "source": [
    "sgt.plot_pacf(df.ftse_returns.iloc[1:], lags = 40, zero = False, alpha = 0.05, method = ('ols'))\n",
    "plt.title('PACF of FTSE Returns', size = 20)\n",
    "plt.show()"
   ]
  },
  {
   "cell_type": "markdown",
   "id": "7bd59ef2",
   "metadata": {},
   "source": [
    "## Log Likelihood Ratio (LLR) Test"
   ]
  },
  {
   "cell_type": "code",
   "execution_count": 8,
   "id": "8a62dc33",
   "metadata": {},
   "outputs": [],
   "source": [
    "from scipy.stats.distributions import chi2\n",
    "\n",
    "def LLR_test(model_1, model_2, DF = 1):\n",
    "    L1 = model_1.fit().llf\n",
    "    L2 = model_2.fit().llf\n",
    "    \n",
    "    LR = 2*(L2 - L1)\n",
    "    p = chi2.sf(LR, DF).round(3)\n",
    "    \n",
    "    return p"
   ]
  },
  {
   "cell_type": "markdown",
   "id": "110d6137",
   "metadata": {},
   "source": [
    "## ARMA(1, 1) model"
   ]
  },
  {
   "cell_type": "code",
   "execution_count": 9,
   "id": "e920b49a",
   "metadata": {},
   "outputs": [
    {
     "name": "stderr",
     "output_type": "stream",
     "text": [
      "C:\\Users\\0x17h\\anaconda3\\lib\\site-packages\\statsmodels\\tsa\\statespace\\sarimax.py:966: UserWarning: Non-stationary starting autoregressive parameters found. Using zeros as starting parameters.\n",
      "  warn('Non-stationary starting autoregressive parameters'\n",
      "C:\\Users\\0x17h\\anaconda3\\lib\\site-packages\\statsmodels\\tsa\\statespace\\sarimax.py:978: UserWarning: Non-invertible starting MA parameters found. Using zeros as starting parameters.\n",
      "  warn('Non-invertible starting MA parameters found.'\n"
     ]
    },
    {
     "data": {
      "text/html": [
       "<table class=\"simpletable\">\n",
       "<caption>SARIMAX Results</caption>\n",
       "<tr>\n",
       "  <th>Dep. Variable:</th>     <td>ftse_returns</td>   <th>  No. Observations:  </th>   <td>6276</td>   \n",
       "</tr>\n",
       "<tr>\n",
       "  <th>Model:</th>            <td>ARIMA(1, 0, 1)</td>  <th>  Log Likelihood     </th> <td>-9582.339</td>\n",
       "</tr>\n",
       "<tr>\n",
       "  <th>Date:</th>            <td>Thu, 17 Nov 2022</td> <th>  AIC                </th> <td>19172.679</td>\n",
       "</tr>\n",
       "<tr>\n",
       "  <th>Time:</th>                <td>00:53:51</td>     <th>  BIC                </th> <td>19199.657</td>\n",
       "</tr>\n",
       "<tr>\n",
       "  <th>Sample:</th>             <td>01-10-1994</td>    <th>  HQIC               </th> <td>19182.026</td>\n",
       "</tr>\n",
       "<tr>\n",
       "  <th></th>                   <td>- 01-29-2018</td>   <th>                     </th>     <td> </td>    \n",
       "</tr>\n",
       "<tr>\n",
       "  <th>Covariance Type:</th>        <td>opg</td>       <th>                     </th>     <td> </td>    \n",
       "</tr>\n",
       "</table>\n",
       "<table class=\"simpletable\">\n",
       "<tr>\n",
       "     <td></td>       <th>coef</th>     <th>std err</th>      <th>z</th>      <th>P>|z|</th>  <th>[0.025</th>    <th>0.975]</th>  \n",
       "</tr>\n",
       "<tr>\n",
       "  <th>const</th>  <td>    0.0190</td> <td>    0.012</td> <td>    1.548</td> <td> 0.122</td> <td>   -0.005</td> <td>    0.043</td>\n",
       "</tr>\n",
       "<tr>\n",
       "  <th>ar.L1</th>  <td>    0.8178</td> <td>    0.033</td> <td>   24.484</td> <td> 0.000</td> <td>    0.752</td> <td>    0.883</td>\n",
       "</tr>\n",
       "<tr>\n",
       "  <th>ma.L1</th>  <td>   -0.8594</td> <td>    0.030</td> <td>  -28.964</td> <td> 0.000</td> <td>   -0.918</td> <td>   -0.801</td>\n",
       "</tr>\n",
       "<tr>\n",
       "  <th>sigma2</th> <td>    1.2408</td> <td>    0.011</td> <td>  111.349</td> <td> 0.000</td> <td>    1.219</td> <td>    1.263</td>\n",
       "</tr>\n",
       "</table>\n",
       "<table class=\"simpletable\">\n",
       "<tr>\n",
       "  <th>Ljung-Box (L1) (Q):</th>     <td>2.19</td> <th>  Jarque-Bera (JB):  </th> <td>10103.13</td>\n",
       "</tr>\n",
       "<tr>\n",
       "  <th>Prob(Q):</th>                <td>0.14</td> <th>  Prob(JB):          </th>   <td>0.00</td>  \n",
       "</tr>\n",
       "<tr>\n",
       "  <th>Heteroskedasticity (H):</th> <td>0.85</td> <th>  Skew:              </th>   <td>-0.20</td> \n",
       "</tr>\n",
       "<tr>\n",
       "  <th>Prob(H) (two-sided):</th>    <td>0.00</td> <th>  Kurtosis:          </th>   <td>9.20</td>  \n",
       "</tr>\n",
       "</table><br/><br/>Warnings:<br/>[1] Covariance matrix calculated using the outer product of gradients (complex-step)."
      ],
      "text/plain": [
       "<class 'statsmodels.iolib.summary.Summary'>\n",
       "\"\"\"\n",
       "                               SARIMAX Results                                \n",
       "==============================================================================\n",
       "Dep. Variable:           ftse_returns   No. Observations:                 6276\n",
       "Model:                 ARIMA(1, 0, 1)   Log Likelihood               -9582.339\n",
       "Date:                Thu, 17 Nov 2022   AIC                          19172.679\n",
       "Time:                        00:53:51   BIC                          19199.657\n",
       "Sample:                    01-10-1994   HQIC                         19182.026\n",
       "                         - 01-29-2018                                         \n",
       "Covariance Type:                  opg                                         \n",
       "==============================================================================\n",
       "                 coef    std err          z      P>|z|      [0.025      0.975]\n",
       "------------------------------------------------------------------------------\n",
       "const          0.0190      0.012      1.548      0.122      -0.005       0.043\n",
       "ar.L1          0.8178      0.033     24.484      0.000       0.752       0.883\n",
       "ma.L1         -0.8594      0.030    -28.964      0.000      -0.918      -0.801\n",
       "sigma2         1.2408      0.011    111.349      0.000       1.219       1.263\n",
       "===================================================================================\n",
       "Ljung-Box (L1) (Q):                   2.19   Jarque-Bera (JB):             10103.13\n",
       "Prob(Q):                              0.14   Prob(JB):                         0.00\n",
       "Heteroskedasticity (H):               0.85   Skew:                            -0.20\n",
       "Prob(H) (two-sided):                  0.00   Kurtosis:                         9.20\n",
       "===================================================================================\n",
       "\n",
       "Warnings:\n",
       "[1] Covariance matrix calculated using the outer product of gradients (complex-step).\n",
       "\"\"\""
      ]
     },
     "execution_count": 9,
     "metadata": {},
     "output_type": "execute_result"
    }
   ],
   "source": [
    "from statsmodels.tsa.arima.model import ARIMA\n",
    "\n",
    "arma_1 = ARIMA(df.ftse_returns.iloc[1:], order = (1, 0, 1))\n",
    "results_arma_1 = arma_1.fit()\n",
    "results_arma_1.summary()"
   ]
  },
  {
   "cell_type": "code",
   "execution_count": 10,
   "id": "6690a70a",
   "metadata": {},
   "outputs": [
    {
     "name": "stderr",
     "output_type": "stream",
     "text": [
      "C:\\Users\\0x17h\\anaconda3\\lib\\site-packages\\statsmodels\\tsa\\statespace\\sarimax.py:966: UserWarning: Non-stationary starting autoregressive parameters found. Using zeros as starting parameters.\n",
      "  warn('Non-stationary starting autoregressive parameters'\n",
      "C:\\Users\\0x17h\\anaconda3\\lib\\site-packages\\statsmodels\\tsa\\statespace\\sarimax.py:978: UserWarning: Non-invertible starting MA parameters found. Using zeros as starting parameters.\n",
      "  warn('Non-invertible starting MA parameters found.'\n"
     ]
    },
    {
     "data": {
      "text/plain": [
       "0.0"
      ]
     },
     "execution_count": 10,
     "metadata": {},
     "output_type": "execute_result"
    }
   ],
   "source": [
    "# is ARMA model better predictor then AR(1) and MA(1) models?\n",
    "\n",
    "ar_1 = ARIMA(df.ftse_returns.iloc[1:], order = (1, 0, 0))\n",
    "ar_1.fit()\n",
    "\n",
    "LLR_test(ar_1, arma_1, DF = 1) # ARMA - 2 DF, AR - 1 DF, 2-1=1"
   ]
  },
  {
   "cell_type": "code",
   "execution_count": 11,
   "id": "b11ee410",
   "metadata": {},
   "outputs": [
    {
     "data": {
      "text/plain": [
       "0.0"
      ]
     },
     "execution_count": 11,
     "metadata": {},
     "output_type": "execute_result"
    }
   ],
   "source": [
    "ma_1 = ARIMA(df.ftse_returns.iloc[1:], order = (0, 0, 1))\n",
    "ma_1.fit()\n",
    "\n",
    "LLR_test(ma_1, arma_1, DF = 1)"
   ]
  },
  {
   "cell_type": "markdown",
   "id": "d0109f89",
   "metadata": {},
   "source": [
    "## Higher-Lag ARMA Models"
   ]
  },
  {
   "cell_type": "code",
   "execution_count": 12,
   "id": "dc408b92",
   "metadata": {},
   "outputs": [
    {
     "name": "stderr",
     "output_type": "stream",
     "text": [
      "C:\\Users\\0x17h\\anaconda3\\lib\\site-packages\\statsmodels\\base\\model.py:566: ConvergenceWarning: Maximum Likelihood optimization failed to converge. Check mle_retvals\n",
      "  warnings.warn(\"Maximum Likelihood optimization failed to \"\n"
     ]
    },
    {
     "data": {
      "text/html": [
       "<table class=\"simpletable\">\n",
       "<caption>SARIMAX Results</caption>\n",
       "<tr>\n",
       "  <th>Dep. Variable:</th>     <td>ftse_returns</td>   <th>  No. Observations:  </th>   <td>6276</td>   \n",
       "</tr>\n",
       "<tr>\n",
       "  <th>Model:</th>            <td>ARIMA(8, 0, 6)</td>  <th>  Log Likelihood     </th> <td>-9552.330</td>\n",
       "</tr>\n",
       "<tr>\n",
       "  <th>Date:</th>            <td>Thu, 17 Nov 2022</td> <th>  AIC                </th> <td>19136.661</td>\n",
       "</tr>\n",
       "<tr>\n",
       "  <th>Time:</th>                <td>01:06:32</td>     <th>  BIC                </th> <td>19244.572</td>\n",
       "</tr>\n",
       "<tr>\n",
       "  <th>Sample:</th>             <td>01-10-1994</td>    <th>  HQIC               </th> <td>19174.050</td>\n",
       "</tr>\n",
       "<tr>\n",
       "  <th></th>                   <td>- 01-29-2018</td>   <th>                     </th>     <td> </td>    \n",
       "</tr>\n",
       "<tr>\n",
       "  <th>Covariance Type:</th>        <td>opg</td>       <th>                     </th>     <td> </td>    \n",
       "</tr>\n",
       "</table>\n",
       "<table class=\"simpletable\">\n",
       "<tr>\n",
       "     <td></td>       <th>coef</th>     <th>std err</th>      <th>z</th>      <th>P>|z|</th>  <th>[0.025</th>    <th>0.975]</th>  \n",
       "</tr>\n",
       "<tr>\n",
       "  <th>const</th>  <td>    0.0191</td> <td>    0.012</td> <td>    1.598</td> <td> 0.110</td> <td>   -0.004</td> <td>    0.042</td>\n",
       "</tr>\n",
       "<tr>\n",
       "  <th>ar.L1</th>  <td>   -0.1739</td> <td>    0.357</td> <td>   -0.487</td> <td> 0.626</td> <td>   -0.874</td> <td>    0.526</td>\n",
       "</tr>\n",
       "<tr>\n",
       "  <th>ar.L2</th>  <td>   -0.0374</td> <td>    0.181</td> <td>   -0.207</td> <td> 0.836</td> <td>   -0.392</td> <td>    0.317</td>\n",
       "</tr>\n",
       "<tr>\n",
       "  <th>ar.L3</th>  <td>    0.0074</td> <td>    0.111</td> <td>    0.066</td> <td> 0.947</td> <td>   -0.210</td> <td>    0.225</td>\n",
       "</tr>\n",
       "<tr>\n",
       "  <th>ar.L4</th>  <td>    0.4886</td> <td>    0.111</td> <td>    4.410</td> <td> 0.000</td> <td>    0.271</td> <td>    0.706</td>\n",
       "</tr>\n",
       "<tr>\n",
       "  <th>ar.L5</th>  <td>    0.4922</td> <td>    0.224</td> <td>    2.198</td> <td> 0.028</td> <td>    0.053</td> <td>    0.931</td>\n",
       "</tr>\n",
       "<tr>\n",
       "  <th>ar.L6</th>  <td>   -0.1509</td> <td>    0.173</td> <td>   -0.870</td> <td> 0.384</td> <td>   -0.491</td> <td>    0.189</td>\n",
       "</tr>\n",
       "<tr>\n",
       "  <th>ar.L7</th>  <td>    0.0498</td> <td>    0.015</td> <td>    3.221</td> <td> 0.001</td> <td>    0.019</td> <td>    0.080</td>\n",
       "</tr>\n",
       "<tr>\n",
       "  <th>ar.L8</th>  <td>    0.0291</td> <td>    0.024</td> <td>    1.226</td> <td> 0.220</td> <td>   -0.017</td> <td>    0.076</td>\n",
       "</tr>\n",
       "<tr>\n",
       "  <th>ma.L1</th>  <td>    0.1532</td> <td>    0.356</td> <td>    0.431</td> <td> 0.667</td> <td>   -0.544</td> <td>    0.851</td>\n",
       "</tr>\n",
       "<tr>\n",
       "  <th>ma.L2</th>  <td>   -0.0145</td> <td>    0.176</td> <td>   -0.082</td> <td> 0.934</td> <td>   -0.360</td> <td>    0.331</td>\n",
       "</tr>\n",
       "<tr>\n",
       "  <th>ma.L3</th>  <td>   -0.0854</td> <td>    0.105</td> <td>   -0.814</td> <td> 0.415</td> <td>   -0.291</td> <td>    0.120</td>\n",
       "</tr>\n",
       "<tr>\n",
       "  <th>ma.L4</th>  <td>   -0.4770</td> <td>    0.092</td> <td>   -5.203</td> <td> 0.000</td> <td>   -0.657</td> <td>   -0.297</td>\n",
       "</tr>\n",
       "<tr>\n",
       "  <th>ma.L5</th>  <td>   -0.5233</td> <td>    0.222</td> <td>   -2.360</td> <td> 0.018</td> <td>   -0.958</td> <td>   -0.089</td>\n",
       "</tr>\n",
       "<tr>\n",
       "  <th>ma.L6</th>  <td>    0.1584</td> <td>    0.183</td> <td>    0.864</td> <td> 0.388</td> <td>   -0.201</td> <td>    0.518</td>\n",
       "</tr>\n",
       "<tr>\n",
       "  <th>sigma2</th> <td>    1.2285</td> <td>    0.012</td> <td>  101.115</td> <td> 0.000</td> <td>    1.205</td> <td>    1.252</td>\n",
       "</tr>\n",
       "</table>\n",
       "<table class=\"simpletable\">\n",
       "<tr>\n",
       "  <th>Ljung-Box (L1) (Q):</th>     <td>0.00</td> <th>  Jarque-Bera (JB):  </th> <td>8851.96</td>\n",
       "</tr>\n",
       "<tr>\n",
       "  <th>Prob(Q):</th>                <td>0.98</td> <th>  Prob(JB):          </th>  <td>0.00</td>  \n",
       "</tr>\n",
       "<tr>\n",
       "  <th>Heteroskedasticity (H):</th> <td>0.87</td> <th>  Skew:              </th>  <td>-0.25</td> \n",
       "</tr>\n",
       "<tr>\n",
       "  <th>Prob(H) (two-sided):</th>    <td>0.00</td> <th>  Kurtosis:          </th>  <td>8.80</td>  \n",
       "</tr>\n",
       "</table><br/><br/>Warnings:<br/>[1] Covariance matrix calculated using the outer product of gradients (complex-step)."
      ],
      "text/plain": [
       "<class 'statsmodels.iolib.summary.Summary'>\n",
       "\"\"\"\n",
       "                               SARIMAX Results                                \n",
       "==============================================================================\n",
       "Dep. Variable:           ftse_returns   No. Observations:                 6276\n",
       "Model:                 ARIMA(8, 0, 6)   Log Likelihood               -9552.330\n",
       "Date:                Thu, 17 Nov 2022   AIC                          19136.661\n",
       "Time:                        01:06:32   BIC                          19244.572\n",
       "Sample:                    01-10-1994   HQIC                         19174.050\n",
       "                         - 01-29-2018                                         \n",
       "Covariance Type:                  opg                                         \n",
       "==============================================================================\n",
       "                 coef    std err          z      P>|z|      [0.025      0.975]\n",
       "------------------------------------------------------------------------------\n",
       "const          0.0191      0.012      1.598      0.110      -0.004       0.042\n",
       "ar.L1         -0.1739      0.357     -0.487      0.626      -0.874       0.526\n",
       "ar.L2         -0.0374      0.181     -0.207      0.836      -0.392       0.317\n",
       "ar.L3          0.0074      0.111      0.066      0.947      -0.210       0.225\n",
       "ar.L4          0.4886      0.111      4.410      0.000       0.271       0.706\n",
       "ar.L5          0.4922      0.224      2.198      0.028       0.053       0.931\n",
       "ar.L6         -0.1509      0.173     -0.870      0.384      -0.491       0.189\n",
       "ar.L7          0.0498      0.015      3.221      0.001       0.019       0.080\n",
       "ar.L8          0.0291      0.024      1.226      0.220      -0.017       0.076\n",
       "ma.L1          0.1532      0.356      0.431      0.667      -0.544       0.851\n",
       "ma.L2         -0.0145      0.176     -0.082      0.934      -0.360       0.331\n",
       "ma.L3         -0.0854      0.105     -0.814      0.415      -0.291       0.120\n",
       "ma.L4         -0.4770      0.092     -5.203      0.000      -0.657      -0.297\n",
       "ma.L5         -0.5233      0.222     -2.360      0.018      -0.958      -0.089\n",
       "ma.L6          0.1584      0.183      0.864      0.388      -0.201       0.518\n",
       "sigma2         1.2285      0.012    101.115      0.000       1.205       1.252\n",
       "===================================================================================\n",
       "Ljung-Box (L1) (Q):                   0.00   Jarque-Bera (JB):              8851.96\n",
       "Prob(Q):                              0.98   Prob(JB):                         0.00\n",
       "Heteroskedasticity (H):               0.87   Skew:                            -0.25\n",
       "Prob(H) (two-sided):                  0.00   Kurtosis:                         8.80\n",
       "===================================================================================\n",
       "\n",
       "Warnings:\n",
       "[1] Covariance matrix calculated using the outer product of gradients (complex-step).\n",
       "\"\"\""
      ]
     },
     "execution_count": 12,
     "metadata": {},
     "output_type": "execute_result"
    }
   ],
   "source": [
    "# start with overfitted model\n",
    "# take No of lags based on previously fitted AR and MA models\n",
    "arma_8_6 = ARIMA(df.ftse_returns.iloc[1:], order = (8, 0, 6))\n",
    "results_arma_8_6 = arma_8_6.fit()\n",
    "results_arma_8_6.summary()"
   ]
  },
  {
   "cell_type": "code",
   "execution_count": 13,
   "id": "c2068ca9",
   "metadata": {},
   "outputs": [
    {
     "data": {
      "text/html": [
       "<table class=\"simpletable\">\n",
       "<caption>SARIMAX Results</caption>\n",
       "<tr>\n",
       "  <th>Dep. Variable:</th>     <td>ftse_returns</td>   <th>  No. Observations:  </th>   <td>6276</td>   \n",
       "</tr>\n",
       "<tr>\n",
       "  <th>Model:</th>            <td>ARIMA(4, 0, 3)</td>  <th>  Log Likelihood     </th> <td>-9562.327</td>\n",
       "</tr>\n",
       "<tr>\n",
       "  <th>Date:</th>            <td>Thu, 17 Nov 2022</td> <th>  AIC                </th> <td>19142.654</td>\n",
       "</tr>\n",
       "<tr>\n",
       "  <th>Time:</th>                <td>01:08:59</td>     <th>  BIC                </th> <td>19203.355</td>\n",
       "</tr>\n",
       "<tr>\n",
       "  <th>Sample:</th>             <td>01-10-1994</td>    <th>  HQIC               </th> <td>19163.686</td>\n",
       "</tr>\n",
       "<tr>\n",
       "  <th></th>                   <td>- 01-29-2018</td>   <th>                     </th>     <td> </td>    \n",
       "</tr>\n",
       "<tr>\n",
       "  <th>Covariance Type:</th>        <td>opg</td>       <th>                     </th>     <td> </td>    \n",
       "</tr>\n",
       "</table>\n",
       "<table class=\"simpletable\">\n",
       "<tr>\n",
       "     <td></td>       <th>coef</th>     <th>std err</th>      <th>z</th>      <th>P>|z|</th>  <th>[0.025</th>    <th>0.975]</th>  \n",
       "</tr>\n",
       "<tr>\n",
       "  <th>const</th>  <td>    0.0190</td> <td>    0.012</td> <td>    1.586</td> <td> 0.113</td> <td>   -0.004</td> <td>    0.043</td>\n",
       "</tr>\n",
       "<tr>\n",
       "  <th>ar.L1</th>  <td>    0.1495</td> <td>    0.093</td> <td>    1.611</td> <td> 0.107</td> <td>   -0.032</td> <td>    0.331</td>\n",
       "</tr>\n",
       "<tr>\n",
       "  <th>ar.L2</th>  <td>    0.2045</td> <td>    0.073</td> <td>    2.790</td> <td> 0.005</td> <td>    0.061</td> <td>    0.348</td>\n",
       "</tr>\n",
       "<tr>\n",
       "  <th>ar.L3</th>  <td>    0.3458</td> <td>    0.074</td> <td>    4.686</td> <td> 0.000</td> <td>    0.201</td> <td>    0.491</td>\n",
       "</tr>\n",
       "<tr>\n",
       "  <th>ar.L4</th>  <td>    0.0667</td> <td>    0.011</td> <td>    6.058</td> <td> 0.000</td> <td>    0.045</td> <td>    0.088</td>\n",
       "</tr>\n",
       "<tr>\n",
       "  <th>ma.L1</th>  <td>   -0.1696</td> <td>    0.094</td> <td>   -1.806</td> <td> 0.071</td> <td>   -0.354</td> <td>    0.014</td>\n",
       "</tr>\n",
       "<tr>\n",
       "  <th>ma.L2</th>  <td>   -0.2544</td> <td>    0.073</td> <td>   -3.467</td> <td> 0.001</td> <td>   -0.398</td> <td>   -0.111</td>\n",
       "</tr>\n",
       "<tr>\n",
       "  <th>ma.L3</th>  <td>   -0.4041</td> <td>    0.076</td> <td>   -5.297</td> <td> 0.000</td> <td>   -0.554</td> <td>   -0.255</td>\n",
       "</tr>\n",
       "<tr>\n",
       "  <th>sigma2</th> <td>    1.2329</td> <td>    0.012</td> <td>  104.797</td> <td> 0.000</td> <td>    1.210</td> <td>    1.256</td>\n",
       "</tr>\n",
       "</table>\n",
       "<table class=\"simpletable\">\n",
       "<tr>\n",
       "  <th>Ljung-Box (L1) (Q):</th>     <td>0.00</td> <th>  Jarque-Bera (JB):  </th> <td>9031.37</td>\n",
       "</tr>\n",
       "<tr>\n",
       "  <th>Prob(Q):</th>                <td>0.97</td> <th>  Prob(JB):          </th>  <td>0.00</td>  \n",
       "</tr>\n",
       "<tr>\n",
       "  <th>Heteroskedasticity (H):</th> <td>0.86</td> <th>  Skew:              </th>  <td>-0.22</td> \n",
       "</tr>\n",
       "<tr>\n",
       "  <th>Prob(H) (two-sided):</th>    <td>0.00</td> <th>  Kurtosis:          </th>  <td>8.86</td>  \n",
       "</tr>\n",
       "</table><br/><br/>Warnings:<br/>[1] Covariance matrix calculated using the outer product of gradients (complex-step)."
      ],
      "text/plain": [
       "<class 'statsmodels.iolib.summary.Summary'>\n",
       "\"\"\"\n",
       "                               SARIMAX Results                                \n",
       "==============================================================================\n",
       "Dep. Variable:           ftse_returns   No. Observations:                 6276\n",
       "Model:                 ARIMA(4, 0, 3)   Log Likelihood               -9562.327\n",
       "Date:                Thu, 17 Nov 2022   AIC                          19142.654\n",
       "Time:                        01:08:59   BIC                          19203.355\n",
       "Sample:                    01-10-1994   HQIC                         19163.686\n",
       "                         - 01-29-2018                                         \n",
       "Covariance Type:                  opg                                         \n",
       "==============================================================================\n",
       "                 coef    std err          z      P>|z|      [0.025      0.975]\n",
       "------------------------------------------------------------------------------\n",
       "const          0.0190      0.012      1.586      0.113      -0.004       0.043\n",
       "ar.L1          0.1495      0.093      1.611      0.107      -0.032       0.331\n",
       "ar.L2          0.2045      0.073      2.790      0.005       0.061       0.348\n",
       "ar.L3          0.3458      0.074      4.686      0.000       0.201       0.491\n",
       "ar.L4          0.0667      0.011      6.058      0.000       0.045       0.088\n",
       "ma.L1         -0.1696      0.094     -1.806      0.071      -0.354       0.014\n",
       "ma.L2         -0.2544      0.073     -3.467      0.001      -0.398      -0.111\n",
       "ma.L3         -0.4041      0.076     -5.297      0.000      -0.554      -0.255\n",
       "sigma2         1.2329      0.012    104.797      0.000       1.210       1.256\n",
       "===================================================================================\n",
       "Ljung-Box (L1) (Q):                   0.00   Jarque-Bera (JB):              9031.37\n",
       "Prob(Q):                              0.97   Prob(JB):                         0.00\n",
       "Heteroskedasticity (H):               0.86   Skew:                            -0.22\n",
       "Prob(H) (two-sided):                  0.00   Kurtosis:                         8.86\n",
       "===================================================================================\n",
       "\n",
       "Warnings:\n",
       "[1] Covariance matrix calculated using the outer product of gradients (complex-step).\n",
       "\"\"\""
      ]
     },
     "execution_count": 13,
     "metadata": {},
     "output_type": "execute_result"
    }
   ],
   "source": [
    "# p-values of coefficients look bad\n",
    "# lets try the \"half\" of previous model - ARMA(4,3)\n",
    "arma_4_3 = ARIMA(df.ftse_returns.iloc[1:], order = (4, 0, 3))\n",
    "results_arma_4_3 = arma_4_3.fit()\n",
    "results_arma_4_3.summary()"
   ]
  },
  {
   "cell_type": "code",
   "execution_count": 14,
   "id": "2ca60c64",
   "metadata": {},
   "outputs": [
    {
     "name": "stderr",
     "output_type": "stream",
     "text": [
      "C:\\Users\\0x17h\\anaconda3\\lib\\site-packages\\statsmodels\\tsa\\statespace\\sarimax.py:966: UserWarning: Non-stationary starting autoregressive parameters found. Using zeros as starting parameters.\n",
      "  warn('Non-stationary starting autoregressive parameters'\n",
      "C:\\Users\\0x17h\\anaconda3\\lib\\site-packages\\statsmodels\\tsa\\statespace\\sarimax.py:978: UserWarning: Non-invertible starting MA parameters found. Using zeros as starting parameters.\n",
      "  warn('Non-invertible starting MA parameters found.'\n"
     ]
    },
    {
     "data": {
      "text/plain": [
       "0.0"
      ]
     },
     "execution_count": 14,
     "metadata": {},
     "output_type": "execute_result"
    }
   ],
   "source": [
    "LLR_test(arma_1, arma_4_3, DF = 5)"
   ]
  },
  {
   "cell_type": "code",
   "execution_count": 17,
   "id": "2c896a2e",
   "metadata": {},
   "outputs": [
    {
     "name": "stderr",
     "output_type": "stream",
     "text": [
      "C:\\Users\\0x17h\\anaconda3\\lib\\site-packages\\statsmodels\\tsa\\statespace\\sarimax.py:966: UserWarning: Non-stationary starting autoregressive parameters found. Using zeros as starting parameters.\n",
      "  warn('Non-stationary starting autoregressive parameters'\n",
      "C:\\Users\\0x17h\\anaconda3\\lib\\site-packages\\statsmodels\\tsa\\statespace\\sarimax.py:978: UserWarning: Non-invertible starting MA parameters found. Using zeros as starting parameters.\n",
      "  warn('Non-invertible starting MA parameters found.'\n"
     ]
    },
    {
     "data": {
      "text/plain": [
       "(0.001,\n",
       " <class 'statsmodels.iolib.summary.Summary'>\n",
       " \"\"\"\n",
       "                                SARIMAX Results                                \n",
       " ==============================================================================\n",
       " Dep. Variable:           ftse_returns   No. Observations:                 6276\n",
       " Model:                 ARIMA(3, 0, 2)   Log Likelihood               -9568.878\n",
       " Date:                Thu, 17 Nov 2022   AIC                          19151.755\n",
       " Time:                        01:17:37   BIC                          19198.967\n",
       " Sample:                    01-10-1994   HQIC                         19168.113\n",
       "                          - 01-29-2018                                         \n",
       " Covariance Type:                  opg                                         \n",
       " ==============================================================================\n",
       "                  coef    std err          z      P>|z|      [0.025      0.975]\n",
       " ------------------------------------------------------------------------------\n",
       " const          0.0190      0.013      1.419      0.156      -0.007       0.045\n",
       " ar.L1         -0.6807      0.066    -10.268      0.000      -0.811      -0.551\n",
       " ar.L2         -0.3555      0.076     -4.698      0.000      -0.504      -0.207\n",
       " ar.L3         -0.0965      0.007    -12.927      0.000      -0.111      -0.082\n",
       " ma.L1          0.6636      0.067      9.861      0.000       0.532       0.795\n",
       " ma.L2          0.2975      0.076      3.922      0.000       0.149       0.446\n",
       " sigma2         1.2355      0.012    104.848      0.000       1.212       1.259\n",
       " ===================================================================================\n",
       " Ljung-Box (L1) (Q):                   0.00   Jarque-Bera (JB):              8876.25\n",
       " Prob(Q):                              0.98   Prob(JB):                         0.00\n",
       " Heteroskedasticity (H):               0.86   Skew:                            -0.11\n",
       " Prob(H) (two-sided):                  0.00   Kurtosis:                         8.82\n",
       " ===================================================================================\n",
       " \n",
       " Warnings:\n",
       " [1] Covariance matrix calculated using the outer product of gradients (complex-step).\n",
       " \"\"\")"
      ]
     },
     "execution_count": 17,
     "metadata": {},
     "output_type": "execute_result"
    }
   ],
   "source": [
    "arma_3_2 = ARIMA(df.ftse_returns.iloc[1:], order = (3, 0, 2))\n",
    "results_arma_3_2 = arma_3_2.fit()\n",
    "LLR_test(arma_3_2, arma_4_3, DF = 2), results_arma_3_2.summary()"
   ]
  },
  {
   "cell_type": "code",
   "execution_count": 19,
   "id": "12fb5c3b",
   "metadata": {},
   "outputs": [
    {
     "data": {
      "text/plain": [
       "(0.004,\n",
       " <class 'statsmodels.iolib.summary.Summary'>\n",
       " \"\"\"\n",
       "                                SARIMAX Results                                \n",
       " ==============================================================================\n",
       " Dep. Variable:           ftse_returns   No. Observations:                 6276\n",
       " Model:                 ARIMA(2, 0, 3)   Log Likelihood               -9567.739\n",
       " Date:                Thu, 17 Nov 2022   AIC                          19149.478\n",
       " Time:                        01:18:55   BIC                          19196.689\n",
       " Sample:                    01-10-1994   HQIC                         19165.835\n",
       "                          - 01-29-2018                                         \n",
       " Covariance Type:                  opg                                         \n",
       " ==============================================================================\n",
       "                  coef    std err          z      P>|z|      [0.025      0.975]\n",
       " ------------------------------------------------------------------------------\n",
       " const          0.0190      0.013      1.448      0.148      -0.007       0.045\n",
       " ar.L1         -0.5359      0.070     -7.686      0.000      -0.673      -0.399\n",
       " ar.L2         -0.0995      0.076     -1.305      0.192      -0.249       0.050\n",
       " ma.L1          0.5173      0.070      7.431      0.000       0.381       0.654\n",
       " ma.L2          0.0375      0.075      0.497      0.619      -0.110       0.185\n",
       " ma.L3         -0.1017      0.007    -13.719      0.000      -0.116      -0.087\n",
       " sigma2         1.2350      0.012    104.397      0.000       1.212       1.258\n",
       " ===================================================================================\n",
       " Ljung-Box (L1) (Q):                   0.00   Jarque-Bera (JB):              8789.85\n",
       " Prob(Q):                              0.98   Prob(JB):                         0.00\n",
       " Heteroskedasticity (H):               0.86   Skew:                            -0.14\n",
       " Prob(H) (two-sided):                  0.00   Kurtosis:                         8.79\n",
       " ===================================================================================\n",
       " \n",
       " Warnings:\n",
       " [1] Covariance matrix calculated using the outer product of gradients (complex-step).\n",
       " \"\"\")"
      ]
     },
     "execution_count": 19,
     "metadata": {},
     "output_type": "execute_result"
    }
   ],
   "source": [
    "arma_2_3 = ARIMA(df.ftse_returns.iloc[1:], order = (2, 0, 3))\n",
    "results_arma_2_3 = arma_2_3.fit()\n",
    "LLR_test(arma_2_3, arma_4_3, DF = 2), results_arma_2_3.summary()"
   ]
  },
  {
   "cell_type": "code",
   "execution_count": 20,
   "id": "2629e003",
   "metadata": {},
   "outputs": [
    {
     "data": {
      "text/plain": [
       "(0.025,\n",
       " <class 'statsmodels.iolib.summary.Summary'>\n",
       " \"\"\"\n",
       "                                SARIMAX Results                                \n",
       " ==============================================================================\n",
       " Dep. Variable:           ftse_returns   No. Observations:                 6276\n",
       " Model:                 ARIMA(3, 0, 3)   Log Likelihood               -9564.829\n",
       " Date:                Thu, 17 Nov 2022   AIC                          19145.657\n",
       " Time:                        01:27:08   BIC                          19199.613\n",
       " Sample:                    01-10-1994   HQIC                         19164.352\n",
       "                          - 01-29-2018                                         \n",
       " Covariance Type:                  opg                                         \n",
       " ==============================================================================\n",
       "                  coef    std err          z      P>|z|      [0.025      0.975]\n",
       " ------------------------------------------------------------------------------\n",
       " const          0.0190      0.013      1.516      0.130      -0.006       0.044\n",
       " ar.L1         -0.1261      0.070     -1.809      0.070      -0.263       0.011\n",
       " ar.L2         -0.2063      0.056     -3.704      0.000      -0.315      -0.097\n",
       " ar.L3          0.5013      0.059      8.476      0.000       0.385       0.617\n",
       " ma.L1          0.1111      0.066      1.674      0.094      -0.019       0.241\n",
       " ma.L2          0.1444      0.054      2.667      0.008       0.038       0.251\n",
       " ma.L3         -0.5780      0.055    -10.457      0.000      -0.686      -0.470\n",
       " sigma2         1.2339      0.012    105.323      0.000       1.211       1.257\n",
       " ===================================================================================\n",
       " Ljung-Box (L1) (Q):                   0.19   Jarque-Bera (JB):              9331.59\n",
       " Prob(Q):                              0.67   Prob(JB):                         0.00\n",
       " Heteroskedasticity (H):               0.86   Skew:                            -0.18\n",
       " Prob(H) (two-sided):                  0.00   Kurtosis:                         8.96\n",
       " ===================================================================================\n",
       " \n",
       " Warnings:\n",
       " [1] Covariance matrix calculated using the outer product of gradients (complex-step).\n",
       " \"\"\")"
      ]
     },
     "execution_count": 20,
     "metadata": {},
     "output_type": "execute_result"
    }
   ],
   "source": [
    "arma_3_3 = ARIMA(df.ftse_returns.iloc[1:], order = (3, 0, 3))\n",
    "results_arma_3_3 = arma_3_3.fit()\n",
    "LLR_test(arma_3_3, arma_4_3), results_arma_3_3.summary()"
   ]
  },
  {
   "cell_type": "code",
   "execution_count": 21,
   "id": "37aed54e",
   "metadata": {},
   "outputs": [],
   "source": [
    "# arma_4_3 model looks the best of explored"
   ]
  },
  {
   "cell_type": "markdown",
   "id": "758a5431",
   "metadata": {},
   "source": [
    "## Explore Residuals"
   ]
  },
  {
   "cell_type": "code",
   "execution_count": 22,
   "id": "825929bf",
   "metadata": {},
   "outputs": [],
   "source": [
    "df['ftse_returns_residuals'] = results_arma_4_3.resid[1:]"
   ]
  },
  {
   "cell_type": "code",
   "execution_count": 23,
   "id": "e9c69bdd",
   "metadata": {},
   "outputs": [
    {
     "data": {
      "image/png": "[encoded data removed]",
      "text/plain": [
       "<Figure size 1440x360 with 1 Axes>"
      ]
     },
     "metadata": {},
     "output_type": "display_data"
    }
   ],
   "source": [
    "df.ftse_returns_residuals.plot(figsize = (20, 5))\n",
    "plt.title('Resuduals of returns', size = 20)\n",
    "plt.show()"
   ]
  },
  {
   "cell_type": "code",
   "execution_count": 25,
   "id": "3c9a832c",
   "metadata": {},
   "outputs": [
    {
     "data": {
      "image/png": "[encoded data removed]",
      "text/plain": [
       "<Figure size 432x288 with 1 Axes>"
      ]
     },
     "metadata": {},
     "output_type": "display_data"
    }
   ],
   "source": [
    "# to make sure that residuals are random we should plot ACF\n",
    "sgt.plot_acf(df.ftse_returns_residuals.iloc[2:], lags = 40, zero = False)\n",
    "plt.title('ACF of Residuals', size = 20)\n",
    "plt.show()"
   ]
  },
  {
   "cell_type": "markdown",
   "id": "ad0df86e",
   "metadata": {},
   "source": [
    "## Reevaluating Model Selection"
   ]
  },
  {
   "cell_type": "code",
   "execution_count": 26,
   "id": "b4443c94",
   "metadata": {},
   "outputs": [
    {
     "name": "stderr",
     "output_type": "stream",
     "text": [
      "C:\\Users\\0x17h\\anaconda3\\lib\\site-packages\\statsmodels\\base\\model.py:566: ConvergenceWarning: Maximum Likelihood optimization failed to converge. Check mle_retvals\n",
      "  warnings.warn(\"Maximum Likelihood optimization failed to \"\n"
     ]
    },
    {
     "data": {
      "text/html": [
       "<table class=\"simpletable\">\n",
       "<caption>SARIMAX Results</caption>\n",
       "<tr>\n",
       "  <th>Dep. Variable:</th>     <td>ftse_returns</td>   <th>  No. Observations:  </th>   <td>6276</td>   \n",
       "</tr>\n",
       "<tr>\n",
       "  <th>Model:</th>            <td>ARIMA(5, 0, 5)</td>  <th>  Log Likelihood     </th> <td>-9554.286</td>\n",
       "</tr>\n",
       "<tr>\n",
       "  <th>Date:</th>            <td>Thu, 17 Nov 2022</td> <th>  AIC                </th> <td>19132.573</td>\n",
       "</tr>\n",
       "<tr>\n",
       "  <th>Time:</th>                <td>01:36:39</td>     <th>  BIC                </th> <td>19213.507</td>\n",
       "</tr>\n",
       "<tr>\n",
       "  <th>Sample:</th>             <td>01-10-1994</td>    <th>  HQIC               </th> <td>19160.615</td>\n",
       "</tr>\n",
       "<tr>\n",
       "  <th></th>                   <td>- 01-29-2018</td>   <th>                     </th>     <td> </td>    \n",
       "</tr>\n",
       "<tr>\n",
       "  <th>Covariance Type:</th>        <td>opg</td>       <th>                     </th>     <td> </td>    \n",
       "</tr>\n",
       "</table>\n",
       "<table class=\"simpletable\">\n",
       "<tr>\n",
       "     <td></td>       <th>coef</th>     <th>std err</th>      <th>z</th>      <th>P>|z|</th>  <th>[0.025</th>    <th>0.975]</th>  \n",
       "</tr>\n",
       "<tr>\n",
       "  <th>const</th>  <td>    0.0190</td> <td>    0.012</td> <td>    1.536</td> <td> 0.125</td> <td>   -0.005</td> <td>    0.043</td>\n",
       "</tr>\n",
       "<tr>\n",
       "  <th>ar.L1</th>  <td>   -0.1967</td> <td>    0.109</td> <td>   -1.802</td> <td> 0.072</td> <td>   -0.411</td> <td>    0.017</td>\n",
       "</tr>\n",
       "<tr>\n",
       "  <th>ar.L2</th>  <td>   -0.4353</td> <td>    0.070</td> <td>   -6.260</td> <td> 0.000</td> <td>   -0.572</td> <td>   -0.299</td>\n",
       "</tr>\n",
       "<tr>\n",
       "  <th>ar.L3</th>  <td>   -0.0344</td> <td>    0.064</td> <td>   -0.539</td> <td> 0.590</td> <td>   -0.159</td> <td>    0.091</td>\n",
       "</tr>\n",
       "<tr>\n",
       "  <th>ar.L4</th>  <td>    0.3268</td> <td>    0.062</td> <td>    5.236</td> <td> 0.000</td> <td>    0.204</td> <td>    0.449</td>\n",
       "</tr>\n",
       "<tr>\n",
       "  <th>ar.L5</th>  <td>    0.3137</td> <td>    0.082</td> <td>    3.819</td> <td> 0.000</td> <td>    0.153</td> <td>    0.475</td>\n",
       "</tr>\n",
       "<tr>\n",
       "  <th>ma.L1</th>  <td>    0.1737</td> <td>    0.108</td> <td>    1.607</td> <td> 0.108</td> <td>   -0.038</td> <td>    0.385</td>\n",
       "</tr>\n",
       "<tr>\n",
       "  <th>ma.L2</th>  <td>    0.3844</td> <td>    0.069</td> <td>    5.588</td> <td> 0.000</td> <td>    0.250</td> <td>    0.519</td>\n",
       "</tr>\n",
       "<tr>\n",
       "  <th>ma.L3</th>  <td>   -0.0448</td> <td>    0.061</td> <td>   -0.733</td> <td> 0.463</td> <td>   -0.165</td> <td>    0.075</td>\n",
       "</tr>\n",
       "<tr>\n",
       "  <th>ma.L4</th>  <td>   -0.3221</td> <td>    0.060</td> <td>   -5.369</td> <td> 0.000</td> <td>   -0.440</td> <td>   -0.205</td>\n",
       "</tr>\n",
       "<tr>\n",
       "  <th>ma.L5</th>  <td>   -0.3827</td> <td>    0.078</td> <td>   -4.889</td> <td> 0.000</td> <td>   -0.536</td> <td>   -0.229</td>\n",
       "</tr>\n",
       "<tr>\n",
       "  <th>sigma2</th> <td>    1.2302</td> <td>    0.012</td> <td>  102.430</td> <td> 0.000</td> <td>    1.207</td> <td>    1.254</td>\n",
       "</tr>\n",
       "</table>\n",
       "<table class=\"simpletable\">\n",
       "<tr>\n",
       "  <th>Ljung-Box (L1) (Q):</th>     <td>0.06</td> <th>  Jarque-Bera (JB):  </th> <td>8759.35</td>\n",
       "</tr>\n",
       "<tr>\n",
       "  <th>Prob(Q):</th>                <td>0.80</td> <th>  Prob(JB):          </th>  <td>0.00</td>  \n",
       "</tr>\n",
       "<tr>\n",
       "  <th>Heteroskedasticity (H):</th> <td>0.86</td> <th>  Skew:              </th>  <td>-0.21</td> \n",
       "</tr>\n",
       "<tr>\n",
       "  <th>Prob(H) (two-sided):</th>    <td>0.00</td> <th>  Kurtosis:          </th>  <td>8.77</td>  \n",
       "</tr>\n",
       "</table><br/><br/>Warnings:<br/>[1] Covariance matrix calculated using the outer product of gradients (complex-step)."
      ],
      "text/plain": [
       "<class 'statsmodels.iolib.summary.Summary'>\n",
       "\"\"\"\n",
       "                               SARIMAX Results                                \n",
       "==============================================================================\n",
       "Dep. Variable:           ftse_returns   No. Observations:                 6276\n",
       "Model:                 ARIMA(5, 0, 5)   Log Likelihood               -9554.286\n",
       "Date:                Thu, 17 Nov 2022   AIC                          19132.573\n",
       "Time:                        01:36:39   BIC                          19213.507\n",
       "Sample:                    01-10-1994   HQIC                         19160.615\n",
       "                         - 01-29-2018                                         \n",
       "Covariance Type:                  opg                                         \n",
       "==============================================================================\n",
       "                 coef    std err          z      P>|z|      [0.025      0.975]\n",
       "------------------------------------------------------------------------------\n",
       "const          0.0190      0.012      1.536      0.125      -0.005       0.043\n",
       "ar.L1         -0.1967      0.109     -1.802      0.072      -0.411       0.017\n",
       "ar.L2         -0.4353      0.070     -6.260      0.000      -0.572      -0.299\n",
       "ar.L3         -0.0344      0.064     -0.539      0.590      -0.159       0.091\n",
       "ar.L4          0.3268      0.062      5.236      0.000       0.204       0.449\n",
       "ar.L5          0.3137      0.082      3.819      0.000       0.153       0.475\n",
       "ma.L1          0.1737      0.108      1.607      0.108      -0.038       0.385\n",
       "ma.L2          0.3844      0.069      5.588      0.000       0.250       0.519\n",
       "ma.L3         -0.0448      0.061     -0.733      0.463      -0.165       0.075\n",
       "ma.L4         -0.3221      0.060     -5.369      0.000      -0.440      -0.205\n",
       "ma.L5         -0.3827      0.078     -4.889      0.000      -0.536      -0.229\n",
       "sigma2         1.2302      0.012    102.430      0.000       1.207       1.254\n",
       "===================================================================================\n",
       "Ljung-Box (L1) (Q):                   0.06   Jarque-Bera (JB):              8759.35\n",
       "Prob(Q):                              0.80   Prob(JB):                         0.00\n",
       "Heteroskedasticity (H):               0.86   Skew:                            -0.21\n",
       "Prob(H) (two-sided):                  0.00   Kurtosis:                         8.77\n",
       "===================================================================================\n",
       "\n",
       "Warnings:\n",
       "[1] Covariance matrix calculated using the outer product of gradients (complex-step).\n",
       "\"\"\""
      ]
     },
     "execution_count": 26,
     "metadata": {},
     "output_type": "execute_result"
    }
   ],
   "source": [
    "arma_5_5 = ARIMA(df.ftse_returns.iloc[1:], order = (5, 0, 5))\n",
    "results_arma_5_5 = arma_5_5.fit()\n",
    "results_arma_5_5.summary()"
   ]
  },
  {
   "cell_type": "code",
   "execution_count": 34,
   "id": "dd319bd6",
   "metadata": {},
   "outputs": [
    {
     "data": {
      "text/html": [
       "<table class=\"simpletable\">\n",
       "<caption>SARIMAX Results</caption>\n",
       "<tr>\n",
       "  <th>Dep. Variable:</th>     <td>ftse_returns</td>   <th>  No. Observations:  </th>   <td>6276</td>   \n",
       "</tr>\n",
       "<tr>\n",
       "  <th>Model:</th>            <td>ARIMA(1, 0, 5)</td>  <th>  Log Likelihood     </th> <td>-9561.034</td>\n",
       "</tr>\n",
       "<tr>\n",
       "  <th>Date:</th>            <td>Thu, 17 Nov 2022</td> <th>  AIC                </th> <td>19138.068</td>\n",
       "</tr>\n",
       "<tr>\n",
       "  <th>Time:</th>                <td>01:58:29</td>     <th>  BIC                </th> <td>19192.024</td>\n",
       "</tr>\n",
       "<tr>\n",
       "  <th>Sample:</th>             <td>01-10-1994</td>    <th>  HQIC               </th> <td>19156.762</td>\n",
       "</tr>\n",
       "<tr>\n",
       "  <th></th>                   <td>- 01-29-2018</td>   <th>                     </th>     <td> </td>    \n",
       "</tr>\n",
       "<tr>\n",
       "  <th>Covariance Type:</th>        <td>opg</td>       <th>                     </th>     <td> </td>    \n",
       "</tr>\n",
       "</table>\n",
       "<table class=\"simpletable\">\n",
       "<tr>\n",
       "     <td></td>       <th>coef</th>     <th>std err</th>      <th>z</th>      <th>P>|z|</th>  <th>[0.025</th>    <th>0.975]</th>  \n",
       "</tr>\n",
       "<tr>\n",
       "  <th>const</th>  <td>    0.0190</td> <td>    0.012</td> <td>    1.525</td> <td> 0.127</td> <td>   -0.005</td> <td>    0.043</td>\n",
       "</tr>\n",
       "<tr>\n",
       "  <th>ar.L1</th>  <td>    0.3013</td> <td>    0.120</td> <td>    2.503</td> <td> 0.012</td> <td>    0.065</td> <td>    0.537</td>\n",
       "</tr>\n",
       "<tr>\n",
       "  <th>ma.L1</th>  <td>   -0.3215</td> <td>    0.121</td> <td>   -2.661</td> <td> 0.008</td> <td>   -0.558</td> <td>   -0.085</td>\n",
       "</tr>\n",
       "<tr>\n",
       "  <th>ma.L2</th>  <td>   -0.0425</td> <td>    0.008</td> <td>   -5.104</td> <td> 0.000</td> <td>   -0.059</td> <td>   -0.026</td>\n",
       "</tr>\n",
       "<tr>\n",
       "  <th>ma.L3</th>  <td>   -0.0547</td> <td>    0.010</td> <td>   -5.576</td> <td> 0.000</td> <td>   -0.074</td> <td>   -0.035</td>\n",
       "</tr>\n",
       "<tr>\n",
       "  <th>ma.L4</th>  <td>    0.0525</td> <td>    0.012</td> <td>    4.469</td> <td> 0.000</td> <td>    0.029</td> <td>    0.076</td>\n",
       "</tr>\n",
       "<tr>\n",
       "  <th>ma.L5</th>  <td>   -0.0625</td> <td>    0.008</td> <td>   -8.259</td> <td> 0.000</td> <td>   -0.077</td> <td>   -0.048</td>\n",
       "</tr>\n",
       "<tr>\n",
       "  <th>sigma2</th> <td>    1.2324</td> <td>    0.012</td> <td>  104.569</td> <td> 0.000</td> <td>    1.209</td> <td>    1.256</td>\n",
       "</tr>\n",
       "</table>\n",
       "<table class=\"simpletable\">\n",
       "<tr>\n",
       "  <th>Ljung-Box (L1) (Q):</th>     <td>0.00</td> <th>  Jarque-Bera (JB):  </th> <td>8897.39</td>\n",
       "</tr>\n",
       "<tr>\n",
       "  <th>Prob(Q):</th>                <td>0.97</td> <th>  Prob(JB):          </th>  <td>0.00</td>  \n",
       "</tr>\n",
       "<tr>\n",
       "  <th>Heteroskedasticity (H):</th> <td>0.86</td> <th>  Skew:              </th>  <td>-0.19</td> \n",
       "</tr>\n",
       "<tr>\n",
       "  <th>Prob(H) (two-sided):</th>    <td>0.00</td> <th>  Kurtosis:          </th>  <td>8.82</td>  \n",
       "</tr>\n",
       "</table><br/><br/>Warnings:<br/>[1] Covariance matrix calculated using the outer product of gradients (complex-step)."
      ],
      "text/plain": [
       "<class 'statsmodels.iolib.summary.Summary'>\n",
       "\"\"\"\n",
       "                               SARIMAX Results                                \n",
       "==============================================================================\n",
       "Dep. Variable:           ftse_returns   No. Observations:                 6276\n",
       "Model:                 ARIMA(1, 0, 5)   Log Likelihood               -9561.034\n",
       "Date:                Thu, 17 Nov 2022   AIC                          19138.068\n",
       "Time:                        01:58:29   BIC                          19192.024\n",
       "Sample:                    01-10-1994   HQIC                         19156.762\n",
       "                         - 01-29-2018                                         \n",
       "Covariance Type:                  opg                                         \n",
       "==============================================================================\n",
       "                 coef    std err          z      P>|z|      [0.025      0.975]\n",
       "------------------------------------------------------------------------------\n",
       "const          0.0190      0.012      1.525      0.127      -0.005       0.043\n",
       "ar.L1          0.3013      0.120      2.503      0.012       0.065       0.537\n",
       "ma.L1         -0.3215      0.121     -2.661      0.008      -0.558      -0.085\n",
       "ma.L2         -0.0425      0.008     -5.104      0.000      -0.059      -0.026\n",
       "ma.L3         -0.0547      0.010     -5.576      0.000      -0.074      -0.035\n",
       "ma.L4          0.0525      0.012      4.469      0.000       0.029       0.076\n",
       "ma.L5         -0.0625      0.008     -8.259      0.000      -0.077      -0.048\n",
       "sigma2         1.2324      0.012    104.569      0.000       1.209       1.256\n",
       "===================================================================================\n",
       "Ljung-Box (L1) (Q):                   0.00   Jarque-Bera (JB):              8897.39\n",
       "Prob(Q):                              0.97   Prob(JB):                         0.00\n",
       "Heteroskedasticity (H):               0.86   Skew:                            -0.19\n",
       "Prob(H) (two-sided):                  0.00   Kurtosis:                         8.82\n",
       "===================================================================================\n",
       "\n",
       "Warnings:\n",
       "[1] Covariance matrix calculated using the outer product of gradients (complex-step).\n",
       "\"\"\""
      ]
     },
     "execution_count": 34,
     "metadata": {},
     "output_type": "execute_result"
    }
   ],
   "source": [
    "arma_1_5 = ARIMA(df.ftse_returns.iloc[1:], order = (1, 0, 5))\n",
    "results_arma_1_5 = arma_1_5.fit()\n",
    "results_arma_1_5.summary()"
   ]
  },
  {
   "cell_type": "code",
   "execution_count": 35,
   "id": "c73d9cba",
   "metadata": {},
   "outputs": [
    {
     "data": {
      "text/html": [
       "<table class=\"simpletable\">\n",
       "<caption>SARIMAX Results</caption>\n",
       "<tr>\n",
       "  <th>Dep. Variable:</th>     <td>ftse_returns</td>   <th>  No. Observations:  </th>   <td>6276</td>   \n",
       "</tr>\n",
       "<tr>\n",
       "  <th>Model:</th>            <td>ARIMA(5, 0, 1)</td>  <th>  Log Likelihood     </th> <td>-9559.969</td>\n",
       "</tr>\n",
       "<tr>\n",
       "  <th>Date:</th>            <td>Thu, 17 Nov 2022</td> <th>  AIC                </th> <td>19135.937</td>\n",
       "</tr>\n",
       "<tr>\n",
       "  <th>Time:</th>                <td>01:58:37</td>     <th>  BIC                </th> <td>19189.893</td>\n",
       "</tr>\n",
       "<tr>\n",
       "  <th>Sample:</th>             <td>01-10-1994</td>    <th>  HQIC               </th> <td>19154.632</td>\n",
       "</tr>\n",
       "<tr>\n",
       "  <th></th>                   <td>- 01-29-2018</td>   <th>                     </th>     <td> </td>    \n",
       "</tr>\n",
       "<tr>\n",
       "  <th>Covariance Type:</th>        <td>opg</td>       <th>                     </th>     <td> </td>    \n",
       "</tr>\n",
       "</table>\n",
       "<table class=\"simpletable\">\n",
       "<tr>\n",
       "     <td></td>       <th>coef</th>     <th>std err</th>      <th>z</th>      <th>P>|z|</th>  <th>[0.025</th>    <th>0.975]</th>  \n",
       "</tr>\n",
       "<tr>\n",
       "  <th>const</th>  <td>    0.0190</td> <td>    0.012</td> <td>    1.523</td> <td> 0.128</td> <td>   -0.005</td> <td>    0.043</td>\n",
       "</tr>\n",
       "<tr>\n",
       "  <th>ar.L1</th>  <td>    0.3205</td> <td>    0.102</td> <td>    3.153</td> <td> 0.002</td> <td>    0.121</td> <td>    0.520</td>\n",
       "</tr>\n",
       "<tr>\n",
       "  <th>ar.L2</th>  <td>   -0.0456</td> <td>    0.008</td> <td>   -5.614</td> <td> 0.000</td> <td>   -0.062</td> <td>   -0.030</td>\n",
       "</tr>\n",
       "<tr>\n",
       "  <th>ar.L3</th>  <td>   -0.0535</td> <td>    0.009</td> <td>   -5.934</td> <td> 0.000</td> <td>   -0.071</td> <td>   -0.036</td>\n",
       "</tr>\n",
       "<tr>\n",
       "  <th>ar.L4</th>  <td>    0.0520</td> <td>    0.010</td> <td>    5.057</td> <td> 0.000</td> <td>    0.032</td> <td>    0.072</td>\n",
       "</tr>\n",
       "<tr>\n",
       "  <th>ar.L5</th>  <td>   -0.0709</td> <td>    0.007</td> <td>   -9.713</td> <td> 0.000</td> <td>   -0.085</td> <td>   -0.057</td>\n",
       "</tr>\n",
       "<tr>\n",
       "  <th>ma.L1</th>  <td>   -0.3398</td> <td>    0.103</td> <td>   -3.315</td> <td> 0.001</td> <td>   -0.541</td> <td>   -0.139</td>\n",
       "</tr>\n",
       "<tr>\n",
       "  <th>sigma2</th> <td>    1.2320</td> <td>    0.012</td> <td>  105.049</td> <td> 0.000</td> <td>    1.209</td> <td>    1.255</td>\n",
       "</tr>\n",
       "</table>\n",
       "<table class=\"simpletable\">\n",
       "<tr>\n",
       "  <th>Ljung-Box (L1) (Q):</th>     <td>0.00</td> <th>  Jarque-Bera (JB):  </th> <td>8874.95</td>\n",
       "</tr>\n",
       "<tr>\n",
       "  <th>Prob(Q):</th>                <td>0.96</td> <th>  Prob(JB):          </th>  <td>0.00</td>  \n",
       "</tr>\n",
       "<tr>\n",
       "  <th>Heteroskedasticity (H):</th> <td>0.86</td> <th>  Skew:              </th>  <td>-0.19</td> \n",
       "</tr>\n",
       "<tr>\n",
       "  <th>Prob(H) (two-sided):</th>    <td>0.00</td> <th>  Kurtosis:          </th>  <td>8.81</td>  \n",
       "</tr>\n",
       "</table><br/><br/>Warnings:<br/>[1] Covariance matrix calculated using the outer product of gradients (complex-step)."
      ],
      "text/plain": [
       "<class 'statsmodels.iolib.summary.Summary'>\n",
       "\"\"\"\n",
       "                               SARIMAX Results                                \n",
       "==============================================================================\n",
       "Dep. Variable:           ftse_returns   No. Observations:                 6276\n",
       "Model:                 ARIMA(5, 0, 1)   Log Likelihood               -9559.969\n",
       "Date:                Thu, 17 Nov 2022   AIC                          19135.937\n",
       "Time:                        01:58:37   BIC                          19189.893\n",
       "Sample:                    01-10-1994   HQIC                         19154.632\n",
       "                         - 01-29-2018                                         \n",
       "Covariance Type:                  opg                                         \n",
       "==============================================================================\n",
       "                 coef    std err          z      P>|z|      [0.025      0.975]\n",
       "------------------------------------------------------------------------------\n",
       "const          0.0190      0.012      1.523      0.128      -0.005       0.043\n",
       "ar.L1          0.3205      0.102      3.153      0.002       0.121       0.520\n",
       "ar.L2         -0.0456      0.008     -5.614      0.000      -0.062      -0.030\n",
       "ar.L3         -0.0535      0.009     -5.934      0.000      -0.071      -0.036\n",
       "ar.L4          0.0520      0.010      5.057      0.000       0.032       0.072\n",
       "ar.L5         -0.0709      0.007     -9.713      0.000      -0.085      -0.057\n",
       "ma.L1         -0.3398      0.103     -3.315      0.001      -0.541      -0.139\n",
       "sigma2         1.2320      0.012    105.049      0.000       1.209       1.255\n",
       "===================================================================================\n",
       "Ljung-Box (L1) (Q):                   0.00   Jarque-Bera (JB):              8874.95\n",
       "Prob(Q):                              0.96   Prob(JB):                         0.00\n",
       "Heteroskedasticity (H):               0.86   Skew:                            -0.19\n",
       "Prob(H) (two-sided):                  0.00   Kurtosis:                         8.81\n",
       "===================================================================================\n",
       "\n",
       "Warnings:\n",
       "[1] Covariance matrix calculated using the outer product of gradients (complex-step).\n",
       "\"\"\""
      ]
     },
     "execution_count": 35,
     "metadata": {},
     "output_type": "execute_result"
    }
   ],
   "source": [
    "arma_5_1 = ARIMA(df.ftse_returns.iloc[1:], order = (5, 0, 1))\n",
    "results_arma_5_1 = arma_5_1.fit()\n",
    "results_arma_5_1.summary()"
   ]
  },
  {
   "cell_type": "code",
   "execution_count": 36,
   "id": "7e1e276e",
   "metadata": {},
   "outputs": [
    {
     "name": "stdout",
     "output_type": "stream",
     "text": [
      "ARMA(4, 3) \tLL: -9562.327153917377, \tAIC: 19142.654307834753\n",
      "ARMA(5, 1) \tLL: -9559.968657698355, \tAIC: 19135.93731539671\n",
      "ARMA(1, 5) \tLL: -9561.033836573235, \tAIC: 19138.06767314647\n"
     ]
    }
   ],
   "source": [
    "print('ARMA(4, 3) \\tLL: {}, \\tAIC: {}'.format(results_arma_4_3.llf, results_arma_4_3.aic))\n",
    "print('ARMA(5, 1) \\tLL: {}, \\tAIC: {}'.format(results_arma_5_1.llf, results_arma_5_1.aic))\n",
    "print('ARMA(1, 5) \\tLL: {}, \\tAIC: {}'.format(results_arma_1_5.llf, results_arma_1_5.aic))"
   ]
  },
  {
   "cell_type": "code",
   "execution_count": 37,
   "id": "83415bf6",
   "metadata": {},
   "outputs": [
    {
     "data": {
      "image/png": "[encoded data removed]",
      "text/plain": [
       "<Figure size 1440x360 with 1 Axes>"
      ]
     },
     "metadata": {},
     "output_type": "display_data"
    }
   ],
   "source": [
    "# arma(5,1) is better then ARMA(4,3)\n",
    "# lets explore residuals\n",
    "\n",
    "results_arma_5_1.resid.plot(figsize = (20, 5))\n",
    "plt.title('Resuduals of returns', size = 20)\n",
    "plt.show()"
   ]
  },
  {
   "cell_type": "code",
   "execution_count": 38,
   "id": "8601633f",
   "metadata": {},
   "outputs": [
    {
     "data": {
      "image/png": "[encoded data removed]",
      "text/plain": [
       "<Figure size 432x288 with 1 Axes>"
      ]
     },
     "metadata": {},
     "output_type": "display_data"
    }
   ],
   "source": [
    "# to make sure that residuals are random we should plot ACF\n",
    "sgt.plot_acf(results_arma_5_1.resid.iloc[2:], lags = 40, zero = False)\n",
    "plt.title('ACF of Residuals', size = 20)\n",
    "plt.show()"
   ]
  }
 ],
 "metadata": {
  "kernelspec": {
   "display_name": "Python 3",
   "language": "python",
   "name": "python3"
  },
  "language_info": {
   "codemirror_mode": {
    "name": "ipython",
    "version": 3
   },
   "file_extension": ".py",
   "mimetype": "text/x-python",
   "name": "python",
   "nbconvert_exporter": "python",
   "pygments_lexer": "ipython3",
   "version": "3.8.8"
  }
 },
 "nbformat": 4,
 "nbformat_minor": 5
}
