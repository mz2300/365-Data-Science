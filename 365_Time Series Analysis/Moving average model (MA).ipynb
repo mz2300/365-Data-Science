{
 "cells": [
  {
   "cell_type": "code",
   "execution_count": 11,
   "id": "d8775d88",
   "metadata": {},
   "outputs": [],
   "source": [
    "import numpy as np\n",
    "import pandas as pd\n",
    "import matplotlib.pyplot as plt\n",
    "import seaborn as sns\n",
    "sns.set()"
   ]
  },
  {
   "cell_type": "markdown",
   "id": "06c3cdbf",
   "metadata": {},
   "source": [
    "## Importing the data"
   ]
  },
  {
   "cell_type": "code",
   "execution_count": 12,
   "id": "cdc7acb7",
   "metadata": {},
   "outputs": [
    {
     "data": {
      "text/html": [
       "<div>\n",
       "<style scoped>\n",
       "    .dataframe tbody tr th:only-of-type {\n",
       "        vertical-align: middle;\n",
       "    }\n",
       "\n",
       "    .dataframe tbody tr th {\n",
       "        vertical-align: top;\n",
       "    }\n",
       "\n",
       "    .dataframe thead th {\n",
       "        text-align: right;\n",
       "    }\n",
       "</style>\n",
       "<table border=\"1\" class=\"dataframe\">\n",
       "  <thead>\n",
       "    <tr style=\"text-align: right;\">\n",
       "      <th></th>\n",
       "      <th>date</th>\n",
       "      <th>spx</th>\n",
       "      <th>dax</th>\n",
       "      <th>ftse</th>\n",
       "      <th>nikkei</th>\n",
       "    </tr>\n",
       "  </thead>\n",
       "  <tbody>\n",
       "    <tr>\n",
       "      <th>0</th>\n",
       "      <td>07/01/1994</td>\n",
       "      <td>469.90</td>\n",
       "      <td>2224.95</td>\n",
       "      <td>3445.98</td>\n",
       "      <td>18124.01</td>\n",
       "    </tr>\n",
       "    <tr>\n",
       "      <th>1</th>\n",
       "      <td>10/01/1994</td>\n",
       "      <td>475.27</td>\n",
       "      <td>2225.00</td>\n",
       "      <td>3440.58</td>\n",
       "      <td>18443.44</td>\n",
       "    </tr>\n",
       "    <tr>\n",
       "      <th>2</th>\n",
       "      <td>11/01/1994</td>\n",
       "      <td>474.13</td>\n",
       "      <td>2228.10</td>\n",
       "      <td>3413.77</td>\n",
       "      <td>18485.25</td>\n",
       "    </tr>\n",
       "    <tr>\n",
       "      <th>3</th>\n",
       "      <td>12/01/1994</td>\n",
       "      <td>474.17</td>\n",
       "      <td>2182.06</td>\n",
       "      <td>3372.02</td>\n",
       "      <td>18793.88</td>\n",
       "    </tr>\n",
       "    <tr>\n",
       "      <th>4</th>\n",
       "      <td>13/01/1994</td>\n",
       "      <td>472.47</td>\n",
       "      <td>2142.37</td>\n",
       "      <td>3360.01</td>\n",
       "      <td>18577.26</td>\n",
       "    </tr>\n",
       "  </tbody>\n",
       "</table>\n",
       "</div>"
      ],
      "text/plain": [
       "         date     spx      dax     ftse    nikkei\n",
       "0  07/01/1994  469.90  2224.95  3445.98  18124.01\n",
       "1  10/01/1994  475.27  2225.00  3440.58  18443.44\n",
       "2  11/01/1994  474.13  2228.10  3413.77  18485.25\n",
       "3  12/01/1994  474.17  2182.06  3372.02  18793.88\n",
       "4  13/01/1994  472.47  2142.37  3360.01  18577.26"
      ]
     },
     "execution_count": 12,
     "metadata": {},
     "output_type": "execute_result"
    }
   ],
   "source": [
    "raw_data = pd.read_csv('Index2018.csv')\n",
    "raw_data.head()\n",
    "# market indexes"
   ]
  },
  {
   "cell_type": "markdown",
   "id": "231f7c3b",
   "metadata": {},
   "source": [
    "## Transform raw data into Time-Series Data"
   ]
  },
  {
   "cell_type": "code",
   "execution_count": 18,
   "id": "bc0fbc7f",
   "metadata": {},
   "outputs": [
    {
     "data": {
      "text/html": [
       "<div>\n",
       "<style scoped>\n",
       "    .dataframe tbody tr th:only-of-type {\n",
       "        vertical-align: middle;\n",
       "    }\n",
       "\n",
       "    .dataframe tbody tr th {\n",
       "        vertical-align: top;\n",
       "    }\n",
       "\n",
       "    .dataframe thead th {\n",
       "        text-align: right;\n",
       "    }\n",
       "</style>\n",
       "<table border=\"1\" class=\"dataframe\">\n",
       "  <thead>\n",
       "    <tr style=\"text-align: right;\">\n",
       "      <th></th>\n",
       "      <th>spx</th>\n",
       "      <th>dax</th>\n",
       "      <th>ftse</th>\n",
       "      <th>nikkei</th>\n",
       "    </tr>\n",
       "    <tr>\n",
       "      <th>date</th>\n",
       "      <th></th>\n",
       "      <th></th>\n",
       "      <th></th>\n",
       "      <th></th>\n",
       "    </tr>\n",
       "  </thead>\n",
       "  <tbody>\n",
       "    <tr>\n",
       "      <th>1994-01-07</th>\n",
       "      <td>469.90</td>\n",
       "      <td>2224.95</td>\n",
       "      <td>3445.98</td>\n",
       "      <td>18124.01</td>\n",
       "    </tr>\n",
       "    <tr>\n",
       "      <th>1994-01-10</th>\n",
       "      <td>475.27</td>\n",
       "      <td>2225.00</td>\n",
       "      <td>3440.58</td>\n",
       "      <td>18443.44</td>\n",
       "    </tr>\n",
       "    <tr>\n",
       "      <th>1994-01-11</th>\n",
       "      <td>474.13</td>\n",
       "      <td>2228.10</td>\n",
       "      <td>3413.77</td>\n",
       "      <td>18485.25</td>\n",
       "    </tr>\n",
       "    <tr>\n",
       "      <th>1994-01-12</th>\n",
       "      <td>474.17</td>\n",
       "      <td>2182.06</td>\n",
       "      <td>3372.02</td>\n",
       "      <td>18793.88</td>\n",
       "    </tr>\n",
       "    <tr>\n",
       "      <th>1994-01-13</th>\n",
       "      <td>472.47</td>\n",
       "      <td>2142.37</td>\n",
       "      <td>3360.01</td>\n",
       "      <td>18577.26</td>\n",
       "    </tr>\n",
       "  </tbody>\n",
       "</table>\n",
       "</div>"
      ],
      "text/plain": [
       "               spx      dax     ftse    nikkei\n",
       "date                                          \n",
       "1994-01-07  469.90  2224.95  3445.98  18124.01\n",
       "1994-01-10  475.27  2225.00  3440.58  18443.44\n",
       "1994-01-11  474.13  2228.10  3413.77  18485.25\n",
       "1994-01-12  474.17  2182.06  3372.02  18793.88\n",
       "1994-01-13  472.47  2142.37  3360.01  18577.26"
      ]
     },
     "execution_count": 18,
     "metadata": {},
     "output_type": "execute_result"
    }
   ],
   "source": [
    "df = raw_data.copy()\n",
    "df.date = pd.to_datetime(df.date, dayfirst = True)\n",
    "df.set_index('date', inplace = True)\n",
    "df = df.asfreq('b') # 'b' - business days\n",
    "df.fillna(method = 'ffill', inplace = True)\n",
    "df.head()"
   ]
  },
  {
   "cell_type": "code",
   "execution_count": 19,
   "id": "400e0574",
   "metadata": {},
   "outputs": [
    {
     "data": {
      "text/plain": [
       "spx       0\n",
       "dax       0\n",
       "ftse      0\n",
       "nikkei    0\n",
       "dtype: int64"
      ]
     },
     "execution_count": 19,
     "metadata": {},
     "output_type": "execute_result"
    }
   ],
   "source": [
    "df.isna().sum()"
   ]
  },
  {
   "cell_type": "markdown",
   "id": "75594fa6",
   "metadata": {},
   "source": [
    "## Using Returns"
   ]
  },
  {
   "cell_type": "code",
   "execution_count": 32,
   "id": "6f1cc06d",
   "metadata": {},
   "outputs": [
    {
     "data": {
      "text/html": [
       "<div>\n",
       "<style scoped>\n",
       "    .dataframe tbody tr th:only-of-type {\n",
       "        vertical-align: middle;\n",
       "    }\n",
       "\n",
       "    .dataframe tbody tr th {\n",
       "        vertical-align: top;\n",
       "    }\n",
       "\n",
       "    .dataframe thead th {\n",
       "        text-align: right;\n",
       "    }\n",
       "</style>\n",
       "<table border=\"1\" class=\"dataframe\">\n",
       "  <thead>\n",
       "    <tr style=\"text-align: right;\">\n",
       "      <th></th>\n",
       "      <th>spx</th>\n",
       "      <th>dax</th>\n",
       "      <th>ftse</th>\n",
       "      <th>nikkei</th>\n",
       "      <th>ftse_returns</th>\n",
       "    </tr>\n",
       "    <tr>\n",
       "      <th>date</th>\n",
       "      <th></th>\n",
       "      <th></th>\n",
       "      <th></th>\n",
       "      <th></th>\n",
       "      <th></th>\n",
       "    </tr>\n",
       "  </thead>\n",
       "  <tbody>\n",
       "    <tr>\n",
       "      <th>1994-01-10</th>\n",
       "      <td>475.27</td>\n",
       "      <td>2225.00</td>\n",
       "      <td>3440.58</td>\n",
       "      <td>18443.44</td>\n",
       "      <td>NaN</td>\n",
       "    </tr>\n",
       "    <tr>\n",
       "      <th>1994-01-11</th>\n",
       "      <td>474.13</td>\n",
       "      <td>2228.10</td>\n",
       "      <td>3413.77</td>\n",
       "      <td>18485.25</td>\n",
       "      <td>-0.779229</td>\n",
       "    </tr>\n",
       "    <tr>\n",
       "      <th>1994-01-12</th>\n",
       "      <td>474.17</td>\n",
       "      <td>2182.06</td>\n",
       "      <td>3372.02</td>\n",
       "      <td>18793.88</td>\n",
       "      <td>-1.222988</td>\n",
       "    </tr>\n",
       "    <tr>\n",
       "      <th>1994-01-13</th>\n",
       "      <td>472.47</td>\n",
       "      <td>2142.37</td>\n",
       "      <td>3360.01</td>\n",
       "      <td>18577.26</td>\n",
       "      <td>-0.356166</td>\n",
       "    </tr>\n",
       "    <tr>\n",
       "      <th>1994-01-14</th>\n",
       "      <td>474.91</td>\n",
       "      <td>2151.05</td>\n",
       "      <td>3400.56</td>\n",
       "      <td>18973.70</td>\n",
       "      <td>1.206842</td>\n",
       "    </tr>\n",
       "  </tbody>\n",
       "</table>\n",
       "</div>"
      ],
      "text/plain": [
       "               spx      dax     ftse    nikkei  ftse_returns\n",
       "date                                                        \n",
       "1994-01-10  475.27  2225.00  3440.58  18443.44           NaN\n",
       "1994-01-11  474.13  2228.10  3413.77  18485.25     -0.779229\n",
       "1994-01-12  474.17  2182.06  3372.02  18793.88     -1.222988\n",
       "1994-01-13  472.47  2142.37  3360.01  18577.26     -0.356166\n",
       "1994-01-14  474.91  2151.05  3400.56  18973.70      1.206842"
      ]
     },
     "execution_count": 32,
     "metadata": {},
     "output_type": "execute_result"
    }
   ],
   "source": [
    "# create returns out of prices\n",
    "# returns = (p(t) - p(t-1)) / p(t-1)\n",
    "df['ftse_returns'] = df.ftse.pct_change(1).mul(100)\n",
    "df.head()"
   ]
  },
  {
   "cell_type": "code",
   "execution_count": 30,
   "id": "9fbb53ff",
   "metadata": {},
   "outputs": [
    {
     "data": {
      "image/png": "[encoded data removed]",
      "text/plain": [
       "<Figure size 432x288 with 1 Axes>"
      ]
     },
     "metadata": {},
     "output_type": "display_data"
    }
   ],
   "source": [
    "import statsmodels.tsa.stattools as sts\n",
    "import statsmodels.graphics.tsaplots as sgt\n",
    "\n",
    "sgt.plot_acf(df.ftse_returns.iloc[1:], lags = 40, zero = False)\n",
    "plt.title('Autocorrelation function of FTSE Returns', size = 20)\n",
    "plt.show()"
   ]
  },
  {
   "cell_type": "code",
   "execution_count": 31,
   "id": "fc1b085a",
   "metadata": {},
   "outputs": [
    {
     "data": {
      "image/png": "[encoded data removed]",
      "text/plain": [
       "<Figure size 432x288 with 1 Axes>"
      ]
     },
     "metadata": {},
     "output_type": "display_data"
    }
   ],
   "source": [
    "sgt.plot_pacf(df.ftse_returns.iloc[1:], lags = 40, zero = False, alpha = 0.05, method = ('ols'))\n",
    "plt.title('PACF of FTSE Returns', size = 20)\n",
    "plt.show()"
   ]
  },
  {
   "cell_type": "markdown",
   "id": "7bd59ef2",
   "metadata": {},
   "source": [
    "## Log Likelihood Ratio (LLR) Test"
   ]
  },
  {
   "cell_type": "code",
   "execution_count": 37,
   "id": "8a62dc33",
   "metadata": {},
   "outputs": [],
   "source": [
    "from scipy.stats.distributions import chi2\n",
    "\n",
    "def LLR_test(model_1, model_2, DF = 1):\n",
    "    L1 = model_1.fit().llf\n",
    "    L2 = model_2.fit().llf\n",
    "    \n",
    "    LR = 2*(L2 - L1)\n",
    "    p = chi2.sf(LR, DF).round(3)\n",
    "    \n",
    "    return p"
   ]
  },
  {
   "cell_type": "markdown",
   "id": "110d6137",
   "metadata": {},
   "source": [
    "## MA(1) model for Returns"
   ]
  },
  {
   "cell_type": "code",
   "execution_count": 34,
   "id": "e920b49a",
   "metadata": {},
   "outputs": [
    {
     "data": {
      "text/html": [
       "<table class=\"simpletable\">\n",
       "<caption>SARIMAX Results</caption>\n",
       "<tr>\n",
       "  <th>Dep. Variable:</th>     <td>ftse_returns</td>   <th>  No. Observations:  </th>   <td>6275</td>   \n",
       "</tr>\n",
       "<tr>\n",
       "  <th>Model:</th>            <td>ARIMA(0, 0, 1)</td>  <th>  Log Likelihood     </th> <td>-9596.554</td>\n",
       "</tr>\n",
       "<tr>\n",
       "  <th>Date:</th>            <td>Wed, 16 Nov 2022</td> <th>  AIC                </th> <td>19199.107</td>\n",
       "</tr>\n",
       "<tr>\n",
       "  <th>Time:</th>                <td>23:54:26</td>     <th>  BIC                </th> <td>19219.340</td>\n",
       "</tr>\n",
       "<tr>\n",
       "  <th>Sample:</th>             <td>01-11-1994</td>    <th>  HQIC               </th> <td>19206.118</td>\n",
       "</tr>\n",
       "<tr>\n",
       "  <th></th>                   <td>- 01-29-2018</td>   <th>                     </th>     <td> </td>    \n",
       "</tr>\n",
       "<tr>\n",
       "  <th>Covariance Type:</th>        <td>opg</td>       <th>                     </th>     <td> </td>    \n",
       "</tr>\n",
       "</table>\n",
       "<table class=\"simpletable\">\n",
       "<tr>\n",
       "     <td></td>       <th>coef</th>     <th>std err</th>      <th>z</th>      <th>P>|z|</th>  <th>[0.025</th>    <th>0.975]</th>  \n",
       "</tr>\n",
       "<tr>\n",
       "  <th>const</th>  <td>    0.0190</td> <td>    0.014</td> <td>    1.357</td> <td> 0.175</td> <td>   -0.008</td> <td>    0.046</td>\n",
       "</tr>\n",
       "<tr>\n",
       "  <th>ma.L1</th>  <td>   -0.0196</td> <td>    0.007</td> <td>   -2.612</td> <td> 0.009</td> <td>   -0.034</td> <td>   -0.005</td>\n",
       "</tr>\n",
       "<tr>\n",
       "  <th>sigma2</th> <td>    1.2471</td> <td>    0.011</td> <td>  113.216</td> <td> 0.000</td> <td>    1.225</td> <td>    1.269</td>\n",
       "</tr>\n",
       "</table>\n",
       "<table class=\"simpletable\">\n",
       "<tr>\n",
       "  <th>Ljung-Box (L1) (Q):</th>     <td>0.01</td> <th>  Jarque-Bera (JB):  </th> <td>10487.32</td>\n",
       "</tr>\n",
       "<tr>\n",
       "  <th>Prob(Q):</th>                <td>0.94</td> <th>  Prob(JB):          </th>   <td>0.00</td>  \n",
       "</tr>\n",
       "<tr>\n",
       "  <th>Heteroskedasticity (H):</th> <td>0.85</td> <th>  Skew:              </th>   <td>-0.04</td> \n",
       "</tr>\n",
       "<tr>\n",
       "  <th>Prob(H) (two-sided):</th>    <td>0.00</td> <th>  Kurtosis:          </th>   <td>9.33</td>  \n",
       "</tr>\n",
       "</table><br/><br/>Warnings:<br/>[1] Covariance matrix calculated using the outer product of gradients (complex-step)."
      ],
      "text/plain": [
       "<class 'statsmodels.iolib.summary.Summary'>\n",
       "\"\"\"\n",
       "                               SARIMAX Results                                \n",
       "==============================================================================\n",
       "Dep. Variable:           ftse_returns   No. Observations:                 6275\n",
       "Model:                 ARIMA(0, 0, 1)   Log Likelihood               -9596.554\n",
       "Date:                Wed, 16 Nov 2022   AIC                          19199.107\n",
       "Time:                        23:54:26   BIC                          19219.340\n",
       "Sample:                    01-11-1994   HQIC                         19206.118\n",
       "                         - 01-29-2018                                         \n",
       "Covariance Type:                  opg                                         \n",
       "==============================================================================\n",
       "                 coef    std err          z      P>|z|      [0.025      0.975]\n",
       "------------------------------------------------------------------------------\n",
       "const          0.0190      0.014      1.357      0.175      -0.008       0.046\n",
       "ma.L1         -0.0196      0.007     -2.612      0.009      -0.034      -0.005\n",
       "sigma2         1.2471      0.011    113.216      0.000       1.225       1.269\n",
       "===================================================================================\n",
       "Ljung-Box (L1) (Q):                   0.01   Jarque-Bera (JB):             10487.32\n",
       "Prob(Q):                              0.94   Prob(JB):                         0.00\n",
       "Heteroskedasticity (H):               0.85   Skew:                            -0.04\n",
       "Prob(H) (two-sided):                  0.00   Kurtosis:                         9.33\n",
       "===================================================================================\n",
       "\n",
       "Warnings:\n",
       "[1] Covariance matrix calculated using the outer product of gradients (complex-step).\n",
       "\"\"\""
      ]
     },
     "execution_count": 34,
     "metadata": {},
     "output_type": "execute_result"
    }
   ],
   "source": [
    "from statsmodels.tsa.arima.model import ARIMA\n",
    "\n",
    "ma_1 = ARIMA(df.ftse_returns.iloc[1:], order = (0, 0, 1))\n",
    "results_ma_1 = ma_1.fit()\n",
    "results_ma_1.summary()"
   ]
  },
  {
   "cell_type": "markdown",
   "id": "d65badcf",
   "metadata": {},
   "source": [
    "## Higher-Lag MA Models"
   ]
  },
  {
   "cell_type": "code",
   "execution_count": 46,
   "id": "c0f1105d",
   "metadata": {},
   "outputs": [
    {
     "name": "stdout",
     "output_type": "stream",
     "text": [
      "LLR test p-value: 0.0\n",
      "\n",
      "\n",
      "                               SARIMAX Results                                \n",
      "==============================================================================\n",
      "Dep. Variable:           ftse_returns   No. Observations:                 6275\n",
      "Model:                 ARIMA(0, 0, 2)   Log Likelihood               -9588.784\n",
      "Date:                Thu, 17 Nov 2022   AIC                          19185.569\n",
      "Time:                        00:03:49   BIC                          19212.546\n",
      "Sample:                    01-11-1994   HQIC                         19194.916\n",
      "                         - 01-29-2018                                         \n",
      "Covariance Type:                  opg                                         \n",
      "==============================================================================\n",
      "                 coef    std err          z      P>|z|      [0.025      0.975]\n",
      "------------------------------------------------------------------------------\n",
      "const          0.0190      0.013      1.420      0.156      -0.007       0.045\n",
      "ma.L1         -0.0254      0.008     -3.337      0.001      -0.040      -0.010\n",
      "ma.L2         -0.0488      0.007     -7.042      0.000      -0.062      -0.035\n",
      "sigma2         1.2440      0.011    112.201      0.000       1.222       1.266\n",
      "===================================================================================\n",
      "Ljung-Box (L1) (Q):                   0.07   Jarque-Bera (JB):             10257.73\n",
      "Prob(Q):                              0.79   Prob(JB):                         0.00\n",
      "Heteroskedasticity (H):               0.85   Skew:                            -0.08\n",
      "Prob(H) (two-sided):                  0.00   Kurtosis:                         9.26\n",
      "===================================================================================\n",
      "\n",
      "Warnings:\n",
      "[1] Covariance matrix calculated using the outer product of gradients (complex-step).\n"
     ]
    }
   ],
   "source": [
    "ma_2 = ARIMA(df.ftse_returns.iloc[1:], order = (0, 0, 2))\n",
    "results_ma_2 = ma_2.fit()\n",
    "print(\"LLR test p-value: {}\\n\\n\".format(LLR_test(ma_1, ma_2)))\n",
    "print(results_ma_2.summary())"
   ]
  },
  {
   "cell_type": "code",
   "execution_count": 47,
   "id": "24cf978d",
   "metadata": {},
   "outputs": [
    {
     "name": "stdout",
     "output_type": "stream",
     "text": [
      "LLR test p-value: 0.0\n",
      "\n",
      "\n",
      "                               SARIMAX Results                                \n",
      "==============================================================================\n",
      "Dep. Variable:           ftse_returns   No. Observations:                 6275\n",
      "Model:                 ARIMA(0, 0, 3)   Log Likelihood               -9572.439\n",
      "Date:                Thu, 17 Nov 2022   AIC                          19154.877\n",
      "Time:                        00:07:53   BIC                          19188.599\n",
      "Sample:                    01-11-1994   HQIC                         19166.561\n",
      "                         - 01-29-2018                                         \n",
      "Covariance Type:                  opg                                         \n",
      "==============================================================================\n",
      "                 coef    std err          z      P>|z|      [0.025      0.975]\n",
      "------------------------------------------------------------------------------\n",
      "const          0.0191      0.013      1.502      0.133      -0.006       0.044\n",
      "ma.L1         -0.0175      0.008     -2.298      0.022      -0.032      -0.003\n",
      "ma.L2         -0.0539      0.007     -7.708      0.000      -0.068      -0.040\n",
      "ma.L3         -0.0749      0.007    -10.834      0.000      -0.088      -0.061\n",
      "sigma2         1.2375      0.011    108.067      0.000       1.215       1.260\n",
      "===================================================================================\n",
      "Ljung-Box (L1) (Q):                   0.04   Jarque-Bera (JB):              9291.42\n",
      "Prob(Q):                              0.85   Prob(JB):                         0.00\n",
      "Heteroskedasticity (H):               0.86   Skew:                            -0.16\n",
      "Prob(H) (two-sided):                  0.00   Kurtosis:                         8.95\n",
      "===================================================================================\n",
      "\n",
      "Warnings:\n",
      "[1] Covariance matrix calculated using the outer product of gradients (complex-step).\n"
     ]
    }
   ],
   "source": [
    "ma_3 = ARIMA(df.ftse_returns.iloc[1:], order = (0, 0, 3))\n",
    "results_ma_3 = ma_3.fit()\n",
    "print(\"LLR test p-value: {}\\n\\n\".format(LLR_test(ma_2, ma_3)))\n",
    "print(results_ma_3.summary())"
   ]
  },
  {
   "cell_type": "code",
   "execution_count": 48,
   "id": "953af5b7",
   "metadata": {},
   "outputs": [
    {
     "name": "stdout",
     "output_type": "stream",
     "text": [
      "LLR test p-value: 0.013\n",
      "\n",
      "\n",
      "                               SARIMAX Results                                \n",
      "==============================================================================\n",
      "Dep. Variable:           ftse_returns   No. Observations:                 6275\n",
      "Model:                 ARIMA(0, 0, 4)   Log Likelihood               -9569.355\n",
      "Date:                Thu, 17 Nov 2022   AIC                          19150.709\n",
      "Time:                        00:09:54   BIC                          19191.175\n",
      "Sample:                    01-11-1994   HQIC                         19164.730\n",
      "                         - 01-29-2018                                         \n",
      "Covariance Type:                  opg                                         \n",
      "==============================================================================\n",
      "                 coef    std err          z      P>|z|      [0.025      0.975]\n",
      "------------------------------------------------------------------------------\n",
      "const          0.0190      0.013      1.454      0.146      -0.007       0.045\n",
      "ma.L1         -0.0169      0.008     -2.151      0.032      -0.032      -0.002\n",
      "ma.L2         -0.0540      0.007     -7.619      0.000      -0.068      -0.040\n",
      "ma.L3         -0.0760      0.007    -10.853      0.000      -0.090      -0.062\n",
      "ma.L4          0.0306      0.008      4.072      0.000       0.016       0.045\n",
      "sigma2         1.2363      0.012    104.970      0.000       1.213       1.259\n",
      "===================================================================================\n",
      "Ljung-Box (L1) (Q):                   0.01   Jarque-Bera (JB):              8957.10\n",
      "Prob(Q):                              0.91   Prob(JB):                         0.00\n",
      "Heteroskedasticity (H):               0.86   Skew:                            -0.14\n",
      "Prob(H) (two-sided):                  0.00   Kurtosis:                         8.85\n",
      "===================================================================================\n",
      "\n",
      "Warnings:\n",
      "[1] Covariance matrix calculated using the outer product of gradients (complex-step).\n"
     ]
    }
   ],
   "source": [
    "ma_4 = ARIMA(df.ftse_returns.iloc[1:], order = (0, 0, 4))\n",
    "results_ma_4 = ma_4.fit()\n",
    "print(\"LLR test p-value: {}\\n\\n\".format(LLR_test(ma_3, ma_4)))\n",
    "print(results_ma_4.summary())"
   ]
  },
  {
   "cell_type": "code",
   "execution_count": 49,
   "id": "5568f5d1",
   "metadata": {},
   "outputs": [
    {
     "name": "stdout",
     "output_type": "stream",
     "text": [
      "LLR test p-value: 0.0\n",
      "\n",
      "\n",
      "                               SARIMAX Results                                \n",
      "==============================================================================\n",
      "Dep. Variable:           ftse_returns   No. Observations:                 6275\n",
      "Model:                 ARIMA(0, 0, 5)   Log Likelihood               -9561.590\n",
      "Date:                Thu, 17 Nov 2022   AIC                          19137.179\n",
      "Time:                        00:10:06   BIC                          19184.390\n",
      "Sample:                    01-11-1994   HQIC                         19153.537\n",
      "                         - 01-29-2018                                         \n",
      "Covariance Type:                  opg                                         \n",
      "==============================================================================\n",
      "                 coef    std err          z      P>|z|      [0.025      0.975]\n",
      "------------------------------------------------------------------------------\n",
      "const          0.0191      0.013      1.512      0.131      -0.006       0.044\n",
      "ma.L1         -0.0214      0.008     -2.657      0.008      -0.037      -0.006\n",
      "ma.L2         -0.0494      0.007     -6.940      0.000      -0.063      -0.035\n",
      "ma.L3         -0.0703      0.007     -9.893      0.000      -0.084      -0.056\n",
      "ma.L4          0.0312      0.008      4.130      0.000       0.016       0.046\n",
      "ma.L5         -0.0510      0.007     -7.197      0.000      -0.065      -0.037\n",
      "sigma2         1.2332      0.012    104.751      0.000       1.210       1.256\n",
      "===================================================================================\n",
      "Ljung-Box (L1) (Q):                   0.01   Jarque-Bera (JB):              8806.57\n",
      "Prob(Q):                              0.91   Prob(JB):                         0.00\n",
      "Heteroskedasticity (H):               0.86   Skew:                            -0.18\n",
      "Prob(H) (two-sided):                  0.00   Kurtosis:                         8.79\n",
      "===================================================================================\n",
      "\n",
      "Warnings:\n",
      "[1] Covariance matrix calculated using the outer product of gradients (complex-step).\n"
     ]
    }
   ],
   "source": [
    "ma_5 = ARIMA(df.ftse_returns.iloc[1:], order = (0, 0, 5))\n",
    "results_ma_5 = ma_5.fit()\n",
    "print(\"LLR test p-value: {}\\n\\n\".format(LLR_test(ma_4, ma_5)))\n",
    "print(results_ma_5.summary())"
   ]
  },
  {
   "cell_type": "code",
   "execution_count": 50,
   "id": "29f53c81",
   "metadata": {},
   "outputs": [
    {
     "name": "stdout",
     "output_type": "stream",
     "text": [
      "LLR test p-value: 0.019\n",
      "\n",
      "\n",
      "                               SARIMAX Results                                \n",
      "==============================================================================\n",
      "Dep. Variable:           ftse_returns   No. Observations:                 6275\n",
      "Model:                 ARIMA(0, 0, 6)   Log Likelihood               -9558.836\n",
      "Date:                Thu, 17 Nov 2022   AIC                          19133.672\n",
      "Time:                        00:10:19   BIC                          19187.626\n",
      "Sample:                    01-11-1994   HQIC                         19152.366\n",
      "                         - 01-29-2018                                         \n",
      "Covariance Type:                  opg                                         \n",
      "==============================================================================\n",
      "                 coef    std err          z      P>|z|      [0.025      0.975]\n",
      "------------------------------------------------------------------------------\n",
      "const          0.0191      0.012      1.545      0.122      -0.005       0.043\n",
      "ma.L1         -0.0195      0.008     -2.413      0.016      -0.035      -0.004\n",
      "ma.L2         -0.0487      0.007     -6.815      0.000      -0.063      -0.035\n",
      "ma.L3         -0.0685      0.007     -9.607      0.000      -0.083      -0.055\n",
      "ma.L4          0.0316      0.008      4.174      0.000       0.017       0.046\n",
      "ma.L5         -0.0505      0.007     -7.051      0.000      -0.065      -0.036\n",
      "ma.L6         -0.0303      0.008     -3.861      0.000      -0.046      -0.015\n",
      "sigma2         1.2321      0.012    105.010      0.000       1.209       1.255\n",
      "===================================================================================\n",
      "Ljung-Box (L1) (Q):                   0.00   Jarque-Bera (JB):              8931.90\n",
      "Prob(Q):                              0.99   Prob(JB):                         0.00\n",
      "Heteroskedasticity (H):               0.86   Skew:                            -0.19\n",
      "Prob(H) (two-sided):                  0.00   Kurtosis:                         8.83\n",
      "===================================================================================\n",
      "\n",
      "Warnings:\n",
      "[1] Covariance matrix calculated using the outer product of gradients (complex-step).\n"
     ]
    }
   ],
   "source": [
    "ma_6 = ARIMA(df.ftse_returns.iloc[1:], order = (0, 0, 6))\n",
    "results_ma_6 = ma_6.fit()\n",
    "print(\"LLR test p-value: {}\\n\\n\".format(LLR_test(ma_5, ma_6)))\n",
    "print(results_ma_6.summary())"
   ]
  },
  {
   "cell_type": "code",
   "execution_count": 51,
   "id": "1dd4d1d1",
   "metadata": {},
   "outputs": [
    {
     "name": "stdout",
     "output_type": "stream",
     "text": [
      "LLR test p-value: 0.552\n",
      "\n",
      "\n",
      "                               SARIMAX Results                                \n",
      "==============================================================================\n",
      "Dep. Variable:           ftse_returns   No. Observations:                 6275\n",
      "Model:                 ARIMA(0, 0, 7)   Log Likelihood               -9558.659\n",
      "Date:                Thu, 17 Nov 2022   AIC                          19135.318\n",
      "Time:                        00:10:38   BIC                          19196.017\n",
      "Sample:                    01-11-1994   HQIC                         19156.350\n",
      "                         - 01-29-2018                                         \n",
      "Covariance Type:                  opg                                         \n",
      "==============================================================================\n",
      "                 coef    std err          z      P>|z|      [0.025      0.975]\n",
      "------------------------------------------------------------------------------\n",
      "const          0.0191      0.012      1.528      0.127      -0.005       0.044\n",
      "ma.L1         -0.0201      0.008     -2.475      0.013      -0.036      -0.004\n",
      "ma.L2         -0.0491      0.007     -6.847      0.000      -0.063      -0.035\n",
      "ma.L3         -0.0681      0.007     -9.432      0.000      -0.082      -0.054\n",
      "ma.L4          0.0311      0.008      4.108      0.000       0.016       0.046\n",
      "ma.L5         -0.0505      0.007     -7.047      0.000      -0.065      -0.036\n",
      "ma.L6         -0.0305      0.008     -3.853      0.000      -0.046      -0.015\n",
      "ma.L7          0.0076      0.008      0.963      0.335      -0.008       0.023\n",
      "sigma2         1.2321      0.012    104.219      0.000       1.209       1.255\n",
      "===================================================================================\n",
      "Ljung-Box (L1) (Q):                   0.00   Jarque-Bera (JB):              8901.26\n",
      "Prob(Q):                              0.99   Prob(JB):                         0.00\n",
      "Heteroskedasticity (H):               0.86   Skew:                            -0.18\n",
      "Prob(H) (two-sided):                  0.00   Kurtosis:                         8.82\n",
      "===================================================================================\n",
      "\n",
      "Warnings:\n",
      "[1] Covariance matrix calculated using the outer product of gradients (complex-step).\n"
     ]
    }
   ],
   "source": [
    "ma_7 = ARIMA(df.ftse_returns.iloc[1:], order = (0, 0, 7))\n",
    "results_ma_7 = ma_7.fit()\n",
    "print(\"LLR test p-value: {}\\n\\n\".format(LLR_test(ma_6, ma_7)))\n",
    "print(results_ma_7.summary())"
   ]
  },
  {
   "cell_type": "code",
   "execution_count": 52,
   "id": "c10dfe69",
   "metadata": {},
   "outputs": [
    {
     "name": "stdout",
     "output_type": "stream",
     "text": [
      "LLR test p-value: 0.04\n",
      "\n",
      "\n",
      "                               SARIMAX Results                                \n",
      "==============================================================================\n",
      "Dep. Variable:           ftse_returns   No. Observations:                 6275\n",
      "Model:                 ARIMA(0, 0, 8)   Log Likelihood               -9556.558\n",
      "Date:                Thu, 17 Nov 2022   AIC                          19133.115\n",
      "Time:                        00:13:38   BIC                          19200.558\n",
      "Sample:                    01-11-1994   HQIC                         19156.483\n",
      "                         - 01-29-2018                                         \n",
      "Covariance Type:                  opg                                         \n",
      "==============================================================================\n",
      "                 coef    std err          z      P>|z|      [0.025      0.975]\n",
      "------------------------------------------------------------------------------\n",
      "const          0.0191      0.013      1.484      0.138      -0.006       0.044\n",
      "ma.L1         -0.0198      0.008     -2.408      0.016      -0.036      -0.004\n",
      "ma.L2         -0.0492      0.007     -6.832      0.000      -0.063      -0.035\n",
      "ma.L3         -0.0694      0.007     -9.617      0.000      -0.084      -0.055\n",
      "ma.L4          0.0330      0.008      4.335      0.000       0.018       0.048\n",
      "ma.L5         -0.0523      0.007     -7.214      0.000      -0.067      -0.038\n",
      "ma.L6         -0.0311      0.008     -3.907      0.000      -0.047      -0.016\n",
      "ma.L7          0.0076      0.008      0.970      0.332      -0.008       0.023\n",
      "ma.L8          0.0255      0.008      3.080      0.002       0.009       0.042\n",
      "sigma2         1.2312      0.012    104.125      0.000       1.208       1.254\n",
      "===================================================================================\n",
      "Ljung-Box (L1) (Q):                   0.00   Jarque-Bera (JB):              8822.30\n",
      "Prob(Q):                              1.00   Prob(JB):                         0.00\n",
      "Heteroskedasticity (H):               0.87   Skew:                            -0.17\n",
      "Prob(H) (two-sided):                  0.00   Kurtosis:                         8.80\n",
      "===================================================================================\n",
      "\n",
      "Warnings:\n",
      "[1] Covariance matrix calculated using the outer product of gradients (complex-step).\n"
     ]
    }
   ],
   "source": [
    "# see ACF plot:\n",
    "# the 7th value is not significant but the 8th is!\n",
    "# this is why we continue to increase number of lags in the model\n",
    "# there is a huge chance that we can get a better model\n",
    "\n",
    "ma_8 = ARIMA(df.ftse_returns.iloc[1:], order = (0, 0, 8))\n",
    "results_ma_8 = ma_8.fit()\n",
    "print(\"LLR test p-value: {}\\n\\n\".format(LLR_test(ma_7, ma_8)))\n",
    "print(results_ma_8.summary())"
   ]
  },
  {
   "cell_type": "code",
   "execution_count": 55,
   "id": "39fa43c3",
   "metadata": {},
   "outputs": [
    {
     "name": "stdout",
     "output_type": "stream",
     "text": [
      "LLR test p-value: 0.102\n"
     ]
    }
   ],
   "source": [
    "# MA(8) > MA(7) - p-value = 0.04\n",
    "# but MA(7) < MA(6)\n",
    "# MA(8) > MA(6) - ?\n",
    "\n",
    "print(\"LLR test p-value: {}\".format(LLR_test(ma_6, ma_8, DF = 2)))\n",
    "# Using 5% significance we can conclude that MA(6) is better then MA(8)"
   ]
  },
  {
   "cell_type": "markdown",
   "id": "4442660b",
   "metadata": {},
   "source": [
    "## Residuals for Returns"
   ]
  },
  {
   "cell_type": "code",
   "execution_count": 68,
   "id": "69aea252",
   "metadata": {},
   "outputs": [
    {
     "data": {
      "text/html": [
       "<div>\n",
       "<style scoped>\n",
       "    .dataframe tbody tr th:only-of-type {\n",
       "        vertical-align: middle;\n",
       "    }\n",
       "\n",
       "    .dataframe tbody tr th {\n",
       "        vertical-align: top;\n",
       "    }\n",
       "\n",
       "    .dataframe thead th {\n",
       "        text-align: right;\n",
       "    }\n",
       "</style>\n",
       "<table border=\"1\" class=\"dataframe\">\n",
       "  <thead>\n",
       "    <tr style=\"text-align: right;\">\n",
       "      <th></th>\n",
       "      <th>spx</th>\n",
       "      <th>dax</th>\n",
       "      <th>ftse</th>\n",
       "      <th>nikkei</th>\n",
       "      <th>ftse_returns</th>\n",
       "      <th>ftse_returns_residuals</th>\n",
       "    </tr>\n",
       "    <tr>\n",
       "      <th>date</th>\n",
       "      <th></th>\n",
       "      <th></th>\n",
       "      <th></th>\n",
       "      <th></th>\n",
       "      <th></th>\n",
       "      <th></th>\n",
       "    </tr>\n",
       "  </thead>\n",
       "  <tbody>\n",
       "    <tr>\n",
       "      <th>1994-01-10</th>\n",
       "      <td>475.27</td>\n",
       "      <td>2225.00</td>\n",
       "      <td>3440.58</td>\n",
       "      <td>18443.44</td>\n",
       "      <td>NaN</td>\n",
       "      <td>NaN</td>\n",
       "    </tr>\n",
       "    <tr>\n",
       "      <th>1994-01-11</th>\n",
       "      <td>474.13</td>\n",
       "      <td>2228.10</td>\n",
       "      <td>3413.77</td>\n",
       "      <td>18485.25</td>\n",
       "      <td>-0.779229</td>\n",
       "      <td>NaN</td>\n",
       "    </tr>\n",
       "    <tr>\n",
       "      <th>1994-01-12</th>\n",
       "      <td>474.17</td>\n",
       "      <td>2182.06</td>\n",
       "      <td>3372.02</td>\n",
       "      <td>18793.88</td>\n",
       "      <td>-1.222988</td>\n",
       "      <td>-1.255786</td>\n",
       "    </tr>\n",
       "    <tr>\n",
       "      <th>1994-01-13</th>\n",
       "      <td>472.47</td>\n",
       "      <td>2142.37</td>\n",
       "      <td>3360.01</td>\n",
       "      <td>18577.26</td>\n",
       "      <td>-0.356166</td>\n",
       "      <td>-0.434485</td>\n",
       "    </tr>\n",
       "    <tr>\n",
       "      <th>1994-01-14</th>\n",
       "      <td>474.91</td>\n",
       "      <td>2151.05</td>\n",
       "      <td>3400.56</td>\n",
       "      <td>18973.70</td>\n",
       "      <td>1.206842</td>\n",
       "      <td>1.068632</td>\n",
       "    </tr>\n",
       "  </tbody>\n",
       "</table>\n",
       "</div>"
      ],
      "text/plain": [
       "               spx      dax     ftse    nikkei  ftse_returns  \\\n",
       "date                                                           \n",
       "1994-01-10  475.27  2225.00  3440.58  18443.44           NaN   \n",
       "1994-01-11  474.13  2228.10  3413.77  18485.25     -0.779229   \n",
       "1994-01-12  474.17  2182.06  3372.02  18793.88     -1.222988   \n",
       "1994-01-13  472.47  2142.37  3360.01  18577.26     -0.356166   \n",
       "1994-01-14  474.91  2151.05  3400.56  18973.70      1.206842   \n",
       "\n",
       "            ftse_returns_residuals  \n",
       "date                                \n",
       "1994-01-10                     NaN  \n",
       "1994-01-11                     NaN  \n",
       "1994-01-12               -1.255786  \n",
       "1994-01-13               -0.434485  \n",
       "1994-01-14                1.068632  "
      ]
     },
     "execution_count": 68,
     "metadata": {},
     "output_type": "execute_result"
    }
   ],
   "source": [
    "df['ftse_returns_residuals'] = results_ma_6.resid[1:]\n",
    "df.head()"
   ]
  },
  {
   "cell_type": "code",
   "execution_count": 69,
   "id": "092588d3",
   "metadata": {},
   "outputs": [
    {
     "name": "stdout",
     "output_type": "stream",
     "text": [
      "Mean: 0.0, \n",
      "variance: 1.232, \n",
      "std: 1.11\n"
     ]
    }
   ],
   "source": [
    "print(\"Mean: {}, \\nvariance: {}, \\nstd: {}\".format(round(df.ftse_returns_residuals.mean(), 3),\n",
    "                                                   round(df.ftse_returns_residuals.var(), 3), \n",
    "                                                   round(df.ftse_returns_residuals.std(), 3)))"
   ]
  },
  {
   "cell_type": "code",
   "execution_count": 70,
   "id": "80f58341",
   "metadata": {},
   "outputs": [
    {
     "data": {
      "image/png": "[encoded data removed]",
      "text/plain": [
       "<Figure size 1440x360 with 1 Axes>"
      ]
     },
     "metadata": {},
     "output_type": "display_data"
    }
   ],
   "source": [
    "df.ftse_returns_residuals.iloc[1:].plot(figsize = (20, 5))\n",
    "plt.title('Residuals of Returns', size = 20)\n",
    "plt.show()"
   ]
  },
  {
   "cell_type": "code",
   "execution_count": 71,
   "id": "4070c9e7",
   "metadata": {},
   "outputs": [
    {
     "data": {
      "text/plain": [
       "(-14.929107279859418,\n",
       " 1.3748282829085766e-27,\n",
       " 34,\n",
       " 6239,\n",
       " {'1%': -3.43139856427888,\n",
       "  '5%': -2.8620033722813014,\n",
       "  '10%': -2.567016650141434},\n",
       " 19019.662124080714)"
      ]
     },
     "execution_count": 71,
     "metadata": {},
     "output_type": "execute_result"
    }
   ],
   "source": [
    "sts.adfuller(df.ftse_returns_residuals.iloc[2:]) # p-value ~ 0"
   ]
  },
  {
   "cell_type": "code",
   "execution_count": 72,
   "id": "36340352",
   "metadata": {},
   "outputs": [
    {
     "data": {
      "image/png": "[encoded data removed]",
      "text/plain": [
       "<Figure size 432x288 with 1 Axes>"
      ]
     },
     "metadata": {},
     "output_type": "display_data"
    }
   ],
   "source": [
    "sgt.plot_acf(df.ftse_returns_residuals.iloc[2:], lags = 40, zero = False)\n",
    "plt.title('ACF of Residuals for Returns', size = 20)\n",
    "plt.show()"
   ]
  }
 ],
 "metadata": {
  "kernelspec": {
   "display_name": "Python 3",
   "language": "python",
   "name": "python3"
  },
  "language_info": {
   "codemirror_mode": {
    "name": "ipython",
    "version": 3
   },
   "file_extension": ".py",
   "mimetype": "text/x-python",
   "name": "python",
   "nbconvert_exporter": "python",
   "pygments_lexer": "ipython3",
   "version": "3.8.8"
  }
 },
 "nbformat": 4,
 "nbformat_minor": 5
}
