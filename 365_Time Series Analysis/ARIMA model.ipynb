{
 "cells": [
  {
   "cell_type": "code",
   "execution_count": 1,
   "id": "d8775d88",
   "metadata": {},
   "outputs": [],
   "source": [
    "import numpy as np\n",
    "import pandas as pd\n",
    "import matplotlib.pyplot as plt\n",
    "import seaborn as sns\n",
    "sns.set()"
   ]
  },
  {
   "cell_type": "markdown",
   "id": "06c3cdbf",
   "metadata": {},
   "source": [
    "## Importing the data"
   ]
  },
  {
   "cell_type": "code",
   "execution_count": 2,
   "id": "cdc7acb7",
   "metadata": {},
   "outputs": [
    {
     "data": {
      "text/html": [
       "<div>\n",
       "<style scoped>\n",
       "    .dataframe tbody tr th:only-of-type {\n",
       "        vertical-align: middle;\n",
       "    }\n",
       "\n",
       "    .dataframe tbody tr th {\n",
       "        vertical-align: top;\n",
       "    }\n",
       "\n",
       "    .dataframe thead th {\n",
       "        text-align: right;\n",
       "    }\n",
       "</style>\n",
       "<table border=\"1\" class=\"dataframe\">\n",
       "  <thead>\n",
       "    <tr style=\"text-align: right;\">\n",
       "      <th></th>\n",
       "      <th>date</th>\n",
       "      <th>spx</th>\n",
       "      <th>dax</th>\n",
       "      <th>ftse</th>\n",
       "      <th>nikkei</th>\n",
       "    </tr>\n",
       "  </thead>\n",
       "  <tbody>\n",
       "    <tr>\n",
       "      <th>0</th>\n",
       "      <td>07/01/1994</td>\n",
       "      <td>469.90</td>\n",
       "      <td>2224.95</td>\n",
       "      <td>3445.98</td>\n",
       "      <td>18124.01</td>\n",
       "    </tr>\n",
       "    <tr>\n",
       "      <th>1</th>\n",
       "      <td>10/01/1994</td>\n",
       "      <td>475.27</td>\n",
       "      <td>2225.00</td>\n",
       "      <td>3440.58</td>\n",
       "      <td>18443.44</td>\n",
       "    </tr>\n",
       "    <tr>\n",
       "      <th>2</th>\n",
       "      <td>11/01/1994</td>\n",
       "      <td>474.13</td>\n",
       "      <td>2228.10</td>\n",
       "      <td>3413.77</td>\n",
       "      <td>18485.25</td>\n",
       "    </tr>\n",
       "    <tr>\n",
       "      <th>3</th>\n",
       "      <td>12/01/1994</td>\n",
       "      <td>474.17</td>\n",
       "      <td>2182.06</td>\n",
       "      <td>3372.02</td>\n",
       "      <td>18793.88</td>\n",
       "    </tr>\n",
       "    <tr>\n",
       "      <th>4</th>\n",
       "      <td>13/01/1994</td>\n",
       "      <td>472.47</td>\n",
       "      <td>2142.37</td>\n",
       "      <td>3360.01</td>\n",
       "      <td>18577.26</td>\n",
       "    </tr>\n",
       "  </tbody>\n",
       "</table>\n",
       "</div>"
      ],
      "text/plain": [
       "         date     spx      dax     ftse    nikkei\n",
       "0  07/01/1994  469.90  2224.95  3445.98  18124.01\n",
       "1  10/01/1994  475.27  2225.00  3440.58  18443.44\n",
       "2  11/01/1994  474.13  2228.10  3413.77  18485.25\n",
       "3  12/01/1994  474.17  2182.06  3372.02  18793.88\n",
       "4  13/01/1994  472.47  2142.37  3360.01  18577.26"
      ]
     },
     "execution_count": 2,
     "metadata": {},
     "output_type": "execute_result"
    }
   ],
   "source": [
    "raw_data = pd.read_csv('Index2018.csv')\n",
    "raw_data.head()\n",
    "# market indexes"
   ]
  },
  {
   "cell_type": "markdown",
   "id": "231f7c3b",
   "metadata": {},
   "source": [
    "## Transform raw data into Time-Series Data"
   ]
  },
  {
   "cell_type": "code",
   "execution_count": 3,
   "id": "bc0fbc7f",
   "metadata": {},
   "outputs": [
    {
     "data": {
      "text/html": [
       "<div>\n",
       "<style scoped>\n",
       "    .dataframe tbody tr th:only-of-type {\n",
       "        vertical-align: middle;\n",
       "    }\n",
       "\n",
       "    .dataframe tbody tr th {\n",
       "        vertical-align: top;\n",
       "    }\n",
       "\n",
       "    .dataframe thead th {\n",
       "        text-align: right;\n",
       "    }\n",
       "</style>\n",
       "<table border=\"1\" class=\"dataframe\">\n",
       "  <thead>\n",
       "    <tr style=\"text-align: right;\">\n",
       "      <th></th>\n",
       "      <th>spx</th>\n",
       "      <th>dax</th>\n",
       "      <th>ftse</th>\n",
       "      <th>nikkei</th>\n",
       "    </tr>\n",
       "    <tr>\n",
       "      <th>date</th>\n",
       "      <th></th>\n",
       "      <th></th>\n",
       "      <th></th>\n",
       "      <th></th>\n",
       "    </tr>\n",
       "  </thead>\n",
       "  <tbody>\n",
       "    <tr>\n",
       "      <th>1994-01-07</th>\n",
       "      <td>469.90</td>\n",
       "      <td>2224.95</td>\n",
       "      <td>3445.98</td>\n",
       "      <td>18124.01</td>\n",
       "    </tr>\n",
       "    <tr>\n",
       "      <th>1994-01-10</th>\n",
       "      <td>475.27</td>\n",
       "      <td>2225.00</td>\n",
       "      <td>3440.58</td>\n",
       "      <td>18443.44</td>\n",
       "    </tr>\n",
       "    <tr>\n",
       "      <th>1994-01-11</th>\n",
       "      <td>474.13</td>\n",
       "      <td>2228.10</td>\n",
       "      <td>3413.77</td>\n",
       "      <td>18485.25</td>\n",
       "    </tr>\n",
       "    <tr>\n",
       "      <th>1994-01-12</th>\n",
       "      <td>474.17</td>\n",
       "      <td>2182.06</td>\n",
       "      <td>3372.02</td>\n",
       "      <td>18793.88</td>\n",
       "    </tr>\n",
       "    <tr>\n",
       "      <th>1994-01-13</th>\n",
       "      <td>472.47</td>\n",
       "      <td>2142.37</td>\n",
       "      <td>3360.01</td>\n",
       "      <td>18577.26</td>\n",
       "    </tr>\n",
       "  </tbody>\n",
       "</table>\n",
       "</div>"
      ],
      "text/plain": [
       "               spx      dax     ftse    nikkei\n",
       "date                                          \n",
       "1994-01-07  469.90  2224.95  3445.98  18124.01\n",
       "1994-01-10  475.27  2225.00  3440.58  18443.44\n",
       "1994-01-11  474.13  2228.10  3413.77  18485.25\n",
       "1994-01-12  474.17  2182.06  3372.02  18793.88\n",
       "1994-01-13  472.47  2142.37  3360.01  18577.26"
      ]
     },
     "execution_count": 3,
     "metadata": {},
     "output_type": "execute_result"
    }
   ],
   "source": [
    "df = raw_data.copy()\n",
    "df.date = pd.to_datetime(df.date, dayfirst = True)\n",
    "df.set_index('date', inplace = True)\n",
    "df = df.asfreq('b') # 'b' - business days\n",
    "df.fillna(method = 'ffill', inplace = True)\n",
    "df.head()"
   ]
  },
  {
   "cell_type": "code",
   "execution_count": 4,
   "id": "400e0574",
   "metadata": {},
   "outputs": [
    {
     "data": {
      "text/plain": [
       "spx       0\n",
       "dax       0\n",
       "ftse      0\n",
       "nikkei    0\n",
       "dtype: int64"
      ]
     },
     "execution_count": 4,
     "metadata": {},
     "output_type": "execute_result"
    }
   ],
   "source": [
    "df.isna().sum()"
   ]
  },
  {
   "cell_type": "markdown",
   "id": "75594fa6",
   "metadata": {},
   "source": [
    "## Using Returns"
   ]
  },
  {
   "cell_type": "code",
   "execution_count": 5,
   "id": "6f1cc06d",
   "metadata": {},
   "outputs": [
    {
     "data": {
      "text/html": [
       "<div>\n",
       "<style scoped>\n",
       "    .dataframe tbody tr th:only-of-type {\n",
       "        vertical-align: middle;\n",
       "    }\n",
       "\n",
       "    .dataframe tbody tr th {\n",
       "        vertical-align: top;\n",
       "    }\n",
       "\n",
       "    .dataframe thead th {\n",
       "        text-align: right;\n",
       "    }\n",
       "</style>\n",
       "<table border=\"1\" class=\"dataframe\">\n",
       "  <thead>\n",
       "    <tr style=\"text-align: right;\">\n",
       "      <th></th>\n",
       "      <th>spx</th>\n",
       "      <th>dax</th>\n",
       "      <th>ftse</th>\n",
       "      <th>nikkei</th>\n",
       "      <th>ftse_returns</th>\n",
       "    </tr>\n",
       "    <tr>\n",
       "      <th>date</th>\n",
       "      <th></th>\n",
       "      <th></th>\n",
       "      <th></th>\n",
       "      <th></th>\n",
       "      <th></th>\n",
       "    </tr>\n",
       "  </thead>\n",
       "  <tbody>\n",
       "    <tr>\n",
       "      <th>1994-01-07</th>\n",
       "      <td>469.90</td>\n",
       "      <td>2224.95</td>\n",
       "      <td>3445.98</td>\n",
       "      <td>18124.01</td>\n",
       "      <td>NaN</td>\n",
       "    </tr>\n",
       "    <tr>\n",
       "      <th>1994-01-10</th>\n",
       "      <td>475.27</td>\n",
       "      <td>2225.00</td>\n",
       "      <td>3440.58</td>\n",
       "      <td>18443.44</td>\n",
       "      <td>-0.156704</td>\n",
       "    </tr>\n",
       "    <tr>\n",
       "      <th>1994-01-11</th>\n",
       "      <td>474.13</td>\n",
       "      <td>2228.10</td>\n",
       "      <td>3413.77</td>\n",
       "      <td>18485.25</td>\n",
       "      <td>-0.779229</td>\n",
       "    </tr>\n",
       "    <tr>\n",
       "      <th>1994-01-12</th>\n",
       "      <td>474.17</td>\n",
       "      <td>2182.06</td>\n",
       "      <td>3372.02</td>\n",
       "      <td>18793.88</td>\n",
       "      <td>-1.222988</td>\n",
       "    </tr>\n",
       "    <tr>\n",
       "      <th>1994-01-13</th>\n",
       "      <td>472.47</td>\n",
       "      <td>2142.37</td>\n",
       "      <td>3360.01</td>\n",
       "      <td>18577.26</td>\n",
       "      <td>-0.356166</td>\n",
       "    </tr>\n",
       "  </tbody>\n",
       "</table>\n",
       "</div>"
      ],
      "text/plain": [
       "               spx      dax     ftse    nikkei  ftse_returns\n",
       "date                                                        \n",
       "1994-01-07  469.90  2224.95  3445.98  18124.01           NaN\n",
       "1994-01-10  475.27  2225.00  3440.58  18443.44     -0.156704\n",
       "1994-01-11  474.13  2228.10  3413.77  18485.25     -0.779229\n",
       "1994-01-12  474.17  2182.06  3372.02  18793.88     -1.222988\n",
       "1994-01-13  472.47  2142.37  3360.01  18577.26     -0.356166"
      ]
     },
     "execution_count": 5,
     "metadata": {},
     "output_type": "execute_result"
    }
   ],
   "source": [
    "# create returns out of prices\n",
    "# returns = (p(t) - p(t-1)) / p(t-1)\n",
    "df['ftse_returns'] = df.ftse.pct_change(1).mul(100)\n",
    "df.head()"
   ]
  },
  {
   "cell_type": "code",
   "execution_count": 6,
   "id": "9fbb53ff",
   "metadata": {},
   "outputs": [
    {
     "data": {
      "image/png": "[encoded data removed]",
      "text/plain": [
       "<Figure size 432x288 with 1 Axes>"
      ]
     },
     "metadata": {},
     "output_type": "display_data"
    }
   ],
   "source": [
    "import statsmodels.graphics.tsaplots as sgt\n",
    "\n",
    "sgt.plot_acf(df.ftse_returns.iloc[1:], lags = 40, zero = False)\n",
    "plt.title('Autocorrelation function of FTSE Returns', size = 20)\n",
    "plt.show()"
   ]
  },
  {
   "cell_type": "code",
   "execution_count": 7,
   "id": "fc1b085a",
   "metadata": {},
   "outputs": [
    {
     "data": {
      "image/png": "[encoded data removed]",
      "text/plain": [
       "<Figure size 432x288 with 1 Axes>"
      ]
     },
     "metadata": {},
     "output_type": "display_data"
    }
   ],
   "source": [
    "sgt.plot_pacf(df.ftse_returns.iloc[1:], lags = 40, zero = False, alpha = 0.05, method = ('ols'))\n",
    "plt.title('PACF of FTSE Returns', size = 20)\n",
    "plt.show()"
   ]
  },
  {
   "cell_type": "markdown",
   "id": "7bd59ef2",
   "metadata": {},
   "source": [
    "## Log Likelihood Ratio (LLR) Test"
   ]
  },
  {
   "cell_type": "code",
   "execution_count": 8,
   "id": "8a62dc33",
   "metadata": {},
   "outputs": [],
   "source": [
    "from scipy.stats.distributions import chi2\n",
    "\n",
    "def LLR_test(model_1, model_2, DF = 1):\n",
    "    L1 = model_1.fit().llf\n",
    "    L2 = model_2.fit().llf\n",
    "    \n",
    "    LR = 2*(L2 - L1)\n",
    "    p = chi2.sf(LR, DF).round(3)\n",
    "    \n",
    "    return p"
   ]
  },
  {
   "cell_type": "markdown",
   "id": "110d6137",
   "metadata": {},
   "source": [
    "## ARIMA(1, 1, 1) model"
   ]
  },
  {
   "cell_type": "code",
   "execution_count": 9,
   "id": "e920b49a",
   "metadata": {},
   "outputs": [
    {
     "name": "stderr",
     "output_type": "stream",
     "text": [
      "C:\\Users\\0x17h\\anaconda3\\lib\\site-packages\\statsmodels\\tsa\\statespace\\sarimax.py:966: UserWarning: Non-stationary starting autoregressive parameters found. Using zeros as starting parameters.\n",
      "  warn('Non-stationary starting autoregressive parameters'\n",
      "C:\\Users\\0x17h\\anaconda3\\lib\\site-packages\\statsmodels\\tsa\\statespace\\sarimax.py:978: UserWarning: Non-invertible starting MA parameters found. Using zeros as starting parameters.\n",
      "  warn('Non-invertible starting MA parameters found.'\n"
     ]
    },
    {
     "data": {
      "text/html": [
       "<table class=\"simpletable\">\n",
       "<caption>SARIMAX Results</caption>\n",
       "<tr>\n",
       "  <th>Dep. Variable:</th>         <td>ftse</td>       <th>  No. Observations:  </th>    <td>6277</td>   \n",
       "</tr>\n",
       "<tr>\n",
       "  <th>Model:</th>            <td>ARIMA(1, 1, 1)</td>  <th>  Log Likelihood     </th> <td>-34417.640</td>\n",
       "</tr>\n",
       "<tr>\n",
       "  <th>Date:</th>            <td>Thu, 17 Nov 2022</td> <th>  AIC                </th>  <td>68843.279</td>\n",
       "</tr>\n",
       "<tr>\n",
       "  <th>Time:</th>                <td>18:56:29</td>     <th>  BIC                </th>  <td>68870.257</td>\n",
       "</tr>\n",
       "<tr>\n",
       "  <th>Sample:</th>             <td>01-07-1994</td>    <th>  HQIC               </th>  <td>68852.626</td>\n",
       "</tr>\n",
       "<tr>\n",
       "  <th></th>                   <td>- 01-29-2018</td>   <th>                     </th>      <td> </td>    \n",
       "</tr>\n",
       "<tr>\n",
       "  <th>Covariance Type:</th>        <td>opg</td>       <th>                     </th>      <td> </td>    \n",
       "</tr>\n",
       "</table>\n",
       "<table class=\"simpletable\">\n",
       "<tr>\n",
       "     <td></td>       <th>coef</th>     <th>std err</th>      <th>z</th>      <th>P>|z|</th>  <th>[0.025</th>    <th>0.975]</th>  \n",
       "</tr>\n",
       "<tr>\n",
       "  <th>x1</th>     <td>    0.6748</td> <td>    0.651</td> <td>    1.037</td> <td> 0.300</td> <td>   -0.601</td> <td>    1.950</td>\n",
       "</tr>\n",
       "<tr>\n",
       "  <th>ar.L1</th>  <td>    0.8345</td> <td>    0.040</td> <td>   20.742</td> <td> 0.000</td> <td>    0.756</td> <td>    0.913</td>\n",
       "</tr>\n",
       "<tr>\n",
       "  <th>ma.L1</th>  <td>   -0.8692</td> <td>    0.036</td> <td>  -24.153</td> <td> 0.000</td> <td>   -0.940</td> <td>   -0.799</td>\n",
       "</tr>\n",
       "<tr>\n",
       "  <th>sigma2</th> <td> 3396.0828</td> <td>   36.414</td> <td>   93.262</td> <td> 0.000</td> <td> 3324.712</td> <td> 3467.454</td>\n",
       "</tr>\n",
       "</table>\n",
       "<table class=\"simpletable\">\n",
       "<tr>\n",
       "  <th>Ljung-Box (L1) (Q):</th>     <td>2.81</td> <th>  Jarque-Bera (JB):  </th> <td>3738.34</td>\n",
       "</tr>\n",
       "<tr>\n",
       "  <th>Prob(Q):</th>                <td>0.09</td> <th>  Prob(JB):          </th>  <td>0.00</td>  \n",
       "</tr>\n",
       "<tr>\n",
       "  <th>Heteroskedasticity (H):</th> <td>1.05</td> <th>  Skew:              </th>  <td>-0.32</td> \n",
       "</tr>\n",
       "<tr>\n",
       "  <th>Prob(H) (two-sided):</th>    <td>0.23</td> <th>  Kurtosis:          </th>  <td>6.72</td>  \n",
       "</tr>\n",
       "</table><br/><br/>Warnings:<br/>[1] Covariance matrix calculated using the outer product of gradients (complex-step)."
      ],
      "text/plain": [
       "<class 'statsmodels.iolib.summary.Summary'>\n",
       "\"\"\"\n",
       "                               SARIMAX Results                                \n",
       "==============================================================================\n",
       "Dep. Variable:                   ftse   No. Observations:                 6277\n",
       "Model:                 ARIMA(1, 1, 1)   Log Likelihood              -34417.640\n",
       "Date:                Thu, 17 Nov 2022   AIC                          68843.279\n",
       "Time:                        18:56:29   BIC                          68870.257\n",
       "Sample:                    01-07-1994   HQIC                         68852.626\n",
       "                         - 01-29-2018                                         \n",
       "Covariance Type:                  opg                                         \n",
       "==============================================================================\n",
       "                 coef    std err          z      P>|z|      [0.025      0.975]\n",
       "------------------------------------------------------------------------------\n",
       "x1             0.6748      0.651      1.037      0.300      -0.601       1.950\n",
       "ar.L1          0.8345      0.040     20.742      0.000       0.756       0.913\n",
       "ma.L1         -0.8692      0.036    -24.153      0.000      -0.940      -0.799\n",
       "sigma2      3396.0828     36.414     93.262      0.000    3324.712    3467.454\n",
       "===================================================================================\n",
       "Ljung-Box (L1) (Q):                   2.81   Jarque-Bera (JB):              3738.34\n",
       "Prob(Q):                              0.09   Prob(JB):                         0.00\n",
       "Heteroskedasticity (H):               1.05   Skew:                            -0.32\n",
       "Prob(H) (two-sided):                  0.23   Kurtosis:                         6.72\n",
       "===================================================================================\n",
       "\n",
       "Warnings:\n",
       "[1] Covariance matrix calculated using the outer product of gradients (complex-step).\n",
       "\"\"\""
      ]
     },
     "execution_count": 9,
     "metadata": {},
     "output_type": "execute_result"
    }
   ],
   "source": [
    "from statsmodels.tsa.arima.model import ARIMA\n",
    "\n",
    "# use price values, not returns!\n",
    "arima_1_1_1 = ARIMA(df.ftse, order = (1, 1, 1), trend = 't')\n",
    "results_arima_1_1_1 = arima_1_1_1.fit()\n",
    "results_arima_1_1_1.summary()"
   ]
  },
  {
   "cell_type": "markdown",
   "id": "60f640f3",
   "metadata": {},
   "source": [
    "## Residuals of ARIMA(1, 1, 1)"
   ]
  },
  {
   "cell_type": "code",
   "execution_count": 10,
   "id": "b13ad62d",
   "metadata": {},
   "outputs": [
    {
     "data": {
      "image/png": "[encoded data removed]",
      "text/plain": [
       "<Figure size 432x288 with 1 Axes>"
      ]
     },
     "metadata": {},
     "output_type": "display_data"
    }
   ],
   "source": [
    "sgt.plot_acf(results_arima_1_1_1.resid.iloc[1:], lags = 40, zero = False)\n",
    "plt.title('ACF of ARMA(1, 1, 1) Residuals', size = 20)\n",
    "plt.show()\n",
    "\n",
    "#the 3rd and 4th lag look significant \n",
    "# so oncorporating these lags into our model might significantly improve performance"
   ]
  },
  {
   "cell_type": "markdown",
   "id": "d0109f89",
   "metadata": {},
   "source": [
    "## Higher-Lag ARIMA Models"
   ]
  },
  {
   "cell_type": "code",
   "execution_count": 11,
   "id": "b1c1e627",
   "metadata": {},
   "outputs": [],
   "source": [
    "arima_1_1_2 = ARIMA(df.ftse, order = (1, 1, 2), trend = 't')\n",
    "results_arima_1_1_2 = arima_1_1_2.fit()"
   ]
  },
  {
   "cell_type": "code",
   "execution_count": 12,
   "id": "1d6d241f",
   "metadata": {},
   "outputs": [],
   "source": [
    "arima_1_1_3 = ARIMA(df.ftse, order = (1, 1, 3), trend = 't')\n",
    "results_arima_1_1_3 = arima_1_1_3.fit()"
   ]
  },
  {
   "cell_type": "code",
   "execution_count": 13,
   "id": "c88520c1",
   "metadata": {},
   "outputs": [
    {
     "name": "stderr",
     "output_type": "stream",
     "text": [
      "C:\\Users\\0x17h\\anaconda3\\lib\\site-packages\\statsmodels\\tsa\\statespace\\sarimax.py:966: UserWarning: Non-stationary starting autoregressive parameters found. Using zeros as starting parameters.\n",
      "  warn('Non-stationary starting autoregressive parameters'\n",
      "C:\\Users\\0x17h\\anaconda3\\lib\\site-packages\\statsmodels\\tsa\\statespace\\sarimax.py:978: UserWarning: Non-invertible starting MA parameters found. Using zeros as starting parameters.\n",
      "  warn('Non-invertible starting MA parameters found.'\n"
     ]
    }
   ],
   "source": [
    "arima_2_1_1 = ARIMA(df.ftse, order = (2, 1, 1), trend = 't')\n",
    "results_arima_2_1_1 = arima_2_1_1.fit()"
   ]
  },
  {
   "cell_type": "code",
   "execution_count": 14,
   "id": "dd2a2603",
   "metadata": {},
   "outputs": [],
   "source": [
    "arima_3_1_1 = ARIMA(df.ftse, order = (3, 1, 1), trend = 't')\n",
    "results_arima_3_1_1 = arima_3_1_1.fit()"
   ]
  },
  {
   "cell_type": "code",
   "execution_count": 15,
   "id": "a24576f2",
   "metadata": {},
   "outputs": [],
   "source": [
    "arima_3_1_2 = ARIMA(df.ftse, order = (3, 1, 2), trend = 't')\n",
    "results_arima_3_1_2 = arima_3_1_2.fit()"
   ]
  },
  {
   "cell_type": "code",
   "execution_count": 16,
   "id": "777291e1",
   "metadata": {},
   "outputs": [
    {
     "name": "stdout",
     "output_type": "stream",
     "text": [
      "ARIMA(1, 1, 1) \tLL: -34417.63955442267, \tAIC: 68843.27910884534\n",
      "ARIMA(1, 1, 2) \tLL: -34413.656065305666, \tAIC: 68837.31213061133\n",
      "ARIMA(1, 1, 3) \tLL: -34410.77123091695, \tAIC: 68833.5424618339\n",
      "ARIMA(2, 1, 1) \tLL: -34413.513513094294, \tAIC: 68837.02702618859\n",
      "ARIMA(3, 1, 1) \tLL: -34412.27306117971, \tAIC: 68836.54612235942\n",
      "ARIMA(3, 1, 2) \tLL: -34410.80565044164, \tAIC: 68835.61130088328\n"
     ]
    }
   ],
   "source": [
    "print('ARIMA(1, 1, 1) \\tLL: {}, \\tAIC: {}'.format(results_arima_1_1_1.llf, results_arima_1_1_1.aic))\n",
    "print('ARIMA(1, 1, 2) \\tLL: {}, \\tAIC: {}'.format(results_arima_1_1_2.llf, results_arima_1_1_2.aic))\n",
    "print('ARIMA(1, 1, 3) \\tLL: {}, \\tAIC: {}'.format(results_arima_1_1_3.llf, results_arima_1_1_3.aic))\n",
    "print('ARIMA(2, 1, 1) \\tLL: {}, \\tAIC: {}'.format(results_arima_2_1_1.llf, results_arima_2_1_1.aic))\n",
    "print('ARIMA(3, 1, 1) \\tLL: {}, \\tAIC: {}'.format(results_arima_3_1_1.llf, results_arima_3_1_1.aic))\n",
    "print('ARIMA(3, 1, 2) \\tLL: {}, \\tAIC: {}'.format(results_arima_3_1_2.llf, results_arima_3_1_2.aic))\n",
    "\n",
    "# best model is ARIMA(1, 1, 3)"
   ]
  },
  {
   "cell_type": "code",
   "execution_count": 17,
   "id": "0f09e286",
   "metadata": {},
   "outputs": [
    {
     "data": {
      "text/plain": [
       "0.001"
      ]
     },
     "execution_count": 17,
     "metadata": {},
     "output_type": "execute_result"
    }
   ],
   "source": [
    "# but ARIMA(1, 1, 1) and ARIMA(1, 1, 2) models are both nested for the ARIMA(1, 1, 3)\n",
    "# we need to run LLR test to make sure it significantly outperforms them\n",
    "LLR_test(arima_1_1_1, arima_1_1_3, DF = 2)"
   ]
  },
  {
   "cell_type": "code",
   "execution_count": 18,
   "id": "e0216470",
   "metadata": {},
   "outputs": [
    {
     "data": {
      "text/plain": [
       "0.016"
      ]
     },
     "execution_count": 18,
     "metadata": {},
     "output_type": "execute_result"
    }
   ],
   "source": [
    "LLR_test(arima_1_1_2, arima_1_1_3, DF = 1)"
   ]
  },
  {
   "cell_type": "markdown",
   "id": "d6821d7d",
   "metadata": {},
   "source": [
    "So as a result we can conclude that ARIMA(1, 1, 3) is the best choice"
   ]
  },
  {
   "cell_type": "markdown",
   "id": "758a5431",
   "metadata": {},
   "source": [
    "## Explore Residuals of ARIMA(1, 1, 3)"
   ]
  },
  {
   "cell_type": "code",
   "execution_count": 19,
   "id": "825929bf",
   "metadata": {},
   "outputs": [
    {
     "data": {
      "image/png": "[encoded data removed]",
      "text/plain": [
       "<Figure size 432x288 with 1 Axes>"
      ]
     },
     "metadata": {},
     "output_type": "display_data"
    }
   ],
   "source": [
    "sgt.plot_acf(results_arima_1_1_3.resid.iloc[1:], lags = 40, zero = False)\n",
    "plt.title('ACF of ARMA(1, 1, 3) Residuals', size = 20)\n",
    "plt.show()\n",
    "\n",
    "# it might be a better model that includes 5 and 6 lags!"
   ]
  },
  {
   "cell_type": "code",
   "execution_count": 20,
   "id": "7c42afde",
   "metadata": {},
   "outputs": [],
   "source": [
    "arima_5_1_1 = ARIMA(df.ftse, order = (5, 1, 1), trend = 't')\n",
    "results_arima_5_1_1 = arima_5_1_1.fit()"
   ]
  },
  {
   "cell_type": "code",
   "execution_count": 21,
   "id": "d512080c",
   "metadata": {},
   "outputs": [],
   "source": [
    "arima_6_1_3 = ARIMA(df.ftse, order = (6, 1, 3), trend = 't')\n",
    "results_arima_6_1_3 = arima_6_1_3.fit()"
   ]
  },
  {
   "cell_type": "code",
   "execution_count": 22,
   "id": "09317819",
   "metadata": {},
   "outputs": [
    {
     "name": "stdout",
     "output_type": "stream",
     "text": [
      "ARIMA(1, 1, 3) \tLL: -34410.77123091695, \tAIC: 68833.5424618339\n",
      "ARIMA(5, 1, 1) \tLL: -34406.527814174595, \tAIC: 68829.05562834919\n",
      "ARIMA(6, 1, 3) \tLL: -34405.1247539128, \tAIC: 68832.2495078256\n"
     ]
    }
   ],
   "source": [
    "print('ARIMA(1, 1, 3) \\tLL: {}, \\tAIC: {}'.format(results_arima_1_1_3.llf, results_arima_1_1_3.aic))\n",
    "print('ARIMA(5, 1, 1) \\tLL: {}, \\tAIC: {}'.format(results_arima_5_1_1.llf, results_arima_5_1_1.aic))\n",
    "print('ARIMA(6, 1, 3) \\tLL: {}, \\tAIC: {}'.format(results_arima_6_1_3.llf, results_arima_6_1_3.aic))"
   ]
  },
  {
   "cell_type": "code",
   "execution_count": 23,
   "id": "50e77329",
   "metadata": {},
   "outputs": [
    {
     "data": {
      "text/plain": [
       "0.422"
      ]
     },
     "execution_count": 23,
     "metadata": {},
     "output_type": "execute_result"
    }
   ],
   "source": [
    "# ARIMA(5, 1, 1) vs ARIMA(6, 1, 3)\n",
    "LLR_test(arima_5_1_1, arima_6_1_3, DF = 3)"
   ]
  },
  {
   "cell_type": "code",
   "execution_count": 24,
   "id": "d564729e",
   "metadata": {},
   "outputs": [
    {
     "data": {
      "text/plain": [
       "0.046"
      ]
     },
     "execution_count": 24,
     "metadata": {},
     "output_type": "execute_result"
    }
   ],
   "source": [
    "# ARIMA(1, 1, 3) vs ARIMA(6, 1, 3)\n",
    "LLR_test(arima_1_1_3, arima_6_1_3, DF = 5)"
   ]
  },
  {
   "cell_type": "markdown",
   "id": "2b7b6b67",
   "metadata": {},
   "source": [
    "**ARIMA(5, 1, 1)** > ARIMA(6, 1, 3) > ARIMA(1, 1, 3)<br/>\n",
    "ARIMA(5, 1, 1) is the best model"
   ]
  },
  {
   "cell_type": "code",
   "execution_count": 25,
   "id": "295a2480",
   "metadata": {},
   "outputs": [
    {
     "data": {
      "image/png": "[encoded data removed]",
      "text/plain": [
       "<Figure size 432x288 with 1 Axes>"
      ]
     },
     "metadata": {},
     "output_type": "display_data"
    }
   ],
   "source": [
    "sgt.plot_acf(results_arima_5_1_1.resid.iloc[1:], lags = 40, zero = False)\n",
    "plt.title('ACF of ARMA(5, 1, 1) Residuals', size = 20)\n",
    "plt.show()"
   ]
  },
  {
   "cell_type": "code",
   "execution_count": 26,
   "id": "abcf8081",
   "metadata": {},
   "outputs": [
    {
     "data": {
      "text/html": [
       "<table class=\"simpletable\">\n",
       "<caption>SARIMAX Results</caption>\n",
       "<tr>\n",
       "  <th>Dep. Variable:</th>         <td>ftse</td>       <th>  No. Observations:  </th>    <td>6277</td>   \n",
       "</tr>\n",
       "<tr>\n",
       "  <th>Model:</th>            <td>ARIMA(5, 1, 1)</td>  <th>  Log Likelihood     </th> <td>-34406.528</td>\n",
       "</tr>\n",
       "<tr>\n",
       "  <th>Date:</th>            <td>Thu, 17 Nov 2022</td> <th>  AIC                </th>  <td>68829.056</td>\n",
       "</tr>\n",
       "<tr>\n",
       "  <th>Time:</th>                <td>18:59:36</td>     <th>  BIC                </th>  <td>68883.012</td>\n",
       "</tr>\n",
       "<tr>\n",
       "  <th>Sample:</th>             <td>01-07-1994</td>    <th>  HQIC               </th>  <td>68847.750</td>\n",
       "</tr>\n",
       "<tr>\n",
       "  <th></th>                   <td>- 01-29-2018</td>   <th>                     </th>      <td> </td>    \n",
       "</tr>\n",
       "<tr>\n",
       "  <th>Covariance Type:</th>        <td>opg</td>       <th>                     </th>      <td> </td>    \n",
       "</tr>\n",
       "</table>\n",
       "<table class=\"simpletable\">\n",
       "<tr>\n",
       "     <td></td>       <th>coef</th>     <th>std err</th>      <th>z</th>      <th>P>|z|</th>  <th>[0.025</th>    <th>0.975]</th>  \n",
       "</tr>\n",
       "<tr>\n",
       "  <th>x1</th>     <td>    0.6735</td> <td>    0.667</td> <td>    1.009</td> <td> 0.313</td> <td>   -0.634</td> <td>    1.981</td>\n",
       "</tr>\n",
       "<tr>\n",
       "  <th>ar.L1</th>  <td>    0.3697</td> <td>    0.160</td> <td>    2.316</td> <td> 0.021</td> <td>    0.057</td> <td>    0.683</td>\n",
       "</tr>\n",
       "<tr>\n",
       "  <th>ar.L2</th>  <td>   -0.0457</td> <td>    0.009</td> <td>   -4.876</td> <td> 0.000</td> <td>   -0.064</td> <td>   -0.027</td>\n",
       "</tr>\n",
       "<tr>\n",
       "  <th>ar.L3</th>  <td>   -0.0382</td> <td>    0.012</td> <td>   -3.223</td> <td> 0.001</td> <td>   -0.061</td> <td>   -0.015</td>\n",
       "</tr>\n",
       "<tr>\n",
       "  <th>ar.L4</th>  <td>    0.0293</td> <td>    0.013</td> <td>    2.322</td> <td> 0.020</td> <td>    0.005</td> <td>    0.054</td>\n",
       "</tr>\n",
       "<tr>\n",
       "  <th>ar.L5</th>  <td>   -0.0454</td> <td>    0.008</td> <td>   -5.435</td> <td> 0.000</td> <td>   -0.062</td> <td>   -0.029</td>\n",
       "</tr>\n",
       "<tr>\n",
       "  <th>ma.L1</th>  <td>   -0.3820</td> <td>    0.160</td> <td>   -2.386</td> <td> 0.017</td> <td>   -0.696</td> <td>   -0.068</td>\n",
       "</tr>\n",
       "<tr>\n",
       "  <th>sigma2</th> <td> 3386.5365</td> <td>   37.145</td> <td>   91.171</td> <td> 0.000</td> <td> 3313.734</td> <td> 3459.339</td>\n",
       "</tr>\n",
       "</table>\n",
       "<table class=\"simpletable\">\n",
       "<tr>\n",
       "  <th>Ljung-Box (L1) (Q):</th>     <td>0.00</td> <th>  Jarque-Bera (JB):  </th> <td>3484.19</td>\n",
       "</tr>\n",
       "<tr>\n",
       "  <th>Prob(Q):</th>                <td>0.98</td> <th>  Prob(JB):          </th>  <td>0.00</td>  \n",
       "</tr>\n",
       "<tr>\n",
       "  <th>Heteroskedasticity (H):</th> <td>1.07</td> <th>  Skew:              </th>  <td>-0.30</td> \n",
       "</tr>\n",
       "<tr>\n",
       "  <th>Prob(H) (two-sided):</th>    <td>0.13</td> <th>  Kurtosis:          </th>  <td>6.60</td>  \n",
       "</tr>\n",
       "</table><br/><br/>Warnings:<br/>[1] Covariance matrix calculated using the outer product of gradients (complex-step)."
      ],
      "text/plain": [
       "<class 'statsmodels.iolib.summary.Summary'>\n",
       "\"\"\"\n",
       "                               SARIMAX Results                                \n",
       "==============================================================================\n",
       "Dep. Variable:                   ftse   No. Observations:                 6277\n",
       "Model:                 ARIMA(5, 1, 1)   Log Likelihood              -34406.528\n",
       "Date:                Thu, 17 Nov 2022   AIC                          68829.056\n",
       "Time:                        18:59:36   BIC                          68883.012\n",
       "Sample:                    01-07-1994   HQIC                         68847.750\n",
       "                         - 01-29-2018                                         \n",
       "Covariance Type:                  opg                                         \n",
       "==============================================================================\n",
       "                 coef    std err          z      P>|z|      [0.025      0.975]\n",
       "------------------------------------------------------------------------------\n",
       "x1             0.6735      0.667      1.009      0.313      -0.634       1.981\n",
       "ar.L1          0.3697      0.160      2.316      0.021       0.057       0.683\n",
       "ar.L2         -0.0457      0.009     -4.876      0.000      -0.064      -0.027\n",
       "ar.L3         -0.0382      0.012     -3.223      0.001      -0.061      -0.015\n",
       "ar.L4          0.0293      0.013      2.322      0.020       0.005       0.054\n",
       "ar.L5         -0.0454      0.008     -5.435      0.000      -0.062      -0.029\n",
       "ma.L1         -0.3820      0.160     -2.386      0.017      -0.696      -0.068\n",
       "sigma2      3386.5365     37.145     91.171      0.000    3313.734    3459.339\n",
       "===================================================================================\n",
       "Ljung-Box (L1) (Q):                   0.00   Jarque-Bera (JB):              3484.19\n",
       "Prob(Q):                              0.98   Prob(JB):                         0.00\n",
       "Heteroskedasticity (H):               1.07   Skew:                            -0.30\n",
       "Prob(H) (two-sided):                  0.13   Kurtosis:                         6.60\n",
       "===================================================================================\n",
       "\n",
       "Warnings:\n",
       "[1] Covariance matrix calculated using the outer product of gradients (complex-step).\n",
       "\"\"\""
      ]
     },
     "execution_count": 26,
     "metadata": {},
     "output_type": "execute_result"
    }
   ],
   "source": [
    "results_arima_5_1_1.summary()"
   ]
  },
  {
   "cell_type": "markdown",
   "id": "d49fdff9",
   "metadata": {},
   "source": [
    "## Models with higher levels of Integration"
   ]
  },
  {
   "cell_type": "code",
   "execution_count": 27,
   "id": "68374c56",
   "metadata": {},
   "outputs": [],
   "source": [
    "df['delta_ftse'] = df.ftse.diff(1)"
   ]
  },
  {
   "cell_type": "code",
   "execution_count": 28,
   "id": "e7fc79b9",
   "metadata": {},
   "outputs": [
    {
     "name": "stderr",
     "output_type": "stream",
     "text": [
      "C:\\Users\\0x17h\\anaconda3\\lib\\site-packages\\statsmodels\\tsa\\statespace\\sarimax.py:966: UserWarning: Non-stationary starting autoregressive parameters found. Using zeros as starting parameters.\n",
      "  warn('Non-stationary starting autoregressive parameters'\n",
      "C:\\Users\\0x17h\\anaconda3\\lib\\site-packages\\statsmodels\\tsa\\statespace\\sarimax.py:978: UserWarning: Non-invertible starting MA parameters found. Using zeros as starting parameters.\n",
      "  warn('Non-invertible starting MA parameters found.'\n"
     ]
    },
    {
     "data": {
      "text/html": [
       "<table class=\"simpletable\">\n",
       "<caption>SARIMAX Results</caption>\n",
       "<tr>\n",
       "  <th>Dep. Variable:</th>      <td>delta_ftse</td>    <th>  No. Observations:  </th>    <td>6276</td>   \n",
       "</tr>\n",
       "<tr>\n",
       "  <th>Model:</th>            <td>ARIMA(1, 0, 1)</td>  <th>  Log Likelihood     </th> <td>-34417.643</td>\n",
       "</tr>\n",
       "<tr>\n",
       "  <th>Date:</th>            <td>Thu, 17 Nov 2022</td> <th>  AIC                </th>  <td>68843.285</td>\n",
       "</tr>\n",
       "<tr>\n",
       "  <th>Time:</th>                <td>18:59:43</td>     <th>  BIC                </th>  <td>68870.263</td>\n",
       "</tr>\n",
       "<tr>\n",
       "  <th>Sample:</th>             <td>01-10-1994</td>    <th>  HQIC               </th>  <td>68852.633</td>\n",
       "</tr>\n",
       "<tr>\n",
       "  <th></th>                   <td>- 01-29-2018</td>   <th>                     </th>      <td> </td>    \n",
       "</tr>\n",
       "<tr>\n",
       "  <th>Covariance Type:</th>        <td>opg</td>       <th>                     </th>      <td> </td>    \n",
       "</tr>\n",
       "</table>\n",
       "<table class=\"simpletable\">\n",
       "<tr>\n",
       "     <td></td>       <th>coef</th>     <th>std err</th>      <th>z</th>      <th>P>|z|</th>  <th>[0.025</th>    <th>0.975]</th>  \n",
       "</tr>\n",
       "<tr>\n",
       "  <th>const</th>  <td>    0.6746</td> <td>    0.650</td> <td>    1.037</td> <td> 0.300</td> <td>   -0.600</td> <td>    1.949</td>\n",
       "</tr>\n",
       "<tr>\n",
       "  <th>ar.L1</th>  <td>    0.8356</td> <td>    0.040</td> <td>   20.896</td> <td> 0.000</td> <td>    0.757</td> <td>    0.914</td>\n",
       "</tr>\n",
       "<tr>\n",
       "  <th>ma.L1</th>  <td>   -0.8702</td> <td>    0.036</td> <td>  -24.338</td> <td> 0.000</td> <td>   -0.940</td> <td>   -0.800</td>\n",
       "</tr>\n",
       "<tr>\n",
       "  <th>sigma2</th> <td> 3395.4411</td> <td>   36.399</td> <td>   93.284</td> <td> 0.000</td> <td> 3324.100</td> <td> 3466.782</td>\n",
       "</tr>\n",
       "</table>\n",
       "<table class=\"simpletable\">\n",
       "<tr>\n",
       "  <th>Ljung-Box (L1) (Q):</th>     <td>2.78</td> <th>  Jarque-Bera (JB):  </th> <td>3739.27</td>\n",
       "</tr>\n",
       "<tr>\n",
       "  <th>Prob(Q):</th>                <td>0.10</td> <th>  Prob(JB):          </th>  <td>0.00</td>  \n",
       "</tr>\n",
       "<tr>\n",
       "  <th>Heteroskedasticity (H):</th> <td>1.05</td> <th>  Skew:              </th>  <td>-0.32</td> \n",
       "</tr>\n",
       "<tr>\n",
       "  <th>Prob(H) (two-sided):</th>    <td>0.23</td> <th>  Kurtosis:          </th>  <td>6.73</td>  \n",
       "</tr>\n",
       "</table><br/><br/>Warnings:<br/>[1] Covariance matrix calculated using the outer product of gradients (complex-step)."
      ],
      "text/plain": [
       "<class 'statsmodels.iolib.summary.Summary'>\n",
       "\"\"\"\n",
       "                               SARIMAX Results                                \n",
       "==============================================================================\n",
       "Dep. Variable:             delta_ftse   No. Observations:                 6276\n",
       "Model:                 ARIMA(1, 0, 1)   Log Likelihood              -34417.643\n",
       "Date:                Thu, 17 Nov 2022   AIC                          68843.285\n",
       "Time:                        18:59:43   BIC                          68870.263\n",
       "Sample:                    01-10-1994   HQIC                         68852.633\n",
       "                         - 01-29-2018                                         \n",
       "Covariance Type:                  opg                                         \n",
       "==============================================================================\n",
       "                 coef    std err          z      P>|z|      [0.025      0.975]\n",
       "------------------------------------------------------------------------------\n",
       "const          0.6746      0.650      1.037      0.300      -0.600       1.949\n",
       "ar.L1          0.8356      0.040     20.896      0.000       0.757       0.914\n",
       "ma.L1         -0.8702      0.036    -24.338      0.000      -0.940      -0.800\n",
       "sigma2      3395.4411     36.399     93.284      0.000    3324.100    3466.782\n",
       "===================================================================================\n",
       "Ljung-Box (L1) (Q):                   2.78   Jarque-Bera (JB):              3739.27\n",
       "Prob(Q):                              0.10   Prob(JB):                         0.00\n",
       "Heteroskedasticity (H):               1.05   Skew:                            -0.32\n",
       "Prob(H) (two-sided):                  0.23   Kurtosis:                         6.73\n",
       "===================================================================================\n",
       "\n",
       "Warnings:\n",
       "[1] Covariance matrix calculated using the outer product of gradients (complex-step).\n",
       "\"\"\""
      ]
     },
     "execution_count": 28,
     "metadata": {},
     "output_type": "execute_result"
    }
   ],
   "source": [
    "# trying to fit ARMA(1, 1) for delta values\n",
    "# we expect to get the same results as for ARIMA(1, 1, 1) model\n",
    "arma_1_1 = ARIMA(df.delta_ftse[1:], order = (1, 0, 1), trend = 'c')\n",
    "results_arma_1_1 = arma_1_1.fit()\n",
    "results_arma_1_1.summary()"
   ]
  },
  {
   "cell_type": "code",
   "execution_count": 29,
   "id": "78f1cbf6",
   "metadata": {},
   "outputs": [
    {
     "data": {
      "text/plain": [
       "(-35.62356825180309,\n",
       " 0.0,\n",
       " 5,\n",
       " 6270,\n",
       " {'1%': -3.4313933778649943,\n",
       "  '5%': -2.862001080749219,\n",
       "  '10%': -2.567015430304048},\n",
       " 68467.67159603654)"
      ]
     },
     "execution_count": 29,
     "metadata": {},
     "output_type": "execute_result"
    }
   ],
   "source": [
    "import statsmodels.tsa.stattools as sts\n",
    "\n",
    "sts.adfuller(df.delta_ftse[1:])"
   ]
  }
 ],
 "metadata": {
  "kernelspec": {
   "display_name": "Python 3",
   "language": "python",
   "name": "python3"
  },
  "language_info": {
   "codemirror_mode": {
    "name": "ipython",
    "version": 3
   },
   "file_extension": ".py",
   "mimetype": "text/x-python",
   "name": "python",
   "nbconvert_exporter": "python",
   "pygments_lexer": "ipython3",
   "version": "3.8.8"
  }
 },
 "nbformat": 4,
 "nbformat_minor": 5
}
